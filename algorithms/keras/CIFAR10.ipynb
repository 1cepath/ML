{
  "nbformat": 4,
  "nbformat_minor": 0,
  "metadata": {
    "colab": {
      "name": "CIFAR10.ipynb",
      "version": "0.3.2",
      "provenance": [],
      "collapsed_sections": [],
      "include_colab_link": true
    },
    "kernelspec": {
      "name": "python3",
      "display_name": "Python 3"
    },
    "accelerator": "GPU"
  },
  "cells": [
    {
      "cell_type": "markdown",
      "metadata": {
        "id": "view-in-github",
        "colab_type": "text"
      },
      "source": [
        "<a href=\"https://colab.research.google.com/github/getmubarak/ML/blob/master/algorithms/keras/CIFAR10.ipynb\" target=\"_parent\"><img src=\"https://colab.research.google.com/assets/colab-badge.svg\" alt=\"Open In Colab\"/></a>"
      ]
    },
    {
      "cell_type": "markdown",
      "metadata": {
        "id": "_0iZwcOO0s75",
        "colab_type": "text"
      },
      "source": [
        "## Data Setup"
      ]
    },
    {
      "cell_type": "code",
      "metadata": {
        "id": "24mgFn4gLrYl",
        "colab_type": "code",
        "outputId": "28c851ca-6296-4c4d-9a19-910c6bee2576",
        "colab": {
          "base_uri": "https://localhost:8080/",
          "height": 34
        }
      },
      "source": [
        "from keras.datasets import cifar10"
      ],
      "execution_count": 1,
      "outputs": [
        {
          "output_type": "stream",
          "text": [
            "Using TensorFlow backend.\n"
          ],
          "name": "stderr"
        }
      ]
    },
    {
      "cell_type": "code",
      "metadata": {
        "id": "7fy6Ncisq1q_",
        "colab_type": "code",
        "colab": {
          "base_uri": "https://localhost:8080/",
          "height": 51
        },
        "outputId": "481950d9-dffa-4fba-f312-aa214ac51c11"
      },
      "source": [
        "(x_train, y_train_), (x_test, y_test_) = cifar10.load_data()"
      ],
      "execution_count": 2,
      "outputs": [
        {
          "output_type": "stream",
          "text": [
            "Downloading data from https://www.cs.toronto.edu/~kriz/cifar-10-python.tar.gz\n",
            "170500096/170498071 [==============================] - 3s 0us/step\n"
          ],
          "name": "stdout"
        }
      ]
    },
    {
      "cell_type": "code",
      "metadata": {
        "id": "d-qGB6-F6rNB",
        "colab_type": "code",
        "colab": {}
      },
      "source": [
        "import matplotlib.pyplot as plt\n",
        "from matplotlib import ticker\n",
        "%matplotlib inline \n",
        "\n",
        "dict = {0:'Airplane', 1:'Automobile', 2:'Bird', 3:'Cat', 4:'Deer', 5:'Dog', 6:'Frog', 7:'Horse', 8:'Ship', 9:'Truck'}\n",
        "def plot_image(number):\n",
        "    fig = plt.figure(figsize = (5,3))\n",
        "    plt.imshow(x_train[number])\n",
        "    plt.title(dict[y_train_[number][0]])"
      ],
      "execution_count": 0,
      "outputs": []
    },
    {
      "cell_type": "code",
      "metadata": {
        "id": "nfWbBz5q6wPb",
        "colab_type": "code",
        "colab": {
          "base_uri": "https://localhost:8080/",
          "height": 227
        },
        "outputId": "60a2d29d-0afd-44af-b908-094d80b7b070"
      },
      "source": [
        "plot_image(321)\n"
      ],
      "execution_count": 29,
      "outputs": [
        {
          "output_type": "display_data",
          "data": {
            "image/png": "[encoded data removed]",
            "text/plain": [
              "<Figure size 360x216 with 1 Axes>"
            ]
          },
          "metadata": {
            "tags": []
          }
        }
      ]
    },
    {
      "cell_type": "code",
      "metadata": {
        "id": "Rok3es7FTZz9",
        "colab_type": "code",
        "colab": {}
      },
      "source": [
        "x_train = x_train.astype('float32') / 255\n",
        "x_test = x_test.astype('float32') / 255"
      ],
      "execution_count": 0,
      "outputs": []
    },
    {
      "cell_type": "code",
      "metadata": {
        "id": "-8GIUxRcq_Yc",
        "colab_type": "code",
        "colab": {}
      },
      "source": [
        "from keras.utils import to_categorical\n",
        "y_train = to_categorical(y_train_)\n",
        "y_test = to_categorical(y_test_)"
      ],
      "execution_count": 0,
      "outputs": []
    },
    {
      "cell_type": "markdown",
      "metadata": {
        "id": "HB4tl71n5NRo",
        "colab_type": "text"
      },
      "source": [
        "## Model Definition"
      ]
    },
    {
      "cell_type": "code",
      "metadata": {
        "id": "OGrAd2LbriPX",
        "colab_type": "code",
        "colab": {
          "base_uri": "https://localhost:8080/",
          "height": 88
        },
        "outputId": "f9850300-a45d-4b37-e636-b084943ec8f3"
      },
      "source": [
        "from keras.models import Sequential\n",
        "model = Sequential()"
      ],
      "execution_count": 5,
      "outputs": [
        {
          "output_type": "stream",
          "text": [
            "WARNING: Logging before flag parsing goes to stderr.\n",
            "W0718 11:47:23.519712 140441413113728 deprecation_wrapper.py:119] From /usr/local/lib/python3.6/dist-packages/keras/backend/tensorflow_backend.py:74: The name tf.get_default_graph is deprecated. Please use tf.compat.v1.get_default_graph instead.\n",
            "\n"
          ],
          "name": "stderr"
        }
      ]
    },
    {
      "cell_type": "code",
      "metadata": {
        "id": "J4pdQYierpzz",
        "colab_type": "code",
        "colab": {}
      },
      "source": [
        "from keras.layers import Conv2D, MaxPool2D, Flatten, Dense"
      ],
      "execution_count": 0,
      "outputs": []
    },
    {
      "cell_type": "code",
      "metadata": {
        "id": "CkduO2Qwrxpq",
        "colab_type": "code",
        "colab": {
          "base_uri": "https://localhost:8080/",
          "height": 105
        },
        "outputId": "5785721c-ed9d-4046-c36b-d9cb507d408d"
      },
      "source": [
        "model.add(Conv2D(filters=32, \n",
        "                kernel_size=(3, 3),\n",
        "                activation='relu',\n",
        "                input_shape=(32, 32, 3)))"
      ],
      "execution_count": 7,
      "outputs": [
        {
          "output_type": "stream",
          "text": [
            "W0718 11:47:35.178366 140441413113728 deprecation_wrapper.py:119] From /usr/local/lib/python3.6/dist-packages/keras/backend/tensorflow_backend.py:517: The name tf.placeholder is deprecated. Please use tf.compat.v1.placeholder instead.\n",
            "\n",
            "W0718 11:47:35.190991 140441413113728 deprecation_wrapper.py:119] From /usr/local/lib/python3.6/dist-packages/keras/backend/tensorflow_backend.py:4138: The name tf.random_uniform is deprecated. Please use tf.random.uniform instead.\n",
            "\n"
          ],
          "name": "stderr"
        }
      ]
    },
    {
      "cell_type": "code",
      "metadata": {
        "id": "C0QJU8DqsR0i",
        "colab_type": "code",
        "colab": {
          "base_uri": "https://localhost:8080/",
          "height": 71
        },
        "outputId": "f4991ad3-3a39-4e21-c2a5-d9f92bdd0244"
      },
      "source": [
        "model.add(MaxPool2D())"
      ],
      "execution_count": 8,
      "outputs": [
        {
          "output_type": "stream",
          "text": [
            "W0718 11:47:38.842167 140441413113728 deprecation_wrapper.py:119] From /usr/local/lib/python3.6/dist-packages/keras/backend/tensorflow_backend.py:3976: The name tf.nn.max_pool is deprecated. Please use tf.nn.max_pool2d instead.\n",
            "\n"
          ],
          "name": "stderr"
        }
      ]
    },
    {
      "cell_type": "code",
      "metadata": {
        "id": "STmwgb-asj4Q",
        "colab_type": "code",
        "colab": {}
      },
      "source": [
        "model.add(Conv2D(filters=64,\n",
        "                kernel_size=(3, 3),\n",
        "                activation='relu'))\n",
        "model.add(MaxPool2D())"
      ],
      "execution_count": 0,
      "outputs": []
    },
    {
      "cell_type": "code",
      "metadata": {
        "id": "6Wshm4jttByn",
        "colab_type": "code",
        "colab": {}
      },
      "source": [
        "model.add(Flatten())\n",
        "model.add(Dense(10, activation='softmax'))"
      ],
      "execution_count": 0,
      "outputs": []
    },
    {
      "cell_type": "code",
      "metadata": {
        "id": "30lPhgq2tSGh",
        "colab_type": "code",
        "colab": {
          "base_uri": "https://localhost:8080/",
          "height": 105
        },
        "outputId": "090c93f8-4df6-42b8-a173-1459b04a5554"
      },
      "source": [
        "model.compile(optimizer='adam',\n",
        "             loss='categorical_crossentropy',\n",
        "             metrics=['accuracy'])"
      ],
      "execution_count": 11,
      "outputs": [
        {
          "output_type": "stream",
          "text": [
            "W0718 11:47:47.864399 140441413113728 deprecation_wrapper.py:119] From /usr/local/lib/python3.6/dist-packages/keras/optimizers.py:790: The name tf.train.Optimizer is deprecated. Please use tf.compat.v1.train.Optimizer instead.\n",
            "\n",
            "W0718 11:47:47.894305 140441413113728 deprecation_wrapper.py:119] From /usr/local/lib/python3.6/dist-packages/keras/backend/tensorflow_backend.py:3295: The name tf.log is deprecated. Please use tf.math.log instead.\n",
            "\n"
          ],
          "name": "stderr"
        }
      ]
    },
    {
      "cell_type": "code",
      "metadata": {
        "id": "ENUF_8Z_2PWS",
        "colab_type": "code",
        "outputId": "4f43314b-6a7b-475e-a724-b687f0e08ddb",
        "colab": {
          "base_uri": "https://localhost:8080/",
          "height": 357
        }
      },
      "source": [
        "print(model.summary())"
      ],
      "execution_count": 12,
      "outputs": [
        {
          "output_type": "stream",
          "text": [
            "_________________________________________________________________\n",
            "Layer (type)                 Output Shape              Param #   \n",
            "=================================================================\n",
            "conv2d_1 (Conv2D)            (None, 30, 30, 32)        896       \n",
            "_________________________________________________________________\n",
            "max_pooling2d_1 (MaxPooling2 (None, 15, 15, 32)        0         \n",
            "_________________________________________________________________\n",
            "conv2d_2 (Conv2D)            (None, 13, 13, 64)        18496     \n",
            "_________________________________________________________________\n",
            "max_pooling2d_2 (MaxPooling2 (None, 6, 6, 64)          0         \n",
            "_________________________________________________________________\n",
            "flatten_1 (Flatten)          (None, 2304)              0         \n",
            "_________________________________________________________________\n",
            "dense_1 (Dense)              (None, 10)                23050     \n",
            "=================================================================\n",
            "Total params: 42,442\n",
            "Trainable params: 42,442\n",
            "Non-trainable params: 0\n",
            "_________________________________________________________________\n",
            "None\n"
          ],
          "name": "stdout"
        }
      ]
    },
    {
      "cell_type": "markdown",
      "metadata": {
        "id": "6xnTf9mfyxqh",
        "colab_type": "text"
      },
      "source": [
        "## Fitting"
      ]
    },
    {
      "cell_type": "code",
      "metadata": {
        "id": "POFObjd0td4x",
        "colab_type": "code",
        "outputId": "1202223d-da12-4d40-ed2a-8e138a9cac0e",
        "colab": {
          "base_uri": "https://localhost:8080/",
          "height": 649
        }
      },
      "source": [
        "history = model.fit(x_train, y_train, batch_size=50, epochs=15, verbose=1, validation_data=(x_test, y_test))"
      ],
      "execution_count": 13,
      "outputs": [
        {
          "output_type": "stream",
          "text": [
            "W0718 11:47:54.885625 140441413113728 deprecation.py:323] From /usr/local/lib/python3.6/dist-packages/tensorflow/python/ops/math_grad.py:1250: add_dispatch_support.<locals>.wrapper (from tensorflow.python.ops.array_ops) is deprecated and will be removed in a future version.\n",
            "Instructions for updating:\n",
            "Use tf.where in 2.0, which has the same broadcast rule as np.where\n",
            "W0718 11:47:54.940309 140441413113728 deprecation_wrapper.py:119] From /usr/local/lib/python3.6/dist-packages/keras/backend/tensorflow_backend.py:986: The name tf.assign_add is deprecated. Please use tf.compat.v1.assign_add instead.\n",
            "\n"
          ],
          "name": "stderr"
        },
        {
          "output_type": "stream",
          "text": [
            "Train on 50000 samples, validate on 10000 samples\n",
            "Epoch 1/15\n",
            "50000/50000 [==============================] - 12s 246us/step - loss: 1.5123 - acc: 0.4640 - val_loss: 1.2733 - val_acc: 0.5530\n",
            "Epoch 2/15\n",
            "50000/50000 [==============================] - 6s 111us/step - loss: 1.1799 - acc: 0.5895 - val_loss: 1.1293 - val_acc: 0.6068\n",
            "Epoch 3/15\n",
            "50000/50000 [==============================] - 6s 111us/step - loss: 1.0544 - acc: 0.6361 - val_loss: 1.0413 - val_acc: 0.6431\n",
            "Epoch 4/15\n",
            "50000/50000 [==============================] - 6s 114us/step - loss: 0.9784 - acc: 0.6622 - val_loss: 1.0059 - val_acc: 0.6569\n",
            "Epoch 5/15\n",
            "50000/50000 [==============================] - 6s 110us/step - loss: 0.9288 - acc: 0.6804 - val_loss: 0.9727 - val_acc: 0.6675\n",
            "Epoch 6/15\n",
            "50000/50000 [==============================] - 6s 116us/step - loss: 0.8828 - acc: 0.6966 - val_loss: 0.9547 - val_acc: 0.6765\n",
            "Epoch 7/15\n",
            "50000/50000 [==============================] - 6s 115us/step - loss: 0.8458 - acc: 0.7091 - val_loss: 0.9327 - val_acc: 0.6831\n",
            "Epoch 8/15\n",
            "50000/50000 [==============================] - 6s 113us/step - loss: 0.8165 - acc: 0.7207 - val_loss: 0.9164 - val_acc: 0.6889\n",
            "Epoch 9/15\n",
            "50000/50000 [==============================] - 6s 113us/step - loss: 0.7866 - acc: 0.7287 - val_loss: 0.9532 - val_acc: 0.6819\n",
            "Epoch 10/15\n",
            "50000/50000 [==============================] - 6s 111us/step - loss: 0.7646 - acc: 0.7372 - val_loss: 0.9321 - val_acc: 0.6876\n",
            "Epoch 11/15\n",
            "50000/50000 [==============================] - 6s 110us/step - loss: 0.7393 - acc: 0.7451 - val_loss: 0.9160 - val_acc: 0.6953\n",
            "Epoch 12/15\n",
            "50000/50000 [==============================] - 6s 112us/step - loss: 0.7200 - acc: 0.7530 - val_loss: 0.9369 - val_acc: 0.6881\n",
            "Epoch 13/15\n",
            "50000/50000 [==============================] - 6s 113us/step - loss: 0.6966 - acc: 0.7621 - val_loss: 0.9253 - val_acc: 0.6923\n",
            "Epoch 14/15\n",
            "50000/50000 [==============================] - 6s 111us/step - loss: 0.6829 - acc: 0.7651 - val_loss: 0.9086 - val_acc: 0.7018\n",
            "Epoch 15/15\n",
            "50000/50000 [==============================] - 6s 111us/step - loss: 0.6642 - acc: 0.7710 - val_loss: 0.9248 - val_acc: 0.6991\n"
          ],
          "name": "stdout"
        }
      ]
    },
    {
      "cell_type": "code",
      "metadata": {
        "id": "UvjGB1Xw8K0t",
        "colab_type": "code",
        "colab": {}
      },
      "source": [
        "py = model.predict(x_test)\n"
      ],
      "execution_count": 0,
      "outputs": []
    },
    {
      "cell_type": "code",
      "metadata": {
        "id": "0UuMtuVJ9hoO",
        "colab_type": "code",
        "colab": {}
      },
      "source": [
        "def plot_image2(number):\n",
        "    fig = plt.figure(figsize = (5,3))\n",
        "    plt.imshow(x_test[number])"
      ],
      "execution_count": 0,
      "outputs": []
    },
    {
      "cell_type": "code",
      "metadata": {
        "id": "ZaE8d6li9rwd",
        "colab_type": "code",
        "colab": {
          "base_uri": "https://localhost:8080/",
          "height": 435
        },
        "outputId": "3a765580-6c8e-4f10-fff7-9287b2069241"
      },
      "source": [
        "print(plot_image2(6))\n",
        "print(py[6])\n",
        "dict"
      ],
      "execution_count": 56,
      "outputs": [
        {
          "output_type": "stream",
          "text": [
            "None\n",
            "[7.3005870e-04 9.5344788e-01 1.9587551e-05 2.8573361e-03 2.4909508e-07\n",
            " 3.5925671e-02 1.2920321e-03 5.3580108e-05 4.6961995e-06 5.6688976e-03]\n"
          ],
          "name": "stdout"
        },
        {
          "output_type": "execute_result",
          "data": {
            "text/plain": [
              "{0: 'Airplane',\n",
              " 1: 'Automobile',\n",
              " 2: 'Bird',\n",
              " 3: 'Cat',\n",
              " 4: 'Deer',\n",
              " 5: 'Dog',\n",
              " 6: 'Frog',\n",
              " 7: 'Horse',\n",
              " 8: 'Ship',\n",
              " 9: 'Truck'}"
            ]
          },
          "metadata": {
            "tags": []
          },
          "execution_count": 56
        },
        {
          "output_type": "display_data",
          "data": {
            "image/png": "[encoded data removed]",
            "text/plain": [
              "<Figure size 360x216 with 1 Axes>"
            ]
          },
          "metadata": {
            "tags": []
          }
        }
      ]
    }
  ]
}
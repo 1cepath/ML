{
 "cells": [
  {
   "cell_type": "code",
   "execution_count": 2,
   "metadata": {},
   "outputs": [
    {
     "name": "stdout",
     "output_type": "stream",
     "text": [
      "   patient  Gender\n",
      "0        1       1\n",
      "1        1       2\n",
      "2        1       1\n",
      "3        2       1\n",
      "4        2       2\n"
     ]
    }
   ],
   "source": [
    "# import pandas library \n",
    "import pandas as pd \n",
    "  \n",
    "raw_data = {'patient': [1, 1, 1, 2, 2],\n",
    "        'Gender': ['male', 'female', 'male', 'male', 'female']} \n",
    "data = pd.DataFrame(raw_data, columns = ['patient',  'Gender'])\n",
    "\n",
    "  \n",
    "# creating a dict file  \n",
    "gender = {'male': 1,'female': 2} \n",
    "  \n",
    "# traversing through dataframe \n",
    "# Gender column and writing \n",
    "# values where key matches \n",
    "data.Gender = [gender[item] for item in data.Gender] \n",
    "print(data) "
   ]
  },
  {
   "cell_type": "code",
   "execution_count": null,
   "metadata": {},
   "outputs": [],
   "source": []
  }
 ],
 "metadata": {
  "kernelspec": {
   "display_name": "Python 3",
   "language": "python",
   "name": "python3"
  },
  "language_info": {
   "codemirror_mode": {
    "name": "ipython",
    "version": 3
   },
   "file_extension": ".py",
   "mimetype": "text/x-python",
   "name": "python",
   "nbconvert_exporter": "python",
   "pygments_lexer": "ipython3",
   "version": "3.5.2"
  }
 },
 "nbformat": 4,
 "nbformat_minor": 2
}

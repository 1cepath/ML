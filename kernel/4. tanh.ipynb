{
 "cells": [
  {
   "cell_type": "raw",
   "metadata": {},
   "source": [
    "Tanh calculation details\n",
    "————————————\n",
    "sinh(x) = (e^x - e^-x)\n",
    "cosh(x) = (e^x + e^-x)\n",
    "Tanh(x)= sinh(x) / cosh(x)\n",
    "Tanh(x) = (e^x - e^-x) / (e^x + e^-x)\n"
   ]
  },
  {
   "cell_type": "code",
   "execution_count": 7,
   "metadata": {
    "collapsed": false
   },
   "outputs": [
    {
     "name": "stdout",
     "output_type": "stream",
     "text": [
      "-0.099667994625\n",
      "0.0\n",
      "0.168381045871\n",
      "1.0\n"
     ]
    }
   ],
   "source": [
    "import math\n",
    "print(math.tanh(-0.10))\n",
    "print(math.tanh(0))\n",
    "print(math.tanh(0.17))\n",
    "print(math.tanh(332))"
   ]
  },
  {
   "cell_type": "code",
   "execution_count": 5,
   "metadata": {
    "collapsed": true
   },
   "outputs": [],
   "source": [
    "def tanh(x):\n",
    "  return (math.exp(x) - math.exp(-x)) / (math.exp(x) + math.exp(-x))\n",
    "\n"
   ]
  },
  {
   "cell_type": "code",
   "execution_count": 6,
   "metadata": {
    "collapsed": false
   },
   "outputs": [
    {
     "name": "stdout",
     "output_type": "stream",
     "text": [
      "-0.099667994625\n",
      "0.0\n",
      "0.168381045871\n",
      "1.0\n"
     ]
    }
   ],
   "source": [
    "print(tanh(-0.10))\n",
    "print(tanh(0))\n",
    "print(tanh(0.17))\n",
    "print(tanh(332))"
   ]
  },
  {
   "cell_type": "code",
   "execution_count": null,
   "metadata": {
    "collapsed": true
   },
   "outputs": [],
   "source": []
  }
 ],
 "metadata": {
  "kernelspec": {
   "display_name": "Python 2",
   "language": "python",
   "name": "python2"
  },
  "language_info": {
   "codemirror_mode": {
    "name": "ipython",
    "version": 2
   },
   "file_extension": ".py",
   "mimetype": "text/x-python",
   "name": "python",
   "nbconvert_exporter": "python",
   "pygments_lexer": "ipython2",
   "version": "2.7.6"
  }
 },
 "nbformat": 4,
 "nbformat_minor": 0
}

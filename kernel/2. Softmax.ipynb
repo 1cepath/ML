{
 "cells": [
  {
   "cell_type": "raw",
   "metadata": {},
   "source": [
    "Softmax function takes an N-dimensional vector of real numbers and transforms it into a vector of real number in range (0,1) which add upto 1. \n",
    "\n",
    "It’s proven that sigmoid is a particular case of softmax with i=2\n",
    "\n",
    "it breaks the whole (1) with maximal element getting the largest portion of the distribution, but other smaller elements getting some of it as well.\n",
    "\n",
    "This property of softmax function that it outputs a probability distribution makes it suitable for probabilistic interpretation in classification tasks."
   ]
  },
  {
   "cell_type": "code",
   "execution_count": 3,
   "metadata": {
    "collapsed": false
   },
   "outputs": [
    {
     "name": "stdout",
     "output_type": "stream",
     "text": [
      "Softmax Function Output :: [0.01275478 0.03467109 0.25618664 0.69638749]\n"
     ]
    }
   ],
   "source": [
    "# Required Python Package\n",
    "import numpy as np\n",
    " \n",
    " \n",
    "def softmax(inputs):\n",
    "    \"\"\"\n",
    "    Calculate the softmax for the give inputs (array)\n",
    "    :param inputs:\n",
    "    :return:\n",
    "    \"\"\"\n",
    "    return np.exp(inputs) / float(sum(np.exp(inputs)))\n",
    " \n",
    " \n",
    "softmax_inputs = [2, 3, 5, 6]\n",
    "print (\"Softmax Function Output :: {}\".format(softmax(softmax_inputs)))"
   ]
  },
  {
   "cell_type": "raw",
   "metadata": {},
   "source": [
    "Sigmoid vs softmax\n",
    "———————\n",
    "However, when you want to deal with classification problems, sigmoid cannot help much. Simply speaking, the sigmoid function can only handle two classes, which is not what we expect.\n",
    "The softmax function squashes the outputs of each unit to be between 0 and 1, just like a sigmoid function. But it also divides each output such that the total sum of the outputs is equal to 1\n",
    "\n",
    "The output of the softmax function is equivalent to a categorical probability distribution, it tells you the probability that any of the classes are true.\n"
   ]
  },
  {
   "cell_type": "raw",
   "metadata": {},
   "source": [
    "Softmax: Used for the multi-classification task.\n",
    "Sigmoid: Used for the binary classification task.\n",
    "\n",
    "If we observe the function output for the input value 6 we are getting the high probabilities. This is what we can expect from the softmax function.\n",
    "\n",
    "\n",
    "Softmax Function\t                                              Sigmoid Function\n",
    "1. Used for multi-classification in logistic regression model.\t\n",
    "Sigmoid Function\n",
    "1. Used for binary classification in logistic regression model.\n",
    "\n",
    " 2\t The probabilities sum will be 1\t \n",
    " 2.  The probabilities sum need not be 1.\n",
    " \n",
    " 3\t Used in the different layers of neural networks.\t \n",
    " 3.  Used as activation function while building neural networks.\n",
    " \n",
    " 4\t The high value will have the higher probability than other values.\t \n",
    " 4. The high value will have the high probability but not the higher probability.\n",
    " \n",
    " \n",
    " "
   ]
  },
  {
   "cell_type": "code",
   "execution_count": 17,
   "metadata": {
    "collapsed": false
   },
   "outputs": [
    {
     "name": "stdout",
     "output_type": "stream",
     "text": [
      "Graph X readings: [1.2, 0.9, 0.4]\n",
      "Graph Y readings: [0.45659032 0.33825043 0.20515925]\n"
     ]
    },
    {
     "data": {
      "image/png": "[encoded data removed]",
      "text/plain": [
       "<matplotlib.figure.Figure at 0x7f31347e4f60>"
      ]
     },
     "metadata": {},
     "output_type": "display_data"
    }
   ],
   "source": [
    "import numpy as np\n",
    "import matplotlib.pyplot as plt\n",
    "%matplotlib inline \n",
    " \n",
    "def softmax(inputs):\n",
    "    \"\"\"\n",
    "    Calculate the softmax for the give inputs (array)\n",
    "    :param inputs:\n",
    "    :return:\n",
    "    \"\"\"\n",
    "    return np.exp(inputs) / float(sum(np.exp(inputs)))\n",
    " \n",
    " \n",
    "def line_graph(x, y, x_title, y_title):\n",
    "    \"\"\"\n",
    "    Draw line graph with x and y values\n",
    "    :param x:\n",
    "    :param y:\n",
    "    :param x_title:\n",
    "    :param y_title:\n",
    "    :return:\n",
    "    \"\"\"\n",
    "    plt.plot(x, y)\n",
    "    plt.xlabel(x_title)\n",
    "    plt.ylabel(y_title)\n",
    "    plt.show()\n",
    " \n",
    " \n",
    "graph_x = [1.2,0.9,0.4]   #[0, 1, -0.5, 0.5]\n",
    "graph_y = softmax(graph_x)\n",
    " \n",
    "print (\"Graph X readings: {}\".format(graph_x))\n",
    "print (\"Graph Y readings: {}\".format(graph_y))\n",
    "line_graph(graph_x, graph_y, \"Inputs\", \"Softmax Scores\")"
   ]
  },
  {
   "cell_type": "code",
   "execution_count": null,
   "metadata": {
    "collapsed": true
   },
   "outputs": [],
   "source": []
  }
 ],
 "metadata": {
  "kernelspec": {
   "display_name": "Python 2",
   "language": "python",
   "name": "python2"
  },
  "language_info": {
   "codemirror_mode": {
    "name": "ipython",
    "version": 2
   },
   "file_extension": ".py",
   "mimetype": "text/x-python",
   "name": "python",
   "nbconvert_exporter": "python",
   "pygments_lexer": "ipython2",
   "version": "2.7.6"
  }
 },
 "nbformat": 4,
 "nbformat_minor": 0
}

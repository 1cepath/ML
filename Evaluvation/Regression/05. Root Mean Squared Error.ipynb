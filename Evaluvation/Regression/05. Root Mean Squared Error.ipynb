{
 "cells": [
  {
   "cell_type": "raw",
   "metadata": {},
   "source": [
    "Root Mean Squared Error (RMSE) \n",
    "-------------------------------\n",
    "is the square root of the mean of the squared errors:\n",
    "    sqrt(MSE)\n",
    "\n",
    "The range is also 0 to ∞.\n",
    "\n",
    "RMSE is just the square root of MSE. The square root is introduced to make scale of the errors to be the same as the scale of targets. The range is also 0 to ∞.\n",
    "\n",
    "since MSE will order the models in the same way as RMSE. Thus we can optimize MSE instead of RMSE. In fact, MSE is a little bit easier to work with, so everybody uses MSE instead of RMSE. "
   ]
  },
  {
   "cell_type": "code",
   "execution_count": 2,
   "metadata": {},
   "outputs": [
    {
     "name": "stdout",
     "output_type": "stream",
     "text": [
      "rmse/sse/rss  1.5811388300841898\n"
     ]
    }
   ],
   "source": [
    "from sklearn.metrics import mean_squared_error\n",
    "from math import sqrt\n",
    "\n",
    "actual = [2,4,6,8]\n",
    "pred  = [2,4,9,7]\n",
    "\n",
    "mse = mean_squared_error(actual, pred)\n",
    "rms = sqrt(mse)\n",
    "    \n",
    "print('rmse/sse/rss ', rms)"
   ]
  },
  {
   "cell_type": "code",
   "execution_count": null,
   "metadata": {},
   "outputs": [],
   "source": []
  }
 ],
 "metadata": {
  "kernelspec": {
   "display_name": "Python 3",
   "language": "python",
   "name": "python3"
  },
  "language_info": {
   "codemirror_mode": {
    "name": "ipython",
    "version": 3
   },
   "file_extension": ".py",
   "mimetype": "text/x-python",
   "name": "python",
   "nbconvert_exporter": "python",
   "pygments_lexer": "ipython3",
   "version": "3.5.2"
  }
 },
 "nbformat": 4,
 "nbformat_minor": 2
}

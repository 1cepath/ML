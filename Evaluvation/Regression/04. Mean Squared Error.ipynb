{
 "cells": [
  {
   "cell_type": "raw",
   "metadata": {},
   "source": [
    "Mean Squared Error (MSE)\n",
    "--------------------------\n",
    "is the mean of the squared errors and is calculated as:\n",
    "    sum((actual -predicted)^2) / n\n",
    "\n",
    "mean squared error (MSE) or the sum of squares of error (SSE), also called the “residual sum of squares.” (RSS). t’s the method mostly used in practice since here we penalize higher error value much more as compared to a smaller one, so that there is a significant difference between making big errors and small errors, which makes it easy to differentiate and select the best fit line. \n",
    "\n",
    "The range is 0 to ∞. mean squared error are naturally descending scores (the smallest score is best). The higher this value, the worse the model is. It is never negative, since we’re squaring the individual prediction-wise errors before summing them, but would be zero for a perfect model . \n"
   ]
  },
  {
   "cell_type": "code",
   "execution_count": 3,
   "metadata": {},
   "outputs": [
    {
     "name": "stdout",
     "output_type": "stream",
     "text": [
      "2.5\n"
     ]
    }
   ],
   "source": [
    "from sklearn.metrics import mean_squared_error\n",
    "\n",
    "actual = [2,4,6,8]\n",
    "pred  = [2,4,9,7]\n",
    "\n",
    "mse = mean_squared_error(actual, pred)\n",
    "\n",
    "print(mse)"
   ]
  },
  {
   "cell_type": "raw",
   "metadata": {},
   "source": [
    "MAE : What is important about this metric is that it penalizes huge errors that not as that badly as MSE does. Thus, \n",
    "it’s not that sensitive to outliers as mean square error.\n",
    "\n",
    "MAE is widely used in finance, where $10 error is usually exactly two times worse than $5 error. On the other hand, MSE metric thinks that $10 error is four times worse than $5 error.\n",
    "\n",
    "note: are reported as negative by the cross_val_score() function. This is important to note, because some scores will be reported as negative that by definition can never be negative. "
   ]
  }
 ],
 "metadata": {
  "kernelspec": {
   "display_name": "Python 3",
   "language": "python",
   "name": "python3"
  },
  "language_info": {
   "codemirror_mode": {
    "name": "ipython",
    "version": 3
   },
   "file_extension": ".py",
   "mimetype": "text/x-python",
   "name": "python",
   "nbconvert_exporter": "python",
   "pygments_lexer": "ipython3",
   "version": "3.5.2"
  }
 },
 "nbformat": 4,
 "nbformat_minor": 2
}

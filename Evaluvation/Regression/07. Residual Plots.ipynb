{
 "cells": [
  {
   "cell_type": "raw",
   "metadata": {},
   "source": [
    "Residual Plots\n",
    "---------------\n",
    " In this case, the prediction is off by 2; that difference, the 2, is called the residual, \n",
    "\n",
    "Residual = Observed – Predicted\n",
    "\n",
    "The most useful way to plot the residuals, though, is with your predicted values on the x-axis, and your residuals on the y-axis. The distance from the line at 0 is how bad the prediction was for that value.\n",
    "\n",
    "\n",
    "\n",
    "A residual plot is a graph that shows the residuals on the vertical axis and the independent variable on the horizontal axis. If the points in a residual plot are randomly dispersed around the horizontal axis, a linear regression model is appropriate for the data; otherwise, a non-linear model is more appropriate.\n",
    "\n",
    "When we apply a linear regression to the untransformed raw data, the residual plot shows a non-random pattern (a U-shaped curve), which suggests that the data are nonlinear.\n",
    "\n",
    "The  plot patterns are non-random (U-shaped OR inverted U), suggesting a better fit for a non-linear model."
   ]
  },
  {
   "cell_type": "code",
   "execution_count": 3,
   "metadata": {},
   "outputs": [
    {
     "data": {
      "image/png": "[encoded data removed]",
      "text/plain": [
       "<Figure size 432x288 with 1 Axes>"
      ]
     },
     "metadata": {},
     "output_type": "display_data"
    }
   ],
   "source": [
    "import matplotlib.pyplot as plt\n",
    "%matplotlib inline \n",
    "import numpy as np\n",
    "\n",
    "actual = [2,4,6,8]\n",
    "pred  = [2,4,6,7]\n",
    "\n",
    "residuals = np.array(actual) - np.array(pred)\n",
    "\n",
    "plt.scatter(pred,residuals, color = 'red')\n",
    "plt.title('Residual Plot')\n",
    "plt.xlabel('predicted values')\n",
    "plt.ylabel('residuals')\n",
    "plt.grid()\n",
    "    "
   ]
  },
  {
   "cell_type": "code",
   "execution_count": null,
   "metadata": {},
   "outputs": [],
   "source": []
  }
 ],
 "metadata": {
  "kernelspec": {
   "display_name": "Python 3",
   "language": "python",
   "name": "python3"
  },
  "language_info": {
   "codemirror_mode": {
    "name": "ipython",
    "version": 3
   },
   "file_extension": ".py",
   "mimetype": "text/x-python",
   "name": "python",
   "nbconvert_exporter": "python",
   "pygments_lexer": "ipython3",
   "version": "3.5.2"
  }
 },
 "nbformat": 4,
 "nbformat_minor": 2
}

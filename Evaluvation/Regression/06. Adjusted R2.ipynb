{
 "cells": [
  {
   "cell_type": "raw",
   "metadata": {},
   "source": [
    "R^2 \n",
    "---------\n",
    "(or R Squared) metric is a statistical measure of how close the data are to the fitted regression line.\n",
    "This is a value between 0 and 1 for no-fit and perfect fit respectively. lessthan 0.5 is a poor fit.\n",
    "\n",
    "R^2 = 1 - ( MSE(model)/ MSE(base))\n",
    "\n",
    "the baseline MSE can be thought of as the MSE that the simplest possible model would get. The simplest possible model would be to always predict the average of all samples\n",
    "\n",
    "Adjusted R^2 \n",
    "-------------\n",
    "One pitfall of R-squared is that it can only increase as predictors are added to the regression model. This increase is artificial when predictors are not actually improving the model’s fit. \n",
    "\n",
    "To remedy this, Adjusted R-squared, incorporates the model’s degrees of freedom. Adjusted R-squared will decrease as predictors are added if the increase in model fit does not make up for the loss of degrees of freedom. Likewise, it will increase as predictors are added if the increase in model fit is worthwhile. Adjusted R-squared should always be used with models with more than one predictor variable. It is interpreted as the proportion of total variance that is explained by the model.\n"
   ]
  },
  {
   "cell_type": "code",
   "execution_count": 2,
   "metadata": {},
   "outputs": [
    {
     "name": "stdout",
     "output_type": "stream",
     "text": [
      "r2  0.95\n",
      "adjusted r2  0.9249999999999999\n"
     ]
    }
   ],
   "source": [
    "from sklearn.metrics import r2_score\n",
    "\n",
    "actual = [2,4,6,8]\n",
    "pred  = [2,4,6,7]\n",
    "\n",
    "r2 = r2_score(actual, pred)\n",
    "n = len(actual) #number of samples\n",
    "p = 1 # independent variables (predictors) \n",
    "adj_r = 1 - (1 - r2) * ((n - 1)/(n-p-1))\n",
    "\n",
    "print('r2 ', r2)\n",
    "print('adjusted r2 ',adj_r)"
   ]
  },
  {
   "cell_type": "code",
   "execution_count": null,
   "metadata": {},
   "outputs": [],
   "source": []
  }
 ],
 "metadata": {
  "kernelspec": {
   "display_name": "Python 3",
   "language": "python",
   "name": "python3"
  },
  "language_info": {
   "codemirror_mode": {
    "name": "ipython",
    "version": 3
   },
   "file_extension": ".py",
   "mimetype": "text/x-python",
   "name": "python",
   "nbconvert_exporter": "python",
   "pygments_lexer": "ipython3",
   "version": "3.5.2"
  }
 },
 "nbformat": 4,
 "nbformat_minor": 2
}

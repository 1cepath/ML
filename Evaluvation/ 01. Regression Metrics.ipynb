{
 "cells": [
  {
   "cell_type": "raw",
   "metadata": {},
   "source": [
    "Sum of Residuals \n",
    "--------------------\n",
    "The difference between the observed value of the dependent variable (y) and the predicted value (ŷ) is called the residual (e). Each data point has one residual.\n",
    "\n",
    "Residual = Observed value - Predicted value \n",
    "\n",
    "(∑(Y – h(X))) \n",
    "\n",
    "It might result in cancelling out of positive and negative errors."
   ]
  },
  {
   "cell_type": "raw",
   "metadata": {},
   "source": [
    "Mean Absolute Error (MAE) \n",
    "---------------------------\n",
    "Is the mean of the absolute value of the errors. It is calculated as:\n",
    "    sum(abs(actual -predicted))/n\n",
    "   \n",
    "It gives an idea of how wrong the predictions were. The measure gives an idea of the magnitude of the error, but no idea of the direction (e.g. over or under predicting).\n",
    "\n",
    "also called: Sum of the absolute value of residuals "
   ]
  },
  {
   "cell_type": "raw",
   "metadata": {},
   "source": [
    "Mean Squared Error (MSE)\n",
    "--------------------------\n",
    "is the mean of the squared errors and is calculated as:\n",
    "    sum((actual -predicted)^2) / n\n",
    "\n",
    "mean squared error (MSE) or the sum of squares of error (SSE), also called the “residual sum of squares.” (RSS). t’s the method mostly used in practice since here we penalize higher error value much more as compared to a smaller one, so that there is a significant difference between making big errors and small errors, which makes it easy to differentiate and select the best fit line. \n",
    "\n",
    "The range is 0 to ∞. mean squared error are naturally descending scores (the smallest score is best). The higher this value, the worse the model is. It is never negative, since we’re squaring the individual prediction-wise errors before summing them, but would be zero for a perfect model . \n",
    "\n",
    "MAE : What is important about this metric is that it penalizes huge errors that not as that badly as MSE does. Thus, \n",
    "it’s not that sensitive to outliers as mean square error.\n",
    "\n",
    "MAE is widely used in finance, where $10 error is usually exactly two times worse than $5 error. On the other hand, MSE metric thinks that $10 error is four times worse than $5 error.\n",
    "\n",
    "note: are reported as negative by the cross_val_score() function. This is important to note, because some scores will be reported as negative that by definition can never be negative. "
   ]
  },
  {
   "cell_type": "raw",
   "metadata": {},
   "source": [
    "Root Mean Squared Error (RMSE) \n",
    "-------------------------------\n",
    "is the square root of the mean of the squared errors:\n",
    "    sqrt(MSE)\n",
    "\n",
    "The range is also 0 to ∞.\n",
    "\n",
    "RMSE is just the square root of MSE. The square root is introduced to make scale of the errors to be the same as the scale of targets. The range is also 0 to ∞.\n",
    "\n",
    "since MSE will order the models in the same way as RMSE. Thus we can optimize MSE instead of RMSE. In fact, MSE is a little bit easier to work with, so everybody uses MSE instead of RMSE. "
   ]
  },
  {
   "cell_type": "raw",
   "metadata": {},
   "source": [
    "R^2 \n",
    "---------\n",
    "(or R Squared) metric is a statistical measure of how close the data are to the fitted regression line.\n",
    "This is a value between 0 and 1 for no-fit and perfect fit respectively. lessthan 0.5 is a poor fit.\n",
    "\n",
    "R^2 = 1 - ( MSE(model)/ MSE(base))\n",
    "\n",
    "the baseline MSE can be thought of as the MSE that the simplest possible model would get. The simplest possible model would be to always predict the average of all samples"
   ]
  },
  {
   "cell_type": "raw",
   "metadata": {},
   "source": [
    "Adjusted R^2 \n",
    "-------------\n",
    "One pitfall of R-squared is that it can only increase as predictors are added to the regression model. This increase is artificial when predictors are not actually improving the model’s fit. \n",
    "\n",
    "To remedy this, Adjusted R-squared, incorporates the model’s degrees of freedom. Adjusted R-squared will decrease as predictors are added if the increase in model fit does not make up for the loss of degrees of freedom. Likewise, it will increase as predictors are added if the increase in model fit is worthwhile. Adjusted R-squared should always be used with models with more than one predictor variable. It is interpreted as the proportion of total variance that is explained by the model.\n"
   ]
  },
  {
   "cell_type": "raw",
   "metadata": {},
   "source": [
    "\n",
    "Residual Plots\n",
    "---------------\n",
    "A residual plot is a graph that shows the residuals on the vertical axis and the independent variable on the horizontal axis. If the points in a residual plot are randomly dispersed around the horizontal axis, a linear regression model is appropriate for the data; otherwise, a non-linear model is more appropriate.\n",
    "\n",
    "When we apply a linear regression to the untransformed raw data, the residual plot shows a non-random pattern (a U-shaped curve), which suggests that the data are nonlinear.\n",
    "\n",
    "The  plot patterns are non-random (U-shaped OR inverted U), suggesting a better fit for a non-linear model."
   ]
  },
  {
   "cell_type": "code",
   "execution_count": 23,
   "metadata": {},
   "outputs": [],
   "source": [
    "from sklearn.metrics import mean_squared_error\n",
    "from sklearn.metrics import mean_absolute_error\n",
    "from sklearn.metrics import r2_score\n",
    "from math import sqrt\n",
    "\n",
    "def validate(actual,pred):\n",
    "    residuals = np.array(actual) - np.array(pred)\n",
    "    \n",
    "    mae = mean_absolute_error(actual, pred)\n",
    "    mse = mean_squared_error(actual, pred)\n",
    "    rms = sqrt(mse)\n",
    "    r2 = r2_score(actual, pred)\n",
    "    n = len(actual) #number of samples\n",
    "    p = 1 # independent variables (predictors) \n",
    "    adj_r = 1 - (1 - r2) * ((n - 1)/(n-p-1))\n",
    "\n",
    "    print('residuals ',residuals)\n",
    "    print('mae ',mae)\n",
    "    print('mse ',mse)\n",
    "    print('rmse/sse/rss ', rms)\n",
    "    print('r2 ', r2)\n",
    "    print('adjusted r2 ',adj_r)\n",
    "    \n",
    "    \n",
    "    plt.scatter(pred,residuals, color = 'red')\n",
    "    plt.title('Residual Plot')\n",
    "    plt.xlabel('predicted values')\n",
    "    plt.ylabel('residuals')\n",
    "    plt.grid()"
   ]
  },
  {
   "cell_type": "code",
   "execution_count": 24,
   "metadata": {},
   "outputs": [
    {
     "name": "stdout",
     "output_type": "stream",
     "text": [
      "residuals  [0 0 0 1]\n",
      "mae  0.25\n",
      "mse  0.25\n",
      "rmse/sse/rss  0.5\n",
      "r2  0.95\n",
      "adjusted r2  0.9249999999999999\n"
     ]
    },
    {
     "data": {
      "image/png": "[encoded data removed]",
      "text/plain": [
       "<Figure size 432x288 with 1 Axes>"
      ]
     },
     "metadata": {},
     "output_type": "display_data"
    }
   ],
   "source": [
    "actual = [2,4,6,8]\n",
    "pred  = [2,4,6,7]\n",
    "\n",
    "validate(actual, pred)"
   ]
  },
  {
   "cell_type": "code",
   "execution_count": 25,
   "metadata": {},
   "outputs": [
    {
     "name": "stdout",
     "output_type": "stream",
     "text": [
      "residuals  [0 0 0 0]\n",
      "mae  0.0\n",
      "mse  0.0\n",
      "rmse/sse/rss  0.0\n",
      "r2  1.0\n",
      "adjusted r2  1.0\n"
     ]
    },
    {
     "data": {
      "image/png": "[encoded data removed]",
      "text/plain": [
       "<Figure size 432x288 with 1 Axes>"
      ]
     },
     "metadata": {},
     "output_type": "display_data"
    }
   ],
   "source": [
    "actual = [2,4,6,8]\n",
    "pred  = [2,4,6,8]\n",
    "validate(actual,pred)"
   ]
  },
  {
   "cell_type": "code",
   "execution_count": 26,
   "metadata": {},
   "outputs": [
    {
     "name": "stdout",
     "output_type": "stream",
     "text": [
      "residuals  [-2 -2 -2 -2]\n",
      "mae  2.0\n",
      "mse  4.0\n",
      "rmse/sse/rss  2.0\n",
      "r2  0.19999999999999996\n",
      "adjusted r2  -0.20000000000000018\n",
      "residuals  [-2 -2 -2 -4]\n",
      "mae  2.5\n",
      "mse  7.0\n",
      "rmse/sse/rss  2.6457513110645907\n",
      "r2  -0.3999999999999999\n",
      "adjusted r2  -1.0999999999999996\n"
     ]
    },
    {
     "data": {
      "image/png": "[encoded data removed]",
      "text/plain": [
       "<Figure size 432x288 with 1 Axes>"
      ]
     },
     "metadata": {},
     "output_type": "display_data"
    }
   ],
   "source": [
    "actual = [2,4,6,8]\n",
    "pred  = [4,6,8,10]\n",
    "validate(actual,pred)\n",
    "\n",
    "actual = [2,4,6,8]\n",
    "pred  = [4,6,8,12]\n",
    "validate(actual,pred)"
   ]
  },
  {
   "cell_type": "raw",
   "metadata": {},
   "source": [
    "first model is better than the second as it as lower mse and rmse. we can see that RMSE penalizes the higher difference more than MAE. "
   ]
  },
  {
   "cell_type": "code",
   "execution_count": 27,
   "metadata": {},
   "outputs": [
    {
     "name": "stdout",
     "output_type": "stream",
     "text": [
      "residuals  [ -2  -2  -2 -92]\n",
      "mae  24.5\n",
      "mse  2119.0\n",
      "rmse/sse/rss  46.03259714593562\n",
      "r2  -422.8\n",
      "adjusted r2  -634.7\n"
     ]
    },
    {
     "data": {
      "image/png": "[encoded data removed]",
      "text/plain": [
       "<Figure size 432x288 with 1 Axes>"
      ]
     },
     "metadata": {},
     "output_type": "display_data"
    }
   ],
   "source": [
    "actual = [2,4,6,8]\n",
    "pred  = [4,6,8,100]\n",
    "\n",
    "validate(actual,pred)"
   ]
  }
 ],
 "metadata": {
  "kernelspec": {
   "display_name": "Python 3",
   "language": "python",
   "name": "python3"
  },
  "language_info": {
   "codemirror_mode": {
    "name": "ipython",
    "version": 3
   },
   "file_extension": ".py",
   "mimetype": "text/x-python",
   "name": "python",
   "nbconvert_exporter": "python",
   "pygments_lexer": "ipython3",
   "version": "3.5.2"
  }
 },
 "nbformat": 4,
 "nbformat_minor": 2
}

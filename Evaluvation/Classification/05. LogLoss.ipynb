{
 "cells": [
  {
   "cell_type": "raw",
   "metadata": {},
   "source": [
    "\n",
    "Log-loss is an accuracy metric that can be used when the classifier output is not a class but a probability, as is the case with logistic regression and neural network. \n",
    "\n",
    "Log Loss has no upper bound and it exists on the range [0, ∞). Log Loss nearer to 0 indicates higher accuracy, whereas if the Log Loss is away from 0 then it indicates lower accuracy.\n"
   ]
  },
  {
   "cell_type": "code",
   "execution_count": 1,
   "metadata": {},
   "outputs": [],
   "source": [
    "import math\n",
    "from sklearn.metrics import log_loss\n",
    "\n",
    "def logloss_validate(actual,pred):\n",
    "    logloss = log_loss(actual, pred)\n",
    "    probability=math.exp(logloss*-1)\n",
    "  \n",
    "    print(\"logloss \", logloss )\n",
    "    print(\"overall accuracy % \",probability)"
   ]
  },
  {
   "cell_type": "code",
   "execution_count": 2,
   "metadata": {},
   "outputs": [
    {
     "name": "stdout",
     "output_type": "stream",
     "text": [
      "logloss  34.53917619362578\n",
      "overall accuracy %  9.996002811937641e-16\n"
     ]
    }
   ],
   "source": [
    "  \n",
    "actual = [1,1,1,0,0,0]\n",
    "pred =[0,0,0,1,1,1]\n",
    "\n",
    "logloss_validate(actual,pred)"
   ]
  },
  {
   "cell_type": "markdown",
   "metadata": {},
   "source": [
    "ROC curves and AUC seem to be robust to class imbalance.\n",
    "Log loss is not robust to class imbalance."
   ]
  }
 ],
 "metadata": {
  "kernelspec": {
   "display_name": "Python 3",
   "language": "python",
   "name": "python3"
  },
  "language_info": {
   "codemirror_mode": {
    "name": "ipython",
    "version": 3
   },
   "file_extension": ".py",
   "mimetype": "text/x-python",
   "name": "python",
   "nbconvert_exporter": "python",
   "pygments_lexer": "ipython3",
   "version": "3.5.2"
  }
 },
 "nbformat": 4,
 "nbformat_minor": 2
}

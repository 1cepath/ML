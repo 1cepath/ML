{
 "cells": [
  {
   "cell_type": "raw",
   "metadata": {},
   "source": [
    "                    \n",
    "            |--------------------------------|          \n",
    "            |   actual +       actual -      |\n",
    "            |--------------------------------|          \n",
    "predicted + | true positive   false positive |\n",
    "predicted - | false negative  true negative  |\n",
    "            |--------------------------------|\n",
    "\n"
   ]
  },
  {
   "cell_type": "code",
   "execution_count": null,
   "metadata": {},
   "outputs": [],
   "source": [
    "Confusion Matrix or Error Matrix\n",
    "----------------------\n",
    "141   21\n",
    "41    51\n",
    "\n",
    "141 1’s correctly classified as “1”    true positive\n",
    "21 1’s incorrectly classified as “0”   false negative\n",
    "41 0’s incorrectly classified as “1”   false positive\n",
    "51 0’s correctly classified as “0”     true negative\n",
    "  "
   ]
  },
  {
   "cell_type": "raw",
   "metadata": {},
   "source": [
    "  \n",
    "when a doctor makes a medical diagnosis that a patient has cancer when he doesn’t (known as a false positive) has very different consequences than making the call that a patient doesn’t have cancer when he does (a false negative). \n"
   ]
  },
  {
   "cell_type": "markdown",
   "metadata": {},
   "source": [
    "True negatives (denoted tn) \n",
    "\n",
    "samples in your data, which you classified as not belonging to your class correctly. Eg. your “hot dog” vs “not hot dog” image classifier correctly classified your image of a car as not being a “hot dog”."
   ]
  },
  {
   "cell_type": "markdown",
   "metadata": {},
   "source": [
    "False negatives (denoted fn) \n",
    "\n",
    "samples in your data, which you classified as not belonging to your class, incorrectly. Eg. your “hot dog” vs “not hot dog” image classifier incorrectly classified an image of a messed up “hot dog” as not being a “hot dog”."
   ]
  },
  {
   "cell_type": "markdown",
   "metadata": {},
   "source": [
    "True positives (denoted tp) \n",
    "\n",
    "samples in your data, which you classifed as belonging to your class correctly. Eg. your “hot dog” vs “not hot dog” classifier correctly classifies a “hot dog” as being a “hot dog”."
   ]
  },
  {
   "cell_type": "markdown",
   "metadata": {},
   "source": [
    "False positives (denoted fp) \n",
    "\n",
    "samples in your data, which you classified as belonging to your class incorrectly. Eg. your “hot dog” vs “not hot dog” classifier incorrectly classifies a hamburger as being a “hot dog”."
   ]
  },
  {
   "cell_type": "code",
   "execution_count": 2,
   "metadata": {},
   "outputs": [
    {
     "name": "stdout",
     "output_type": "stream",
     "text": [
      "[[0 2]\n",
      " [3 1]]\n"
     ]
    }
   ],
   "source": [
    "from sklearn.metrics import confusion_matrix\n",
    "\n",
    "actual = [1,1,1,1,0,0]\n",
    "pred =[0,0,0,1,1,1]\n",
    "\n",
    "matrix = confusion_matrix(actual, pred)    \n",
    "\n",
    "print(matrix)"
   ]
  },
  {
   "cell_type": "raw",
   "metadata": {},
   "source": [
    "\n",
    "Per Class Accuracy\n",
    "-------------------\n",
    "#The diagonal entries are of a confusion matrix are the accuracies of each class\n",
    "cm.diagonal()"
   ]
  },
  {
   "cell_type": "code",
   "execution_count": 3,
   "metadata": {},
   "outputs": [
    {
     "name": "stdout",
     "output_type": "stream",
     "text": [
      "Per Class Accuracy  [0 1]\n"
     ]
    }
   ],
   "source": [
    "print(\"Per Class Accuracy \", matrix.diagonal())\n",
    "   "
   ]
  },
  {
   "cell_type": "code",
   "execution_count": null,
   "metadata": {},
   "outputs": [],
   "source": []
  }
 ],
 "metadata": {
  "kernelspec": {
   "display_name": "Python 3",
   "language": "python",
   "name": "python3"
  },
  "language_info": {
   "codemirror_mode": {
    "name": "ipython",
    "version": 3
   },
   "file_extension": ".py",
   "mimetype": "text/x-python",
   "name": "python",
   "nbconvert_exporter": "python",
   "pygments_lexer": "ipython3",
   "version": "3.5.2"
  }
 },
 "nbformat": 4,
 "nbformat_minor": 2
}

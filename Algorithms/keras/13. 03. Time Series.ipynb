{
 "cells": [
  {
   "cell_type": "raw",
   "metadata": {},
   "source": [
    "In a time series problems, we have to predict a value at time T, based on the data from days T-N where N can be any number of steps. In this Example, we are going to predict the opening stock price of the data based on the opening stock prices for the past 60 days."
   ]
  },
  {
   "cell_type": "raw",
   "metadata": {},
   "source": [
    "you may have a data set of house prices with features describing the houses including the year that house was built. Even though you have a date as a feature, this is not a time series problem. In time series forecasting, we are generally interested in predicting something that is changing over time, but in this data set, we have several different houses with one date and will be predicting prices of other houses. So, this is a regression problem.\n",
    "\n",
    "Another thing that may tell you that your problem is regression and not time series is if there isn’t really a relationship with your target and time. In time series problems, we expect observations close to each other in time to be more similar than observations far away, after accounting for seasonality. For example, the weather today is usually more similar to the weather tomorrow than the weather a month from now. So, predicting the weather based on past weather observations is a time series problem."
   ]
  },
  {
   "cell_type": "code",
   "execution_count": null,
   "metadata": {},
   "outputs": [],
   "source": [
    "import numpy as np  \n",
    "import matplotlib.pyplot as plt\n",
    "%matplotlib inline \n",
    "import pandas as pd "
   ]
  },
  {
   "cell_type": "code",
   "execution_count": 52,
   "metadata": {},
   "outputs": [
    {
     "name": "stdout",
     "output_type": "stream",
     "text": [
      "(1499, 7)\n"
     ]
    },
    {
     "data": {
      "text/html": [
       "<div>\n",
       "<style scoped>\n",
       "    .dataframe tbody tr th:only-of-type {\n",
       "        vertical-align: middle;\n",
       "    }\n",
       "\n",
       "    .dataframe tbody tr th {\n",
       "        vertical-align: top;\n",
       "    }\n",
       "\n",
       "    .dataframe thead th {\n",
       "        text-align: right;\n",
       "    }\n",
       "</style>\n",
       "<table border=\"1\" class=\"dataframe\">\n",
       "  <thead>\n",
       "    <tr style=\"text-align: right;\">\n",
       "      <th></th>\n",
       "      <th>Date</th>\n",
       "      <th>Open</th>\n",
       "      <th>High</th>\n",
       "      <th>Low</th>\n",
       "      <th>Close</th>\n",
       "      <th>Adj Close</th>\n",
       "      <th>Volume</th>\n",
       "    </tr>\n",
       "  </thead>\n",
       "  <tbody>\n",
       "    <tr>\n",
       "      <th>0</th>\n",
       "      <td>2012-12-31</td>\n",
       "      <td>72.932854</td>\n",
       "      <td>76.485718</td>\n",
       "      <td>72.714287</td>\n",
       "      <td>76.024284</td>\n",
       "      <td>54.206390</td>\n",
       "      <td>164873100</td>\n",
       "    </tr>\n",
       "    <tr>\n",
       "      <th>1</th>\n",
       "      <td>2013-01-02</td>\n",
       "      <td>79.117142</td>\n",
       "      <td>79.285713</td>\n",
       "      <td>77.375717</td>\n",
       "      <td>78.432854</td>\n",
       "      <td>55.923737</td>\n",
       "      <td>140129500</td>\n",
       "    </tr>\n",
       "    <tr>\n",
       "      <th>2</th>\n",
       "      <td>2013-01-03</td>\n",
       "      <td>78.268570</td>\n",
       "      <td>78.524284</td>\n",
       "      <td>77.285713</td>\n",
       "      <td>77.442856</td>\n",
       "      <td>55.217865</td>\n",
       "      <td>88241300</td>\n",
       "    </tr>\n",
       "    <tr>\n",
       "      <th>3</th>\n",
       "      <td>2013-01-04</td>\n",
       "      <td>76.709999</td>\n",
       "      <td>76.947144</td>\n",
       "      <td>75.118568</td>\n",
       "      <td>75.285713</td>\n",
       "      <td>53.679771</td>\n",
       "      <td>148583400</td>\n",
       "    </tr>\n",
       "    <tr>\n",
       "      <th>4</th>\n",
       "      <td>2013-01-07</td>\n",
       "      <td>74.571426</td>\n",
       "      <td>75.614288</td>\n",
       "      <td>73.599998</td>\n",
       "      <td>74.842857</td>\n",
       "      <td>53.364014</td>\n",
       "      <td>121039100</td>\n",
       "    </tr>\n",
       "  </tbody>\n",
       "</table>\n",
       "</div>"
      ],
      "text/plain": [
       "         Date       Open       High        Low      Close  Adj Close  \\\n",
       "0  2012-12-31  72.932854  76.485718  72.714287  76.024284  54.206390   \n",
       "1  2013-01-02  79.117142  79.285713  77.375717  78.432854  55.923737   \n",
       "2  2013-01-03  78.268570  78.524284  77.285713  77.442856  55.217865   \n",
       "3  2013-01-04  76.709999  76.947144  75.118568  75.285713  53.679771   \n",
       "4  2013-01-07  74.571426  75.614288  73.599998  74.842857  53.364014   \n",
       "\n",
       "      Volume  \n",
       "0  164873100  \n",
       "1  140129500  \n",
       "2   88241300  \n",
       "3  148583400  \n",
       "4  121039100  "
      ]
     },
     "execution_count": 52,
     "metadata": {},
     "output_type": "execute_result"
    }
   ],
   "source": [
    "#data\n",
    "#https://finance.yahoo.com/quote/AAPL/history?p=AAPL&.tsrc=fin-srch\n",
    "#we will be using the Apple stock prices from 1st January 2013 to 31 December 2017\n",
    "\n",
    "apple_training_complete = pd.read_csv('../../data/time_series/apple_training.csv') \n",
    "print(apple_training_complete.shape)\n",
    "apple_training_complete.head()"
   ]
  },
  {
   "cell_type": "code",
   "execution_count": 41,
   "metadata": {},
   "outputs": [],
   "source": [
    "#we are only interested in the opening price of the stock. Therefore, we will filter all the data from our training set and will retain only the values for the Open column\n",
    "\n",
    "apple_training_processed = apple_training_complete.iloc[:, 1:2].values  "
   ]
  },
  {
   "cell_type": "code",
   "execution_count": 53,
   "metadata": {},
   "outputs": [],
   "source": [
    "#normalize\n",
    "from sklearn.preprocessing import MinMaxScaler  \n",
    "scaler = MinMaxScaler(feature_range = (0, 1))\n",
    "\n",
    "apple_training_scaled = scaler.fit_transform(apple_training_processed)  "
   ]
  },
  {
   "cell_type": "raw",
   "metadata": {},
   "source": [
    "Our feature set should contain the opening stock price values for the past 60 days while the label or dependent variable should be the stock price at the 61st day\n",
    "\n",
    "There are 1499 records in the training data. We execute a loop that starts from 61st record and stores all the previous 60 records to the feature_set list. The 61st record is stored in the labels list."
   ]
  },
  {
   "cell_type": "code",
   "execution_count": 43,
   "metadata": {},
   "outputs": [],
   "source": [
    "features_set = []  \n",
    "labels = []  \n",
    "for i in range(60, 1499):  \n",
    "    features_set.append(apple_training_scaled[i-60:i, 0])\n",
    "    labels.append(apple_training_scaled[i, 0])\n"
   ]
  },
  {
   "cell_type": "code",
   "execution_count": 44,
   "metadata": {},
   "outputs": [],
   "source": [
    "#We need to convert both the feature_set and the labels list to the numpy array before we can use it for training. \n",
    "\n",
    "features_set, labels = np.array(features_set), np.array(labels)"
   ]
  },
  {
   "cell_type": "raw",
   "metadata": {},
   "source": [
    "In order to train LSTM on our data, we need to convert our data into the shape accepted by the LSTM. We need to convert our data into three-dimensional format. \n",
    "\n",
    "The first dimension is the number of records or rows in the dataset which is 1499 in our case. \n",
    "\n",
    "The second dimension is the number of time steps which is 60 \n",
    "\n",
    "The last dimension is the number of indicators. Since we are only using one feature, i.e Open, the number of indicators will be one."
   ]
  },
  {
   "cell_type": "code",
   "execution_count": 45,
   "metadata": {},
   "outputs": [],
   "source": [
    "features_set = np.reshape(features_set, (features_set.shape[0], features_set.shape[1], 1))  \n"
   ]
  },
  {
   "cell_type": "code",
   "execution_count": 46,
   "metadata": {},
   "outputs": [],
   "source": [
    "from keras.models import Sequential  \n",
    "from keras.layers import Dense  \n",
    "from keras.layers import LSTM  \n",
    "from keras.layers import Dropout  "
   ]
  },
  {
   "cell_type": "code",
   "execution_count": 47,
   "metadata": {},
   "outputs": [],
   "source": [
    "model = Sequential()  \n",
    "#The first parameter to the input_shape is the number of time steps \n",
    "#while the last parameter is the number of indicators.\n",
    "model.add(LSTM(units=50, return_sequences=True, input_shape=(features_set.shape[1], 1)))  \n",
    "\n",
    "#Dropout layer is added to avoid over-fitting\n",
    "model.add(Dropout(0.2))  \n",
    "model.add(LSTM(units=50, return_sequences=True))  \n",
    "model.add(Dropout(0.2))\n",
    "\n",
    "model.add(LSTM(units=50, return_sequences=True))  \n",
    "model.add(Dropout(0.2))\n",
    "\n",
    "model.add(LSTM(units=50))  \n",
    "model.add(Dropout(0.2))  \n",
    "\n",
    "# The number of neurons in the dense layer will be set to 1 since we want to predict a single value in the output\n",
    "model.add(Dense(units = 1))  \n",
    "model.compile(optimizer = 'adam', loss = 'mean_squared_error') "
   ]
  },
  {
   "cell_type": "code",
   "execution_count": 48,
   "metadata": {},
   "outputs": [
    {
     "name": "stdout",
     "output_type": "stream",
     "text": [
      "Epoch 1/100\n",
      "1439/1439 [==============================] - 11s 7ms/step - loss: 0.0247: 3s -\n",
      "Epoch 2/100\n",
      "1439/1439 [==============================] - 8s 6ms/step - loss: 0.0039\n",
      "Epoch 3/100\n",
      "1439/1439 [==============================] - 10s 7ms/step - loss: 0.0032\n",
      "Epoch 4/100\n",
      "1439/1439 [==============================] - 8s 5ms/step - loss: 0.0032\n",
      "Epoch 5/100\n",
      "1439/1439 [==============================] - 8s 6ms/step - loss: 0.0035\n",
      "Epoch 6/100\n",
      "1439/1439 [==============================] - 8s 6ms/step - loss: 0.0031\n",
      "Epoch 7/100\n",
      "1439/1439 [==============================] - 8s 6ms/step - loss: 0.0026\n",
      "Epoch 8/100\n",
      "1439/1439 [==============================] - 8s 6ms/step - loss: 0.0027\n",
      "Epoch 9/100\n",
      "1439/1439 [==============================] - 8s 6ms/step - loss: 0.0033\n",
      "Epoch 10/100\n",
      "1439/1439 [==============================] - 9s 6ms/step - loss: 0.0027\n",
      "Epoch 11/100\n",
      "1439/1439 [==============================] - 8s 6ms/step - loss: 0.0026\n",
      "Epoch 12/100\n",
      "1439/1439 [==============================] - 8s 6ms/step - loss: 0.0024\n",
      "Epoch 13/100\n",
      "1439/1439 [==============================] - 8s 6ms/step - loss: 0.0025\n",
      "Epoch 14/100\n",
      "1439/1439 [==============================] - 8s 6ms/step - loss: 0.0022\n",
      "Epoch 15/100\n",
      "1439/1439 [==============================] - 8s 6ms/step - loss: 0.0020\n",
      "Epoch 16/100\n",
      "1439/1439 [==============================] - 8s 6ms/step - loss: 0.0021\n",
      "Epoch 17/100\n",
      "1439/1439 [==============================] - 9s 6ms/step - loss: 0.0020\n",
      "Epoch 18/100\n",
      "1439/1439 [==============================] - 9s 6ms/step - loss: 0.0023\n",
      "Epoch 19/100\n",
      "1439/1439 [==============================] - 8s 6ms/step - loss: 0.0019\n",
      "Epoch 20/100\n",
      "1439/1439 [==============================] - 8s 6ms/step - loss: 0.0024\n",
      "Epoch 21/100\n",
      "1439/1439 [==============================] - 8s 6ms/step - loss: 0.0020\n",
      "Epoch 22/100\n",
      "1439/1439 [==============================] - 9s 6ms/step - loss: 0.0018\n",
      "Epoch 23/100\n",
      "1439/1439 [==============================] - 8s 6ms/step - loss: 0.0017\n",
      "Epoch 24/100\n",
      "1439/1439 [==============================] - 8s 6ms/step - loss: 0.0019\n",
      "Epoch 25/100\n",
      "1439/1439 [==============================] - 9s 6ms/step - loss: 0.0017\n",
      "Epoch 26/100\n",
      "1439/1439 [==============================] - 8s 6ms/step - loss: 0.0017\n",
      "Epoch 27/100\n",
      "1439/1439 [==============================] - 9s 6ms/step - loss: 0.0015\n",
      "Epoch 28/100\n",
      "1439/1439 [==============================] - 8s 6ms/step - loss: 0.0017\n",
      "Epoch 29/100\n",
      "1439/1439 [==============================] - 8s 6ms/step - loss: 0.0017\n",
      "Epoch 30/100\n",
      "1439/1439 [==============================] - 8s 6ms/step - loss: 0.0019\n",
      "Epoch 31/100\n",
      "1439/1439 [==============================] - 9s 6ms/step - loss: 0.0018\n",
      "Epoch 32/100\n",
      "1439/1439 [==============================] - 8s 6ms/step - loss: 0.0015\n",
      "Epoch 33/100\n",
      "1439/1439 [==============================] - 8s 6ms/step - loss: 0.0016\n",
      "Epoch 34/100\n",
      "1439/1439 [==============================] - 9s 6ms/step - loss: 0.0015\n",
      "Epoch 35/100\n",
      "1439/1439 [==============================] - 8s 6ms/step - loss: 0.0014\n",
      "Epoch 36/100\n",
      "1439/1439 [==============================] - 8s 6ms/step - loss: 0.0015\n",
      "Epoch 37/100\n",
      "1439/1439 [==============================] - 8s 6ms/step - loss: 0.0016\n",
      "Epoch 38/100\n",
      "1439/1439 [==============================] - 8s 6ms/step - loss: 0.0017\n",
      "Epoch 39/100\n",
      "1439/1439 [==============================] - 8s 6ms/step - loss: 0.0015\n",
      "Epoch 40/100\n",
      "1439/1439 [==============================] - 8s 6ms/step - loss: 0.0015\n",
      "Epoch 41/100\n",
      "1439/1439 [==============================] - 9s 6ms/step - loss: 0.0014\n",
      "Epoch 42/100\n",
      "1439/1439 [==============================] - 9s 6ms/step - loss: 0.0013\n",
      "Epoch 43/100\n",
      "1439/1439 [==============================] - 9s 6ms/step - loss: 0.0012A: 0s - loss: 0.00\n",
      "Epoch 44/100\n",
      "1439/1439 [==============================] - 9s 6ms/step - loss: 0.0013\n",
      "Epoch 45/100\n",
      "1439/1439 [==============================] - 9s 6ms/step - loss: 0.0012\n",
      "Epoch 46/100\n",
      "1439/1439 [==============================] - 9s 6ms/step - loss: 0.0012\n",
      "Epoch 47/100\n",
      "1439/1439 [==============================] - 9s 6ms/step - loss: 0.0013\n",
      "Epoch 48/100\n",
      "1439/1439 [==============================] - 9s 6ms/step - loss: 0.0013A: 2s \n",
      "Epoch 49/100\n",
      "1439/1439 [==============================] - 8s 6ms/step - loss: 0.0013\n",
      "Epoch 50/100\n",
      "1439/1439 [==============================] - 8s 6ms/step - loss: 0.0013\n",
      "Epoch 51/100\n",
      "1439/1439 [==============================] - 8s 6ms/step - loss: 0.0012\n",
      "Epoch 52/100\n",
      "1439/1439 [==============================] - 11s 8ms/step - loss: 0.0013\n",
      "Epoch 53/100\n",
      "1439/1439 [==============================] - 9s 6ms/step - loss: 0.0011\n",
      "Epoch 54/100\n",
      "1439/1439 [==============================] - 8s 6ms/step - loss: 0.0011\n",
      "Epoch 55/100\n",
      "1439/1439 [==============================] - 9s 6ms/step - loss: 0.0012\n",
      "Epoch 56/100\n",
      "1439/1439 [==============================] - 10s 7ms/step - loss: 0.0013\n",
      "Epoch 57/100\n",
      "1439/1439 [==============================] - 8s 6ms/step - loss: 0.0011\n",
      "Epoch 58/100\n",
      "1439/1439 [==============================] - 9s 7ms/step - loss: 0.0011\n",
      "Epoch 59/100\n",
      "1439/1439 [==============================] - 9s 6ms/step - loss: 0.0014\n",
      "Epoch 60/100\n",
      "1439/1439 [==============================] - 9s 6ms/step - loss: 0.0012\n",
      "Epoch 61/100\n",
      "1439/1439 [==============================] - 10s 7ms/step - loss: 0.0011\n",
      "Epoch 62/100\n",
      "1439/1439 [==============================] - 9s 6ms/step - loss: 0.0011A: \n",
      "Epoch 63/100\n",
      "1439/1439 [==============================] - 8s 6ms/step - loss: 0.0011\n",
      "Epoch 64/100\n",
      "1439/1439 [==============================] - 9s 6ms/step - loss: 0.0013A: 0s - loss: 0.\n",
      "Epoch 65/100\n",
      "1439/1439 [==============================] - 9s 6ms/step - loss: 0.0012\n",
      "Epoch 66/100\n",
      "1439/1439 [==============================] - 9s 6ms/step - loss: 0.0013\n",
      "Epoch 67/100\n",
      "1439/1439 [==============================] - 8s 6ms/step - loss: 9.7711e-04\n",
      "Epoch 68/100\n",
      "1439/1439 [==============================] - 8s 6ms/step - loss: 0.0012\n",
      "Epoch 69/100\n",
      "1439/1439 [==============================] - 8s 6ms/step - loss: 0.0010\n",
      "Epoch 70/100\n",
      "1439/1439 [==============================] - 8s 6ms/step - loss: 0.0011\n",
      "Epoch 71/100\n",
      "1439/1439 [==============================] - 8s 6ms/step - loss: 0.0011\n",
      "Epoch 72/100\n",
      "1439/1439 [==============================] - 8s 6ms/step - loss: 9.8901e-04\n",
      "Epoch 73/100\n",
      "1439/1439 [==============================] - 9s 7ms/step - loss: 8.9929e-04\n",
      "Epoch 74/100\n",
      "1439/1439 [==============================] - 8s 6ms/step - loss: 8.8614e-04\n",
      "Epoch 75/100\n",
      "1439/1439 [==============================] - 8s 6ms/step - loss: 9.1861e-04\n",
      "Epoch 76/100\n",
      "1439/1439 [==============================] - 9s 6ms/step - loss: 0.0011\n",
      "Epoch 77/100\n",
      "1439/1439 [==============================] - 9s 6ms/step - loss: 0.0010A: \n",
      "Epoch 78/100\n",
      "1439/1439 [==============================] - 9s 6ms/step - loss: 9.2315e-04\n",
      "Epoch 79/100\n",
      "1439/1439 [==============================] - 9s 6ms/step - loss: 8.6773e-04\n",
      "Epoch 80/100\n",
      "1439/1439 [==============================] - 9s 7ms/step - loss: 9.3545e-04\n",
      "Epoch 81/100\n",
      "1439/1439 [==============================] - 9s 6ms/step - loss: 9.6313e-04\n",
      "Epoch 82/100\n",
      "1439/1439 [==============================] - 9s 6ms/step - loss: 9.0007e-04\n",
      "Epoch 83/100\n",
      "1439/1439 [==============================] - 9s 6ms/step - loss: 0.0011\n",
      "Epoch 84/100\n",
      "1439/1439 [==============================] - 9s 6ms/step - loss: 0.0010\n",
      "Epoch 85/100\n",
      "1439/1439 [==============================] - 10s 7ms/step - loss: 9.9269e-04\n",
      "Epoch 86/100\n",
      "1439/1439 [==============================] - 9s 6ms/step - loss: 0.0011- \n",
      "Epoch 87/100\n",
      "1439/1439 [==============================] - 8s 6ms/step - loss: 8.6128e-04\n",
      "Epoch 88/100\n",
      "1439/1439 [==============================] - 8s 5ms/step - loss: 8.6912e-04\n",
      "Epoch 89/100\n",
      "1439/1439 [==============================] - 8s 6ms/step - loss: 9.5312e-04\n",
      "Epoch 90/100\n",
      "1439/1439 [==============================] - 8s 6ms/step - loss: 9.2022e-04\n",
      "Epoch 91/100\n",
      "1439/1439 [==============================] - 8s 6ms/step - loss: 9.8471e-04\n",
      "Epoch 92/100\n",
      "1439/1439 [==============================] - 8s 6ms/step - loss: 9.0086e-04\n",
      "Epoch 93/100\n",
      "1439/1439 [==============================] - 8s 6ms/step - loss: 8.2997e-04\n",
      "Epoch 94/100\n",
      "1439/1439 [==============================] - 8s 6ms/step - loss: 8.0248e-04\n",
      "Epoch 95/100\n"
     ]
    },
    {
     "name": "stdout",
     "output_type": "stream",
     "text": [
      "1439/1439 [==============================] - 8s 6ms/step - loss: 9.5335e-04\n",
      "Epoch 96/100\n",
      "1439/1439 [==============================] - 11s 7ms/step - loss: 7.9425e-04\n",
      "Epoch 97/100\n",
      "1439/1439 [==============================] - 8s 6ms/step - loss: 9.4815e-04\n",
      "Epoch 98/100\n",
      "1439/1439 [==============================] - 9s 6ms/step - loss: 0.0010\n",
      "Epoch 99/100\n",
      "1439/1439 [==============================] - 9s 6ms/step - loss: 8.1059e-04\n",
      "Epoch 100/100\n",
      "1439/1439 [==============================] - 9s 6ms/step - loss: 7.9869e-04\n"
     ]
    },
    {
     "data": {
      "text/plain": [
       "<keras.callbacks.History at 0x7f65982fab00>"
      ]
     },
     "execution_count": 48,
     "metadata": {},
     "output_type": "execute_result"
    }
   ],
   "source": [
    "model.fit(features_set, labels, epochs = 100, batch_size = 32)  \n"
   ]
  },
  {
   "cell_type": "code",
   "execution_count": 51,
   "metadata": {},
   "outputs": [
    {
     "name": "stdout",
     "output_type": "stream",
     "text": [
      "(20, 7)\n"
     ]
    },
    {
     "data": {
      "text/html": [
       "<div>\n",
       "<style scoped>\n",
       "    .dataframe tbody tr th:only-of-type {\n",
       "        vertical-align: middle;\n",
       "    }\n",
       "\n",
       "    .dataframe tbody tr th {\n",
       "        vertical-align: top;\n",
       "    }\n",
       "\n",
       "    .dataframe thead th {\n",
       "        text-align: right;\n",
       "    }\n",
       "</style>\n",
       "<table border=\"1\" class=\"dataframe\">\n",
       "  <thead>\n",
       "    <tr style=\"text-align: right;\">\n",
       "      <th></th>\n",
       "      <th>Date</th>\n",
       "      <th>Open</th>\n",
       "      <th>High</th>\n",
       "      <th>Low</th>\n",
       "      <th>Close</th>\n",
       "      <th>Adj Close</th>\n",
       "      <th>Volume</th>\n",
       "    </tr>\n",
       "  </thead>\n",
       "  <tbody>\n",
       "    <tr>\n",
       "      <th>0</th>\n",
       "      <td>2018-01-02</td>\n",
       "      <td>170.160004</td>\n",
       "      <td>172.300003</td>\n",
       "      <td>169.259995</td>\n",
       "      <td>172.259995</td>\n",
       "      <td>169.712067</td>\n",
       "      <td>25555900</td>\n",
       "    </tr>\n",
       "    <tr>\n",
       "      <th>1</th>\n",
       "      <td>2018-01-03</td>\n",
       "      <td>172.529999</td>\n",
       "      <td>174.550003</td>\n",
       "      <td>171.960007</td>\n",
       "      <td>172.229996</td>\n",
       "      <td>169.682510</td>\n",
       "      <td>29517900</td>\n",
       "    </tr>\n",
       "    <tr>\n",
       "      <th>2</th>\n",
       "      <td>2018-01-04</td>\n",
       "      <td>172.539993</td>\n",
       "      <td>173.470001</td>\n",
       "      <td>172.080002</td>\n",
       "      <td>173.029999</td>\n",
       "      <td>170.470703</td>\n",
       "      <td>22434600</td>\n",
       "    </tr>\n",
       "    <tr>\n",
       "      <th>3</th>\n",
       "      <td>2018-01-05</td>\n",
       "      <td>173.440002</td>\n",
       "      <td>175.369995</td>\n",
       "      <td>173.050003</td>\n",
       "      <td>175.000000</td>\n",
       "      <td>172.411560</td>\n",
       "      <td>23660000</td>\n",
       "    </tr>\n",
       "    <tr>\n",
       "      <th>4</th>\n",
       "      <td>2018-01-08</td>\n",
       "      <td>174.350006</td>\n",
       "      <td>175.610001</td>\n",
       "      <td>173.929993</td>\n",
       "      <td>174.350006</td>\n",
       "      <td>171.771179</td>\n",
       "      <td>20567800</td>\n",
       "    </tr>\n",
       "  </tbody>\n",
       "</table>\n",
       "</div>"
      ],
      "text/plain": [
       "         Date        Open        High         Low       Close   Adj Close  \\\n",
       "0  2018-01-02  170.160004  172.300003  169.259995  172.259995  169.712067   \n",
       "1  2018-01-03  172.529999  174.550003  171.960007  172.229996  169.682510   \n",
       "2  2018-01-04  172.539993  173.470001  172.080002  173.029999  170.470703   \n",
       "3  2018-01-05  173.440002  175.369995  173.050003  175.000000  172.411560   \n",
       "4  2018-01-08  174.350006  175.610001  173.929993  174.350006  171.771179   \n",
       "\n",
       "     Volume  \n",
       "0  25555900  \n",
       "1  29517900  \n",
       "2  22434600  \n",
       "3  23660000  \n",
       "4  20567800  "
      ]
     },
     "execution_count": 51,
     "metadata": {},
     "output_type": "execute_result"
    }
   ],
   "source": [
    "#For the sake of prediction, we will use the Apple stock prices for the month of January 2018.\n",
    "\n",
    "apple_testing_complete = pd.read_csv('../../data/time_series/apple_testing.csv')  \n",
    "apple_testing_processed = apple_testing_complete.iloc[:, 1:2].values  \n",
    "\n",
    "print(apple_testing_complete.shape)\n",
    "apple_testing_complete.head()"
   ]
  },
  {
   "cell_type": "raw",
   "metadata": {},
   "source": [
    "For each day of January 2018, we want our feature set to contain the opening stock prices for the previous 60 days. For the 1st of January, we need the stock prices for the previous 60 days. To do so, we need to concatenate our training data and test data before preprocessing."
   ]
  },
  {
   "cell_type": "code",
   "execution_count": 26,
   "metadata": {},
   "outputs": [],
   "source": [
    "apple_total = pd.concat((apple_training_complete['Open'], apple_testing_complete['Open']), axis=0)  "
   ]
  },
  {
   "cell_type": "raw",
   "metadata": {},
   "source": [
    "The input for each day should contain the opening stock prices for the previous 60 days. That means we need opening stock prices for the 20 test days for the month of January 2018 and the 60 stock prices from the last 60 days for the training set. "
   ]
  },
  {
   "cell_type": "code",
   "execution_count": 57,
   "metadata": {},
   "outputs": [
    {
     "data": {
      "text/plain": [
       "80"
      ]
     },
     "execution_count": 57,
     "metadata": {},
     "output_type": "execute_result"
    }
   ],
   "source": [
    "test_inputs = apple_total[len(apple_total) - len(apple_testing) - 60:].values  \n",
    "test_inputs.size"
   ]
  },
  {
   "cell_type": "code",
   "execution_count": 28,
   "metadata": {},
   "outputs": [],
   "source": [
    "#normalize\n",
    "\n",
    "test_inputs = test_inputs.reshape(-1,1)  \n",
    "test_inputs = scaler.transform(test_inputs)  "
   ]
  },
  {
   "cell_type": "code",
   "execution_count": 29,
   "metadata": {},
   "outputs": [],
   "source": [
    "# final test input set that will contain previous 60 stock prices for the month of January(80 values ).  \n",
    "test_features = []  \n",
    "for i in range(60, 80):  \n",
    "    test_features.append(test_inputs[i-60:i, 0])"
   ]
  },
  {
   "cell_type": "code",
   "execution_count": 30,
   "metadata": {},
   "outputs": [],
   "source": [
    "#Finally, we need to convert our data into the three-dimensional format which can be used as input to the LSTM. \n",
    "\n",
    "test_features = np.array(test_features)  \n",
    "test_features = np.reshape(test_features, (test_features.shape[0], test_features.shape[1], 1))  "
   ]
  },
  {
   "cell_type": "code",
   "execution_count": 31,
   "metadata": {},
   "outputs": [],
   "source": [
    "predictions = model.predict(test_features) "
   ]
  },
  {
   "cell_type": "code",
   "execution_count": 59,
   "metadata": {},
   "outputs": [
    {
     "data": {
      "text/plain": [
       "20"
      ]
     },
     "execution_count": 59,
     "metadata": {},
     "output_type": "execute_result"
    }
   ],
   "source": [
    "#Since we scaled our data, the predictions made by the LSTM are also scaled. \n",
    "#We need to reverse the scaled prediction back to their actual values. \n",
    "#To do so, we can use the ìnverse_transform method of the scaler object we created during training.\n",
    "\n",
    "predictions = scaler.inverse_transform(predictions)  \n",
    "predictions.size"
   ]
  },
  {
   "cell_type": "code",
   "execution_count": 33,
   "metadata": {},
   "outputs": [
    {
     "data": {
      "image/png": "[encoded data removed]",
      "text/plain": [
       "<Figure size 720x432 with 1 Axes>"
      ]
     },
     "metadata": {},
     "output_type": "display_data"
    }
   ],
   "source": [
    "plt.figure(figsize=(10,6))  \n",
    "plt.plot(apple_testing_processed, color='blue', label='Actual Apple Stock Price')  \n",
    "plt.plot(predictions , color='red', label='Predicted Apple Stock Price')  \n",
    "plt.title('Apple Stock Price Prediction')  \n",
    "plt.xlabel('Date')  \n",
    "plt.ylabel('Apple Stock Price')  \n",
    "plt.legend()  \n",
    "plt.show()  "
   ]
  },
  {
   "cell_type": "code",
   "execution_count": null,
   "metadata": {},
   "outputs": [],
   "source": []
  }
 ],
 "metadata": {
  "kernelspec": {
   "display_name": "Python 3",
   "language": "python",
   "name": "python3"
  },
  "language_info": {
   "codemirror_mode": {
    "name": "ipython",
    "version": 3
   },
   "file_extension": ".py",
   "mimetype": "text/x-python",
   "name": "python",
   "nbconvert_exporter": "python",
   "pygments_lexer": "ipython3",
   "version": "3.5.2"
  }
 },
 "nbformat": 4,
 "nbformat_minor": 2
}

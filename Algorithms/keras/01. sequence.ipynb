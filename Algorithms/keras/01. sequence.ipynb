{
  "nbformat": 4,
  "nbformat_minor": 0,
  "metadata": {
    "colab": {
      "name": "01. sequence.ipynb",
      "version": "0.3.2",
      "provenance": []
    },
    "language_info": {
      "codemirror_mode": {
        "name": "ipython",
        "version": 3
      },
      "file_extension": ".py",
      "mimetype": "text/x-python",
      "name": "python",
      "nbconvert_exporter": "python",
      "pygments_lexer": "ipython3",
      "version": "3.5.2"
    },
    "kernelspec": {
      "display_name": "Python 3",
      "language": "python",
      "name": "python3"
    }
  },
  "cells": [
    {
      "cell_type": "code",
      "metadata": {
        "id": "_PE8aCGp6k_g",
        "colab_type": "code",
        "colab": {
          "base_uri": "https://localhost:8080/",
          "height": 34
        },
        "outputId": "284f7234-1068-4bc8-d05b-4cf8fd2e1e62"
      },
      "source": [
        "import numpy as np\n",
        "from keras.models import Sequential\n",
        "from keras.layers import Dense\n",
        "from keras.layers import LSTM\n",
        "from keras.layers import Activation"
      ],
      "execution_count": 1,
      "outputs": [
        {
          "output_type": "stream",
          "text": [
            "Using TensorFlow backend.\n"
          ],
          "name": "stderr"
        }
      ]
    },
    {
      "cell_type": "markdown",
      "metadata": {
        "id": "PzrNSAJl7K78",
        "colab_type": "text"
      },
      "source": [
        "1. Sequnce to one"
      ]
    },
    {
      "cell_type": "code",
      "metadata": {
        "id": "1GezDVAl6k_k",
        "colab_type": "code",
        "colab": {}
      },
      "source": [
        "x=[[[[1],[2],[3]],[[2],[3],[4]],[[3],[4],[5]],[[4],[5],[6]],[[6],[7],[8]],[[7],[8],[9]],[[8],[9],[10]],[[9],[10],[11]]]]\n",
        "y=[100,200,300,400,600,700,800,900]"
      ],
      "execution_count": 0,
      "outputs": []
    },
    {
      "cell_type": "code",
      "metadata": {
        "id": "nOQJ-0Z86k_m",
        "colab_type": "code",
        "colab": {
          "base_uri": "https://localhost:8080/",
          "height": 445
        },
        "outputId": "ab7ce9dc-3572-4195-bb6b-c0ab60d7dec6"
      },
      "source": [
        "model = Sequential()\n",
        "model.add(LSTM(8,input_shape=(3,1),return_sequences=False))#True = many to many\n",
        "model.add(Dense(2,kernel_initializer='normal',activation='linear'))\n",
        "model.add(Dense(1,kernel_initializer='normal',activation='linear'))\n",
        "model.compile(loss='mse',optimizer ='adam',metrics=['accuracy'])\n",
        "\n",
        "model.summary()"
      ],
      "execution_count": 3,
      "outputs": [
        {
          "output_type": "stream",
          "text": [
            "WARNING: Logging before flag parsing goes to stderr.\n",
            "W0712 02:02:38.115947 139729193826176 deprecation_wrapper.py:119] From /usr/local/lib/python3.6/dist-packages/keras/backend/tensorflow_backend.py:74: The name tf.get_default_graph is deprecated. Please use tf.compat.v1.get_default_graph instead.\n",
            "\n",
            "W0712 02:02:38.164079 139729193826176 deprecation_wrapper.py:119] From /usr/local/lib/python3.6/dist-packages/keras/backend/tensorflow_backend.py:517: The name tf.placeholder is deprecated. Please use tf.compat.v1.placeholder instead.\n",
            "\n",
            "W0712 02:02:38.171600 139729193826176 deprecation_wrapper.py:119] From /usr/local/lib/python3.6/dist-packages/keras/backend/tensorflow_backend.py:4138: The name tf.random_uniform is deprecated. Please use tf.random.uniform instead.\n",
            "\n",
            "W0712 02:02:38.412567 139729193826176 deprecation_wrapper.py:119] From /usr/local/lib/python3.6/dist-packages/keras/backend/tensorflow_backend.py:4115: The name tf.random_normal is deprecated. Please use tf.random.normal instead.\n",
            "\n",
            "W0712 02:02:38.440381 139729193826176 deprecation_wrapper.py:119] From /usr/local/lib/python3.6/dist-packages/keras/optimizers.py:790: The name tf.train.Optimizer is deprecated. Please use tf.compat.v1.train.Optimizer instead.\n",
            "\n"
          ],
          "name": "stderr"
        },
        {
          "output_type": "stream",
          "text": [
            "_________________________________________________________________\n",
            "Layer (type)                 Output Shape              Param #   \n",
            "=================================================================\n",
            "lstm_1 (LSTM)                (None, 8)                 320       \n",
            "_________________________________________________________________\n",
            "dense_1 (Dense)              (None, 2)                 18        \n",
            "_________________________________________________________________\n",
            "dense_2 (Dense)              (None, 1)                 3         \n",
            "=================================================================\n",
            "Total params: 341\n",
            "Trainable params: 341\n",
            "Non-trainable params: 0\n",
            "_________________________________________________________________\n"
          ],
          "name": "stdout"
        }
      ]
    },
    {
      "cell_type": "code",
      "metadata": {
        "id": "ePNFS9mz6k_o",
        "colab_type": "code",
        "colab": {
          "base_uri": "https://localhost:8080/",
          "height": 139
        },
        "outputId": "dc0ac372-3be0-4e15-dc3b-9b6b14b51ebc"
      },
      "source": [
        "model.fit(x,y,epochs=2000,batch_size=2,validation_split=0.05,verbose=0)"
      ],
      "execution_count": 4,
      "outputs": [
        {
          "output_type": "stream",
          "text": [
            "W0712 02:02:43.576594 139729193826176 deprecation.py:323] From /usr/local/lib/python3.6/dist-packages/tensorflow/python/ops/math_grad.py:1250: add_dispatch_support.<locals>.wrapper (from tensorflow.python.ops.array_ops) is deprecated and will be removed in a future version.\n",
            "Instructions for updating:\n",
            "Use tf.where in 2.0, which has the same broadcast rule as np.where\n",
            "W0712 02:02:44.058141 139729193826176 deprecation_wrapper.py:119] From /usr/local/lib/python3.6/dist-packages/keras/backend/tensorflow_backend.py:986: The name tf.assign_add is deprecated. Please use tf.compat.v1.assign_add instead.\n",
            "\n"
          ],
          "name": "stderr"
        },
        {
          "output_type": "execute_result",
          "data": {
            "text/plain": [
              "<keras.callbacks.History at 0x7f151b177ba8>"
            ]
          },
          "metadata": {
            "tags": []
          },
          "execution_count": 4
        }
      ]
    },
    {
      "cell_type": "code",
      "metadata": {
        "id": "2sk5yTdK6k_q",
        "colab_type": "code",
        "colab": {
          "base_uri": "https://localhost:8080/",
          "height": 34
        },
        "outputId": "e4f13b70-bdbd-4c14-d466-f1c8b3059a15"
      },
      "source": [
        "input=[[[[5],[6],[7]]]]\n",
        "result = model.predict(input)\n",
        "print(input, \" \", result)"
      ],
      "execution_count": 6,
      "outputs": [
        {
          "output_type": "stream",
          "text": [
            "[[[[5], [6], [7]]]]   [[500.97403]]\n"
          ],
          "name": "stdout"
        }
      ]
    },
    {
      "cell_type": "markdown",
      "metadata": {
        "id": "ncf7M2Vi7Sr5",
        "colab_type": "text"
      },
      "source": [
        "2. sequence to sequence"
      ]
    },
    {
      "cell_type": "code",
      "metadata": {
        "id": "tA2N-wGB6k_t",
        "colab_type": "code",
        "colab": {}
      },
      "source": [
        "x2=[[[[1],[2],[3]],[[2],[3],[4]],[[3],[4],[5]],[[4],[5],[6]],[[6],[7],[8]],[[7],[8],[9]],[[8],[9],[10]],[[9],[10],[11]]]]\n",
        "y2=[[[[100],[200],[300]],[[200],[300],[400]],[[300],[400],[500]],[[400],[500],[600]],[[600],[700],[800]],[[700],[800],[900]],[[800],[900],[1000]],[[900],[1000],[1100]]]]"
      ],
      "execution_count": 0,
      "outputs": []
    },
    {
      "cell_type": "code",
      "metadata": {
        "id": "qOtfpkHM6k_v",
        "colab_type": "code",
        "colab": {
          "base_uri": "https://localhost:8080/",
          "height": 238
        },
        "outputId": "e91ca039-0cd3-4971-acf6-8c6c2e87040d"
      },
      "source": [
        "model2 = Sequential()\n",
        "model2.add(LSTM(8,input_shape=(3,1),return_sequences=True))#True = many to many\n",
        "model2.add(Dense(2,kernel_initializer='normal',activation='linear'))\n",
        "model2.add(Dense(1,kernel_initializer='normal',activation='linear'))\n",
        "model2.compile(loss='mse',optimizer ='adam',metrics=['accuracy'])\n",
        "\n",
        "model2.summary()"
      ],
      "execution_count": 8,
      "outputs": [
        {
          "output_type": "stream",
          "text": [
            "_________________________________________________________________\n",
            "Layer (type)                 Output Shape              Param #   \n",
            "=================================================================\n",
            "lstm_2 (LSTM)                (None, 3, 8)              320       \n",
            "_________________________________________________________________\n",
            "dense_3 (Dense)              (None, 3, 2)              18        \n",
            "_________________________________________________________________\n",
            "dense_4 (Dense)              (None, 3, 1)              3         \n",
            "=================================================================\n",
            "Total params: 341\n",
            "Trainable params: 341\n",
            "Non-trainable params: 0\n",
            "_________________________________________________________________\n"
          ],
          "name": "stdout"
        }
      ]
    },
    {
      "cell_type": "code",
      "metadata": {
        "id": "m3Ro-05i6k_x",
        "colab_type": "code",
        "colab": {}
      },
      "source": [
        "model2.fit(x2,y2,epochs=2000,batch_size=2,validation_split=0.05,verbose=0);"
      ],
      "execution_count": 0,
      "outputs": []
    },
    {
      "cell_type": "code",
      "metadata": {
        "id": "L5EQlzFl6k_z",
        "colab_type": "code",
        "colab": {
          "base_uri": "https://localhost:8080/",
          "height": 34
        },
        "outputId": "ee6154ea-7f1f-4e24-9695-c073d30d5468"
      },
      "source": [
        "input=[[[[5],[6],[7]]]]\n",
        "result = model.predict(input)\n",
        "print(input, \" \", result)"
      ],
      "execution_count": 11,
      "outputs": [
        {
          "output_type": "stream",
          "text": [
            "[[[[5], [6], [7]]]]   [[500.97403]]\n"
          ],
          "name": "stdout"
        }
      ]
    }
  ]
}
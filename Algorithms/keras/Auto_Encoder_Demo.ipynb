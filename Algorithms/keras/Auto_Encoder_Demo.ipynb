{
  "nbformat": 4,
  "nbformat_minor": 0,
  "metadata": {
    "colab": {
      "name": "Auto Encoder Demo.ipynb",
      "version": "0.3.2",
      "provenance": [],
      "include_colab_link": true
    },
    "kernelspec": {
      "name": "python3",
      "display_name": "Python 3"
    }
  },
  "cells": [
    {
      "cell_type": "markdown",
      "metadata": {
        "id": "view-in-github",
        "colab_type": "text"
      },
      "source": [
        "<a href=\"https://colab.research.google.com/github/getmubarak/ML/blob/master/Algorithms/keras/Auto_Encoder_Demo.ipynb\" target=\"_parent\"><img src=\"https://colab.research.google.com/assets/colab-badge.svg\" alt=\"Open In Colab\"/></a>"
      ]
    },
    {
      "cell_type": "code",
      "metadata": {
        "id": "0ahwojeecxhq",
        "colab_type": "code",
        "colab": {
          "base_uri": "https://localhost:8080/",
          "height": 171
        },
        "outputId": "db8c6eca-fa0c-439e-d33f-3132f34089df"
      },
      "source": [
        "from keras.layers import Input, Dense\n",
        "from keras.models import Model\n",
        "\n",
        "# this is the size of our encoded representations\n",
        "encoding_dim = 32  # 32 floats -> compression of factor 24.5, assuming the input is 784 floats\n",
        "\n",
        "# this is our input placeholder\n",
        "input_img = Input(shape=(784,))\n",
        "# \"encoded\" is the encoded representation of the input\n",
        "encoded = Dense(encoding_dim, activation='relu')(input_img)\n",
        "# \"decoded\" is the lossy reconstruction of the input\n",
        "decoded = Dense(784, activation='sigmoid')(encoded)\n",
        "\n",
        "# this model maps an input to its reconstruction\n",
        "autoencoder = Model(input_img, decoded)"
      ],
      "execution_count": 1,
      "outputs": [
        {
          "output_type": "stream",
          "text": [
            "Using TensorFlow backend.\n",
            "WARNING: Logging before flag parsing goes to stderr.\n",
            "W0710 01:33:02.478553 140544878532480 deprecation_wrapper.py:119] From /usr/local/lib/python3.6/dist-packages/keras/backend/tensorflow_backend.py:74: The name tf.get_default_graph is deprecated. Please use tf.compat.v1.get_default_graph instead.\n",
            "\n",
            "W0710 01:33:02.520546 140544878532480 deprecation_wrapper.py:119] From /usr/local/lib/python3.6/dist-packages/keras/backend/tensorflow_backend.py:517: The name tf.placeholder is deprecated. Please use tf.compat.v1.placeholder instead.\n",
            "\n",
            "W0710 01:33:02.529086 140544878532480 deprecation_wrapper.py:119] From /usr/local/lib/python3.6/dist-packages/keras/backend/tensorflow_backend.py:4138: The name tf.random_uniform is deprecated. Please use tf.random.uniform instead.\n",
            "\n"
          ],
          "name": "stderr"
        }
      ]
    },
    {
      "cell_type": "code",
      "metadata": {
        "id": "j9COS5Ksc9CW",
        "colab_type": "code",
        "colab": {}
      },
      "source": [
        "# this model maps an input to its encoded representation\n",
        "encoder = Model(input_img, encoded)"
      ],
      "execution_count": 0,
      "outputs": []
    },
    {
      "cell_type": "code",
      "metadata": {
        "id": "sDqY5FHpc-T7",
        "colab_type": "code",
        "colab": {}
      },
      "source": [
        "# create a placeholder for an encoded (32-dimensional) input\n",
        "encoded_input = Input(shape=(encoding_dim,))\n",
        "# retrieve the last layer of the autoencoder model\n",
        "decoder_layer = autoencoder.layers[-1]\n",
        "# create the decoder model\n",
        "decoder = Model(encoded_input, decoder_layer(encoded_input))"
      ],
      "execution_count": 0,
      "outputs": []
    },
    {
      "cell_type": "code",
      "metadata": {
        "id": "bTfpmK8ydE6q",
        "colab_type": "code",
        "colab": {
          "base_uri": "https://localhost:8080/",
          "height": 154
        },
        "outputId": "8d9c4b84-5989-43bd-9a93-a571434979bb"
      },
      "source": [
        "autoencoder.compile(optimizer='adadelta', loss='binary_crossentropy')"
      ],
      "execution_count": 5,
      "outputs": [
        {
          "output_type": "stream",
          "text": [
            "W0710 01:33:53.966467 140544878532480 deprecation_wrapper.py:119] From /usr/local/lib/python3.6/dist-packages/keras/optimizers.py:790: The name tf.train.Optimizer is deprecated. Please use tf.compat.v1.train.Optimizer instead.\n",
            "\n",
            "W0710 01:33:53.995175 140544878532480 deprecation_wrapper.py:119] From /usr/local/lib/python3.6/dist-packages/keras/backend/tensorflow_backend.py:3376: The name tf.log is deprecated. Please use tf.math.log instead.\n",
            "\n",
            "W0710 01:33:54.003361 140544878532480 deprecation.py:323] From /usr/local/lib/python3.6/dist-packages/tensorflow/python/ops/nn_impl.py:180: add_dispatch_support.<locals>.wrapper (from tensorflow.python.ops.array_ops) is deprecated and will be removed in a future version.\n",
            "Instructions for updating:\n",
            "Use tf.where in 2.0, which has the same broadcast rule as np.where\n"
          ],
          "name": "stderr"
        }
      ]
    },
    {
      "cell_type": "code",
      "metadata": {
        "id": "MLAORIV6dKpj",
        "colab_type": "code",
        "colab": {
          "base_uri": "https://localhost:8080/",
          "height": 50
        },
        "outputId": "17db1e02-6a79-4da5-bf93-8f9def77fa23"
      },
      "source": [
        "from keras.datasets import mnist\n",
        "import numpy as np\n",
        "(x_train, _), (x_test, _) = mnist.load_data()"
      ],
      "execution_count": 6,
      "outputs": [
        {
          "output_type": "stream",
          "text": [
            "Downloading data from https://s3.amazonaws.com/img-datasets/mnist.npz\n",
            "11493376/11490434 [==============================] - 0s 0us/step\n"
          ],
          "name": "stdout"
        }
      ]
    },
    {
      "cell_type": "code",
      "metadata": {
        "id": "HyAkOcoMdOJk",
        "colab_type": "code",
        "colab": {
          "base_uri": "https://localhost:8080/",
          "height": 50
        },
        "outputId": "14d1eee1-ab37-43d1-c3a2-e4e0829ec4fa"
      },
      "source": [
        "x_train = x_train.astype('float32') / 255.\n",
        "x_test = x_test.astype('float32') / 255.\n",
        "x_train = x_train.reshape((len(x_train), np.prod(x_train.shape[1:])))\n",
        "x_test = x_test.reshape((len(x_test), np.prod(x_test.shape[1:])))\n",
        "print( x_train.shape)\n",
        "print (x_test.shape)"
      ],
      "execution_count": 8,
      "outputs": [
        {
          "output_type": "stream",
          "text": [
            "(60000, 784)\n",
            "(10000, 784)\n"
          ],
          "name": "stdout"
        }
      ]
    },
    {
      "cell_type": "code",
      "metadata": {
        "id": "fsiS4GGadSN_",
        "colab_type": "code",
        "colab": {
          "base_uri": "https://localhost:8080/",
          "height": 1000
        },
        "outputId": "d0588517-bffe-41af-e8e5-937dac7ae88b"
      },
      "source": [
        "autoencoder.fit(x_train, x_train,\n",
        "                epochs=50,\n",
        "                batch_size=256,\n",
        "                shuffle=True,\n",
        "                validation_data=(x_test, x_test))"
      ],
      "execution_count": 9,
      "outputs": [
        {
          "output_type": "stream",
          "text": [
            "W0710 01:35:34.318263 140544878532480 deprecation_wrapper.py:119] From /usr/local/lib/python3.6/dist-packages/keras/backend/tensorflow_backend.py:986: The name tf.assign_add is deprecated. Please use tf.compat.v1.assign_add instead.\n",
            "\n"
          ],
          "name": "stderr"
        },
        {
          "output_type": "stream",
          "text": [
            "Train on 60000 samples, validate on 10000 samples\n",
            "Epoch 1/50\n",
            "60000/60000 [==============================] - 5s 83us/step - loss: 0.3536 - val_loss: 0.2704\n",
            "Epoch 2/50\n",
            "60000/60000 [==============================] - 4s 70us/step - loss: 0.2628 - val_loss: 0.2512\n",
            "Epoch 3/50\n",
            "60000/60000 [==============================] - 4s 70us/step - loss: 0.2408 - val_loss: 0.2281\n",
            "Epoch 4/50\n",
            "60000/60000 [==============================] - 4s 69us/step - loss: 0.2207 - val_loss: 0.2107\n",
            "Epoch 5/50\n",
            "60000/60000 [==============================] - 4s 70us/step - loss: 0.2057 - val_loss: 0.1980\n",
            "Epoch 6/50\n",
            "60000/60000 [==============================] - 4s 69us/step - loss: 0.1947 - val_loss: 0.1883\n",
            "Epoch 7/50\n",
            "60000/60000 [==============================] - 4s 70us/step - loss: 0.1859 - val_loss: 0.1804\n",
            "Epoch 8/50\n",
            "60000/60000 [==============================] - 4s 69us/step - loss: 0.1787 - val_loss: 0.1740\n",
            "Epoch 9/50\n",
            "60000/60000 [==============================] - 4s 70us/step - loss: 0.1726 - val_loss: 0.1683\n",
            "Epoch 10/50\n",
            "60000/60000 [==============================] - 4s 70us/step - loss: 0.1675 - val_loss: 0.1638\n",
            "Epoch 11/50\n",
            "60000/60000 [==============================] - 4s 70us/step - loss: 0.1629 - val_loss: 0.1593\n",
            "Epoch 12/50\n",
            "60000/60000 [==============================] - 4s 70us/step - loss: 0.1589 - val_loss: 0.1555\n",
            "Epoch 13/50\n",
            "60000/60000 [==============================] - 4s 70us/step - loss: 0.1551 - val_loss: 0.1518\n",
            "Epoch 14/50\n",
            "60000/60000 [==============================] - 4s 69us/step - loss: 0.1516 - val_loss: 0.1483\n",
            "Epoch 15/50\n",
            "60000/60000 [==============================] - 4s 70us/step - loss: 0.1484 - val_loss: 0.1452\n",
            "Epoch 16/50\n",
            "60000/60000 [==============================] - 4s 69us/step - loss: 0.1453 - val_loss: 0.1423\n",
            "Epoch 17/50\n",
            "60000/60000 [==============================] - 4s 68us/step - loss: 0.1425 - val_loss: 0.1396\n",
            "Epoch 18/50\n",
            "60000/60000 [==============================] - 4s 69us/step - loss: 0.1399 - val_loss: 0.1371\n",
            "Epoch 19/50\n",
            "60000/60000 [==============================] - 4s 68us/step - loss: 0.1374 - val_loss: 0.1345\n",
            "Epoch 20/50\n",
            "60000/60000 [==============================] - 4s 68us/step - loss: 0.1350 - val_loss: 0.1323\n",
            "Epoch 21/50\n",
            "60000/60000 [==============================] - 4s 68us/step - loss: 0.1328 - val_loss: 0.1301\n",
            "Epoch 22/50\n",
            "60000/60000 [==============================] - 4s 68us/step - loss: 0.1307 - val_loss: 0.1282\n",
            "Epoch 23/50\n",
            "60000/60000 [==============================] - 4s 69us/step - loss: 0.1287 - val_loss: 0.1261\n",
            "Epoch 24/50\n",
            "60000/60000 [==============================] - 4s 69us/step - loss: 0.1268 - val_loss: 0.1243\n",
            "Epoch 25/50\n",
            "60000/60000 [==============================] - 4s 69us/step - loss: 0.1249 - val_loss: 0.1224\n",
            "Epoch 26/50\n",
            "60000/60000 [==============================] - 4s 69us/step - loss: 0.1232 - val_loss: 0.1208\n",
            "Epoch 27/50\n",
            "60000/60000 [==============================] - 4s 68us/step - loss: 0.1216 - val_loss: 0.1192\n",
            "Epoch 28/50\n",
            "60000/60000 [==============================] - 4s 68us/step - loss: 0.1201 - val_loss: 0.1177\n",
            "Epoch 29/50\n",
            "60000/60000 [==============================] - 4s 67us/step - loss: 0.1186 - val_loss: 0.1163\n",
            "Epoch 30/50\n",
            "60000/60000 [==============================] - 4s 68us/step - loss: 0.1173 - val_loss: 0.1150\n",
            "Epoch 31/50\n",
            "60000/60000 [==============================] - 4s 67us/step - loss: 0.1160 - val_loss: 0.1138\n",
            "Epoch 32/50\n",
            "60000/60000 [==============================] - 4s 67us/step - loss: 0.1148 - val_loss: 0.1127\n",
            "Epoch 33/50\n",
            "60000/60000 [==============================] - 4s 67us/step - loss: 0.1137 - val_loss: 0.1116\n",
            "Epoch 34/50\n",
            "60000/60000 [==============================] - 4s 68us/step - loss: 0.1127 - val_loss: 0.1106\n",
            "Epoch 35/50\n",
            "60000/60000 [==============================] - 4s 68us/step - loss: 0.1117 - val_loss: 0.1097\n",
            "Epoch 36/50\n",
            "60000/60000 [==============================] - 4s 68us/step - loss: 0.1109 - val_loss: 0.1088\n",
            "Epoch 37/50\n",
            "60000/60000 [==============================] - 4s 68us/step - loss: 0.1100 - val_loss: 0.1080\n",
            "Epoch 38/50\n",
            "60000/60000 [==============================] - 4s 68us/step - loss: 0.1093 - val_loss: 0.1073\n",
            "Epoch 39/50\n",
            "60000/60000 [==============================] - 4s 67us/step - loss: 0.1085 - val_loss: 0.1066\n",
            "Epoch 40/50\n",
            "60000/60000 [==============================] - 4s 67us/step - loss: 0.1079 - val_loss: 0.1059\n",
            "Epoch 41/50\n",
            "60000/60000 [==============================] - 4s 69us/step - loss: 0.1072 - val_loss: 0.1053\n",
            "Epoch 42/50\n",
            "60000/60000 [==============================] - 4s 71us/step - loss: 0.1067 - val_loss: 0.1048\n",
            "Epoch 43/50\n",
            "60000/60000 [==============================] - 4s 71us/step - loss: 0.1061 - val_loss: 0.1042\n",
            "Epoch 44/50\n",
            "60000/60000 [==============================] - 4s 69us/step - loss: 0.1056 - val_loss: 0.1037\n",
            "Epoch 45/50\n",
            "60000/60000 [==============================] - 4s 67us/step - loss: 0.1051 - val_loss: 0.1033\n",
            "Epoch 46/50\n",
            "60000/60000 [==============================] - 4s 67us/step - loss: 0.1046 - val_loss: 0.1028\n",
            "Epoch 47/50\n",
            "60000/60000 [==============================] - 4s 67us/step - loss: 0.1042 - val_loss: 0.1024\n",
            "Epoch 48/50\n",
            "60000/60000 [==============================] - 4s 68us/step - loss: 0.1038 - val_loss: 0.1020\n",
            "Epoch 49/50\n",
            "60000/60000 [==============================] - 4s 67us/step - loss: 0.1034 - val_loss: 0.1016\n",
            "Epoch 50/50\n",
            "60000/60000 [==============================] - 4s 67us/step - loss: 0.1030 - val_loss: 0.1013\n"
          ],
          "name": "stdout"
        },
        {
          "output_type": "execute_result",
          "data": {
            "text/plain": [
              "<keras.callbacks.History at 0x7fd2ee779fd0>"
            ]
          },
          "metadata": {
            "tags": []
          },
          "execution_count": 9
        }
      ]
    },
    {
      "cell_type": "code",
      "metadata": {
        "id": "thFReJgEdgb1",
        "colab_type": "code",
        "colab": {}
      },
      "source": [
        "# encode and decode some digits\n",
        "# note that we take them from the *test* set\n",
        "encoded_imgs = encoder.predict(x_test)\n",
        "decoded_imgs = decoder.predict(encoded_imgs)"
      ],
      "execution_count": 0,
      "outputs": []
    },
    {
      "cell_type": "code",
      "metadata": {
        "id": "ILnxMKfKdvUQ",
        "colab_type": "code",
        "colab": {
          "base_uri": "https://localhost:8080/",
          "height": 244
        },
        "outputId": "5d063bb2-0ee2-4448-8265-e4312ead2802"
      },
      "source": [
        "# use Matplotlib (don't ask)\n",
        "import matplotlib.pyplot as plt\n",
        "\n",
        "n = 10  # how many digits we will display\n",
        "plt.figure(figsize=(20, 4))\n",
        "for i in range(n):\n",
        "    # display original\n",
        "    ax = plt.subplot(2, n, i + 1)\n",
        "    plt.imshow(x_test[i].reshape(28, 28))\n",
        "    plt.gray()\n",
        "    ax.get_xaxis().set_visible(False)\n",
        "    ax.get_yaxis().set_visible(False)\n",
        "\n",
        "    # display reconstruction\n",
        "    ax = plt.subplot(2, n, i + 1 + n)\n",
        "    plt.imshow(decoded_imgs[i].reshape(28, 28))\n",
        "    plt.gray()\n",
        "    ax.get_xaxis().set_visible(False)\n",
        "    ax.get_yaxis().set_visible(False)\n",
        "plt.show()"
      ],
      "execution_count": 11,
      "outputs": [
        {
          "output_type": "display_data",
          "data": {
            "image/png": "[encoded data removed]",
            "text/plain": [
              "<Figure size 1440x288 with 20 Axes>"
            ]
          },
          "metadata": {
            "tags": []
          }
        }
      ]
    }
  ]
}
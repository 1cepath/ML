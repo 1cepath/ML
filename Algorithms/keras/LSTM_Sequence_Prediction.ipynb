{
  "nbformat": 4,
  "nbformat_minor": 0,
  "metadata": {
    "colab": {
      "name": "LSTM Sequence Prediction.ipynb",
      "version": "0.3.2",
      "provenance": [],
      "collapsed_sections": [],
      "include_colab_link": true
    },
    "kernelspec": {
      "name": "python3",
      "display_name": "Python 3"
    }
  },
  "cells": [
    {
      "cell_type": "markdown",
      "metadata": {
        "id": "view-in-github",
        "colab_type": "text"
      },
      "source": [
        "<a href=\"https://colab.research.google.com/github/getmubarak/ML/blob/master/Algorithms/keras/LSTM_Sequence_Prediction.ipynb\" target=\"_parent\"><img src=\"https://colab.research.google.com/assets/colab-badge.svg\" alt=\"Open In Colab\"/></a>"
      ]
    },
    {
      "cell_type": "code",
      "metadata": {
        "id": "Pnuf10IIf2wM",
        "colab_type": "code",
        "colab": {
          "base_uri": "https://localhost:8080/",
          "height": 34
        },
        "outputId": "7e5f4d32-71d5-4483-d9cb-7bdc3f9e039b"
      },
      "source": [
        "#Load Packages\n",
        "import numpy as np\n",
        "from keras.models import Sequential\n",
        "from keras.layers import Dense\n",
        "from keras.layers import LSTM\n",
        "from keras.layers import Activation\n",
        "#Generate 2 sets of X variables\n",
        "#LSTMs have unique 3-dimensional input requirements \n",
        "seq_length=5\n",
        "X =[[i+j for j in range(seq_length)] for i in range(100)]\n",
        "X_simple =[[i for i in range(4,104)]]\n",
        "X =np.array(X)\n",
        "X_simple=np.array(X_simple)"
      ],
      "execution_count": 1,
      "outputs": [
        {
          "output_type": "stream",
          "text": [
            "Using TensorFlow backend.\n"
          ],
          "name": "stderr"
        }
      ]
    },
    {
      "cell_type": "code",
      "metadata": {
        "id": "0CU3FmB3f9ia",
        "colab_type": "code",
        "colab": {}
      },
      "source": [
        "y =[[ i+(i-1)*.5+(i-2)*.2+(i-3)*.1 for i in range(4,104)]]\n",
        "y =np.array(y)\n",
        "X_simple=X_simple.reshape((100,1))\n",
        "X=X.reshape((100,5,1))\n",
        "y=y.reshape((100,1))"
      ],
      "execution_count": 0,
      "outputs": []
    },
    {
      "cell_type": "code",
      "metadata": {
        "id": "KQs-N7nLgBdw",
        "colab_type": "code",
        "colab": {
          "base_uri": "https://localhost:8080/",
          "height": 692
        },
        "outputId": "01168df8-f89b-48aa-f3b0-49cf3b0f73b5"
      },
      "source": [
        "model = Sequential()\n",
        "model.add(LSTM(8,input_shape=(5,1),return_sequences=False))#True = many to many\n",
        "model.add(Dense(2,kernel_initializer='normal',activation='linear'))\n",
        "model.add(Dense(1,kernel_initializer='normal',activation='linear'))\n",
        "model.compile(loss='mse',optimizer ='adam',metrics=['accuracy'])\n",
        "model.fit(X,y,epochs=2000,batch_size=5,validation_split=0.05,verbose=0);\n",
        "scores = model.evaluate(X,y,verbose=1,batch_size=5)\n",
        "print('Accurracy: {}'.format(scores[1])) \n",
        "import matplotlib.pyplot as plt\n",
        "predict=model.predict(X)\n",
        "plt.plot(y, predict-y, 'C2')\n",
        "plt.ylim(ymax = 3, ymin = -3)\n",
        "plt.show()"
      ],
      "execution_count": 4,
      "outputs": [
        {
          "output_type": "stream",
          "text": [
            "WARNING: Logging before flag parsing goes to stderr.\n",
            "W0710 06:28:23.682492 140533107701632 deprecation_wrapper.py:119] From /usr/local/lib/python3.6/dist-packages/keras/backend/tensorflow_backend.py:74: The name tf.get_default_graph is deprecated. Please use tf.compat.v1.get_default_graph instead.\n",
            "\n",
            "W0710 06:28:23.700300 140533107701632 deprecation_wrapper.py:119] From /usr/local/lib/python3.6/dist-packages/keras/backend/tensorflow_backend.py:517: The name tf.placeholder is deprecated. Please use tf.compat.v1.placeholder instead.\n",
            "\n",
            "W0710 06:28:23.703688 140533107701632 deprecation_wrapper.py:119] From /usr/local/lib/python3.6/dist-packages/keras/backend/tensorflow_backend.py:4138: The name tf.random_uniform is deprecated. Please use tf.random.uniform instead.\n",
            "\n",
            "W0710 06:28:23.897320 140533107701632 deprecation_wrapper.py:119] From /usr/local/lib/python3.6/dist-packages/keras/backend/tensorflow_backend.py:4115: The name tf.random_normal is deprecated. Please use tf.random.normal instead.\n",
            "\n",
            "W0710 06:28:23.924921 140533107701632 deprecation_wrapper.py:119] From /usr/local/lib/python3.6/dist-packages/keras/optimizers.py:790: The name tf.train.Optimizer is deprecated. Please use tf.compat.v1.train.Optimizer instead.\n",
            "\n",
            "W0710 06:28:24.253274 140533107701632 deprecation.py:323] From /usr/local/lib/python3.6/dist-packages/tensorflow/python/ops/math_grad.py:1250: add_dispatch_support.<locals>.wrapper (from tensorflow.python.ops.array_ops) is deprecated and will be removed in a future version.\n",
            "Instructions for updating:\n",
            "Use tf.where in 2.0, which has the same broadcast rule as np.where\n",
            "W0710 06:28:24.755730 140533107701632 deprecation_wrapper.py:119] From /usr/local/lib/python3.6/dist-packages/keras/backend/tensorflow_backend.py:986: The name tf.assign_add is deprecated. Please use tf.compat.v1.assign_add instead.\n",
            "\n"
          ],
          "name": "stderr"
        },
        {
          "output_type": "stream",
          "text": [
            "100/100 [==============================] - 0s 229us/step\n",
            "Accurracy: 0.13000000193715094\n"
          ],
          "name": "stdout"
        },
        {
          "output_type": "stream",
          "text": [
            "/usr/local/lib/python3.6/dist-packages/matplotlib/axes/_base.py:3604: MatplotlibDeprecationWarning: \n",
            "The `ymin` argument was deprecated in Matplotlib 3.0 and will be removed in 3.2. Use `bottom` instead.\n",
            "  alternative='`bottom`', obj_type='argument')\n",
            "/usr/local/lib/python3.6/dist-packages/matplotlib/axes/_base.py:3610: MatplotlibDeprecationWarning: \n",
            "The `ymax` argument was deprecated in Matplotlib 3.0 and will be removed in 3.2. Use `top` instead.\n",
            "  alternative='`top`', obj_type='argument')\n"
          ],
          "name": "stderr"
        },
        {
          "output_type": "display_data",
          "data": {
            "image/png": "[encoded data removed]",
            "text/plain": [
              "<Figure size 432x288 with 1 Axes>"
            ]
          },
          "metadata": {
            "tags": []
          }
        }
      ]
    },
    {
      "cell_type": "code",
      "metadata": {
        "id": "OA6oHM3UgibV",
        "colab_type": "code",
        "colab": {
          "base_uri": "https://localhost:8080/",
          "height": 1000
        },
        "outputId": "a9f1e311-9b23-489e-df23-274f6025a21c"
      },
      "source": [
        "predict"
      ],
      "execution_count": 5,
      "outputs": [
        {
          "output_type": "execute_result",
          "data": {
            "text/plain": [
              "array([[  6.0150924],\n",
              "       [  7.796833 ],\n",
              "       [  9.640673 ],\n",
              "       [ 11.479954 ],\n",
              "       [ 13.196047 ],\n",
              "       [ 15.053638 ],\n",
              "       [ 16.920904 ],\n",
              "       [ 18.705116 ],\n",
              "       [ 20.516876 ],\n",
              "       [ 22.225958 ],\n",
              "       [ 23.957233 ],\n",
              "       [ 25.70999  ],\n",
              "       [ 27.567556 ],\n",
              "       [ 29.381186 ],\n",
              "       [ 31.185745 ],\n",
              "       [ 32.992676 ],\n",
              "       [ 34.80094  ],\n",
              "       [ 36.603264 ],\n",
              "       [ 38.412888 ],\n",
              "       [ 40.24657  ],\n",
              "       [ 42.08278  ],\n",
              "       [ 43.92443  ],\n",
              "       [ 45.76253  ],\n",
              "       [ 47.596817 ],\n",
              "       [ 49.37258  ],\n",
              "       [ 51.196953 ],\n",
              "       [ 53.016296 ],\n",
              "       [ 54.824158 ],\n",
              "       [ 56.619118 ],\n",
              "       [ 58.400177 ],\n",
              "       [ 60.17232  ],\n",
              "       [ 61.94281  ],\n",
              "       [ 63.753128 ],\n",
              "       [ 65.55468  ],\n",
              "       [ 67.39809  ],\n",
              "       [ 69.183426 ],\n",
              "       [ 70.97068  ],\n",
              "       [ 72.75875  ],\n",
              "       [ 74.547134 ],\n",
              "       [ 76.33631  ],\n",
              "       [ 78.12688  ],\n",
              "       [ 79.91805  ],\n",
              "       [ 81.71005  ],\n",
              "       [ 83.50379  ],\n",
              "       [ 85.299706 ],\n",
              "       [ 87.09715  ],\n",
              "       [ 88.89663  ],\n",
              "       [ 90.699554 ],\n",
              "       [ 92.50537  ],\n",
              "       [ 94.31437  ],\n",
              "       [ 96.12674  ],\n",
              "       [ 97.94294  ],\n",
              "       [ 99.763245 ],\n",
              "       [101.588135 ],\n",
              "       [103.41703  ],\n",
              "       [105.25005  ],\n",
              "       [107.08768  ],\n",
              "       [108.92796  ],\n",
              "       [110.770454 ],\n",
              "       [112.61463  ],\n",
              "       [114.45993  ],\n",
              "       [116.30574  ],\n",
              "       [118.151436 ],\n",
              "       [119.99632  ],\n",
              "       [121.839424 ],\n",
              "       [123.683304 ],\n",
              "       [125.52405  ],\n",
              "       [127.36014  ],\n",
              "       [129.19144  ],\n",
              "       [131.01816  ],\n",
              "       [132.84013  ],\n",
              "       [134.65733  ],\n",
              "       [136.4699   ],\n",
              "       [138.27815  ],\n",
              "       [140.08269  ],\n",
              "       [141.88182  ],\n",
              "       [143.65927  ],\n",
              "       [145.44128  ],\n",
              "       [147.22917  ],\n",
              "       [149.0164   ],\n",
              "       [150.76764  ],\n",
              "       [152.4329   ],\n",
              "       [154.19537  ],\n",
              "       [155.9721   ],\n",
              "       [157.77202  ],\n",
              "       [159.59895  ],\n",
              "       [161.48328  ],\n",
              "       [163.37599  ],\n",
              "       [165.26506  ],\n",
              "       [167.12932  ],\n",
              "       [168.93988  ],\n",
              "       [170.66579  ],\n",
              "       [172.27116  ],\n",
              "       [173.72527  ],\n",
              "       [175.01324  ],\n",
              "       [176.13187  ],\n",
              "       [177.08789  ],\n",
              "       [177.89647  ],\n",
              "       [178.57748  ],\n",
              "       [179.1524   ]], dtype=float32)"
            ]
          },
          "metadata": {
            "tags": []
          },
          "execution_count": 5
        }
      ]
    },
    {
      "cell_type": "code",
      "metadata": {
        "id": "Q-GAsqgwhwoE",
        "colab_type": "code",
        "colab": {
          "base_uri": "https://localhost:8080/",
          "height": 101
        },
        "outputId": "14628a6b-c98c-4a72-bcf1-d3e5714d26a3"
      },
      "source": [
        "import numpy\n",
        "\n",
        "\n",
        "data = numpy.reshape(X[6],(1, 5, 1))\n",
        "\n",
        "input=[[[[3],[4],[5],[3],[10]]]]\n",
        "input2=[[[[6],[7],[8],[9],[10]]]]\n",
        "\n",
        "result = model.predict(input)\n",
        "\n",
        "print(data, \" \", result, \" \", y[6])\n"
      ],
      "execution_count": 49,
      "outputs": [
        {
          "output_type": "stream",
          "text": [
            "[[[ 6]\n",
            "  [ 7]\n",
            "  [ 8]\n",
            "  [ 9]\n",
            "  [10]]]   [[18.26551]]   [16.8]\n"
          ],
          "name": "stdout"
        }
      ]
    }
  ]
}
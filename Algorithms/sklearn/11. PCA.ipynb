{
 "cells": [
  {
   "cell_type": "code",
   "execution_count": 6,
   "metadata": {},
   "outputs": [],
   "source": [
    "x_train = [[0.7,0.52,0.4], [0.8,0.6,0.6], [1.0,0.68,0.9]]\n",
    "y_train = [[1.08], [1.25], [1.85]]\n"
   ]
  },
  {
   "cell_type": "code",
   "execution_count": 7,
   "metadata": {},
   "outputs": [
    {
     "name": "stdout",
     "output_type": "stream",
     "text": [
      "[[-2.80218532e-01 -9.98980866e-03  9.02334743e-17]\n",
      " [-4.42009143e-02  1.63860122e-02  9.02334743e-17]\n",
      " [ 3.24419447e-01 -6.39620350e-03  9.02334743e-17]]\n"
     ]
    }
   ],
   "source": [
    "\n",
    "# Applying PCA\n",
    "from sklearn.decomposition import PCA\n",
    "pca = PCA(n_components = 3)\n",
    "x_train = pca.fit_transform(x_train)\n",
    "explained_variance = pca.explained_variance_ratio_\n",
    "\n",
    "print(x_train)\n"
   ]
  },
  {
   "cell_type": "code",
   "execution_count": null,
   "metadata": {},
   "outputs": [],
   "source": []
  }
 ],
 "metadata": {
  "kernelspec": {
   "display_name": "Python 3",
   "language": "python",
   "name": "python3"
  },
  "language_info": {
   "codemirror_mode": {
    "name": "ipython",
    "version": 3
   },
   "file_extension": ".py",
   "mimetype": "text/x-python",
   "name": "python",
   "nbconvert_exporter": "python",
   "pygments_lexer": "ipython3",
   "version": "3.5.2"
  }
 },
 "nbformat": 4,
 "nbformat_minor": 2
}

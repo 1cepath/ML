{
 "cells": [
  {
   "cell_type": "code",
   "execution_count": 1,
   "metadata": {},
   "outputs": [
    {
     "name": "stdout",
     "output_type": "stream",
     "text": [
      "[1 3]\n"
     ]
    }
   ],
   "source": [
    "import numpy as np\n",
    "# data from columns A - D\n",
    "xtrain = np.array([[1,    20,   30,   1],\n",
    "                   [2,    22,   12,   33],\n",
    "                   [3,    45,   65,   77],\n",
    "                   [12,   43,   55,   65],\n",
    "                   [11,   25,   30,   1],\n",
    "                   [22,   23,   19,   31],\n",
    "                   [31,   41,   11,   70],\n",
    "                   [1,    48,   23,   60]])\n",
    "# data from column E\n",
    "ytrain = np.array([1, 2, 3, 4, 1, 2, 3, 4])\n",
    "\n",
    "from sklearn.neighbors import KNeighborsClassifier\n",
    "\n",
    "knn = KNeighborsClassifier(n_neighbors=3, weights='distance')\n",
    "knn.fit(xtrain, ytrain)\n",
    "\n",
    "xtest = np.array([[1,    20,   30,   1],\n",
    "                   [3,    45,   65,   77]])\n",
    "ytest = np.array([1, 3])\n",
    "\n",
    "yhat = knn.predict(xtest)\n",
    "print (yhat)"
   ]
  },
  {
   "cell_type": "code",
   "execution_count": null,
   "metadata": {},
   "outputs": [],
   "source": []
  }
 ],
 "metadata": {
  "kernelspec": {
   "display_name": "Python 3",
   "language": "python",
   "name": "python3"
  },
  "language_info": {
   "codemirror_mode": {
    "name": "ipython",
    "version": 3
   },
   "file_extension": ".py",
   "mimetype": "text/x-python",
   "name": "python",
   "nbconvert_exporter": "python",
   "pygments_lexer": "ipython3",
   "version": "3.5.2"
  }
 },
 "nbformat": 4,
 "nbformat_minor": 2
}

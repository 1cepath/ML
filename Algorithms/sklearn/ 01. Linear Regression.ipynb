{
 "cells": [
  {
   "cell_type": "code",
   "execution_count": 6,
   "metadata": {},
   "outputs": [],
   "source": [
    "x_train = [[0.7,0.52], [0.8,0.6], [1.0,0.68]]\n",
    "y_train = [[1.08], [1.25], [1.85]]\n"
   ]
  },
  {
   "cell_type": "code",
   "execution_count": 7,
   "metadata": {},
   "outputs": [
    {
     "name": "stdout",
     "output_type": "stream",
     "text": [
      "c  [-0.24]\n",
      "m  [[ 4.3  -3.25]]\n"
     ]
    }
   ],
   "source": [
    "from sklearn.linear_model import LinearRegression\n",
    "import matplotlib.pyplot as plt\n",
    "import numpy as np\n",
    "\n",
    "\n",
    "model = LinearRegression()\n",
    "model.fit(x_train, y_train)\n",
    "print (\"c \", model.intercept_)\n",
    "print (\"m \",model.coef_)\n"
   ]
  },
  {
   "cell_type": "code",
   "execution_count": 8,
   "metadata": {},
   "outputs": [
    {
     "name": "stdout",
     "output_type": "stream",
     "text": [
      "[[0.39  ]\n",
      " [2.4425]\n",
      " [3.5375]]\n"
     ]
    }
   ],
   "source": [
    "x_test = [[0.6,0.6], [1.1,0.63], [1.4,0.69]]\n",
    "y_test = [[1.02], [3.01], [4.0]]\n",
    "\n",
    "y_pred = model.predict(x_test)\n",
    "print(y_pred)"
   ]
  },
  {
   "cell_type": "code",
   "execution_count": 9,
   "metadata": {},
   "outputs": [
    {
     "name": "stdout",
     "output_type": "stream",
     "text": [
      "[[-0.69  ]\n",
      " [ 1.1925]\n",
      " [ 1.6875]]\n"
     ]
    }
   ],
   "source": [
    "\n",
    "diff = y_pred - y_train\n",
    "print(diff)"
   ]
  },
  {
   "cell_type": "code",
   "execution_count": 10,
   "metadata": {},
   "outputs": [],
   "source": [
    "from sklearn.metrics import mean_squared_error\n",
    "from sklearn.metrics import mean_absolute_error\n",
    "from sklearn.metrics import r2_score\n",
    "from math import sqrt\n",
    "\n",
    "def validate(actual,pred):\n",
    "    mae = mean_absolute_error(actual, pred)\n",
    "    mse = mean_squared_error(actual, pred)\n",
    "    rms = sqrt(mse)\n",
    "    r2 = r2_score(actual, pred)\n",
    "\n",
    "    print('mae ',mae)\n",
    "    print('mse ',mse)\n",
    "    print('rmse/sse/rss ', rms)\n",
    "    print('r2 ', r2)"
   ]
  },
  {
   "cell_type": "code",
   "execution_count": 11,
   "metadata": {},
   "outputs": [
    {
     "name": "stdout",
     "output_type": "stream",
     "text": [
      "mae  0.5533333333333313\n",
      "mse  0.3109541666666649\n",
      "rmse/sse/rss  0.5576326449076174\n",
      "r2  0.79750607788374\n"
     ]
    }
   ],
   "source": [
    "validate(y_test,y_pred)"
   ]
  }
 ],
 "metadata": {
  "kernelspec": {
   "display_name": "Python 3",
   "language": "python",
   "name": "python3"
  },
  "language_info": {
   "codemirror_mode": {
    "name": "ipython",
    "version": 3
   },
   "file_extension": ".py",
   "mimetype": "text/x-python",
   "name": "python",
   "nbconvert_exporter": "python",
   "pygments_lexer": "ipython3",
   "version": "3.5.2"
  }
 },
 "nbformat": 4,
 "nbformat_minor": 2
}

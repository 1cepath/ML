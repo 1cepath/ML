{
 "cells": [
  {
   "cell_type": "raw",
   "metadata": {},
   "source": [
    "\n",
    "Types of Machine Learning\n",
    "---------------------------\n",
    "\n",
    "1. Supervised\n",
    "The training data includes both Inputs and Labels(Targets).\n",
    "\n",
    "x1 | x2 |  x3  | y\n",
    "--------------------\n",
    "d  | d  |  d   | p\n",
    "d  | d  |  d   | p\n",
    "d  | d  |  d   | p\n",
    "\n",
    "p= model(x1,x2,x3) \n",
    "\n",
    "2. Unsupervised\n",
    "The computer is trained with unlabeled data. These algorithms try to use techniques on the input data to mine for rules, detect patterns, and summarize and group the data points which help in deriving meaningful insights and describe the data better to the users.\n",
    "\n",
    "x1 | x2 |  x3  | \n",
    "----------------\n",
    "d  | d  |  d   | \n",
    "d  | d  |  d   | \n",
    "d  | d  |  d   | \n",
    "\n",
    "group=model(x1,x2,x3)\n",
    "\n",
    "3. Reinforcement Learning\n",
    "\n",
    "In Supervised Learning, each example will have a pair of input objects and an output with desired values whereas in Reinforcement Learning Markov’s Decision process means the agent interacts with the environment in discrete steps i.e., agent makes an observation for every time period “t” and receives a reward for every observation and finally the goal is to collect as many rewards as possible to make more observations.\n",
    "\n",
    "         Action1   Action2   \n",
    "state 1     0      10\n",
    "state 2     10     0 \n",
    "state 3     0      10\n",
    "\n",
    "when the agent is State 1 and takes Action 2, it will receive a reward of 10 but zero reward if it takes Action 1. In State 2, the situation is reversed and finally State 3 resembles State 1. \n",
    "\n",
    "4. Semi Supervised \n",
    " Includes both labeled and unlabeled data, usually mostly unlabeled. In many practical situations, the cost to label is quite high, since it requires skilled human experts to do that. So, in the absence of labels in the majority of the observations but present in few, semi-supervised algorithms are the best candidates for the model building. \n",
    " \n",
    "x1 | x2 |  x3  | y\n",
    "--------------------\n",
    "d  | d  |  d   | p\n",
    "d  | d  |  d   | \n",
    "d  | d  |  d   | \n",
    "d  | d  |  d   | \n",
    "d  | d  |  d   | P\n",
    "d  | d  |  d   | \n",
    "d  | d  |  d   | \n",
    "d  | d  |  d   | "
   ]
  },
  {
   "cell_type": "raw",
   "metadata": {},
   "source": [
    "\n",
    "\n",
    "Types of Machine Learning\n",
    "---------------------------\n",
    "1. Supervised\n",
    "    a. Classification (two class, multi class)\n",
    "    b. Regression    \n",
    "    \n",
    "2. Unsupervised\n",
    "    a. Clustering\n",
    "    b. Association\n",
    "    c. Dimension Reduction\n",
    "    \n",
    "3. Reinforcement Learning\n",
    "\n",
    "4. Semi Supervised \n",
    "    a. Classification (two class, multi class)\n",
    "    b. Regression   \n"
   ]
  },
  {
   "cell_type": "code",
   "execution_count": null,
   "metadata": {},
   "outputs": [],
   "source": [
    "It might surprise you, but there are only 5 questions that data science answers:\n",
    "--------------------------------------------------------------------------------\n",
    "Is this A or B? - Classification  (supervised ) \n",
    "How much – or – How many? - Regression  (supervised)\n",
    "How is this organized? - Clustering   (unsupervised)\n",
    "Is this weird? - Anomaly detection  (supervised or unsupervised)\n",
    "What should I do next? - Reinforcement\n"
   ]
  },
  {
   "cell_type": "code",
   "execution_count": null,
   "metadata": {},
   "outputs": [],
   "source": [
    "Will this customer renew their subscription?\n",
    "Is this an image of a cat or a dog?\n",
    "Will this customer click on the top link?\n",
    "Will this tire fail in the next thousand miles?\n",
    "Does the $5 coupon or the 25% off coupon result in more return customers?\n",
    "\n",
    "Which animal is in this image?\n",
    "Which aircraft is causing this radar signature?\n",
    "What is the topic of this news article?\n",
    "What is the mood of this tweet?\n",
    "Who is the speaker in this recording?\n",
    "\n",
    "How likely is this user to click on my ad?\n",
    "What fraction of pulls on this slot machine result in payout?\n",
    "How likely is this employee to be an insider security threat?\n",
    "What fraction of today’s flights will depart on time?\n",
    "\n",
    "What will the temperature be next Tuesday?\n",
    "What will my fourth quarter sales in Portugal be?\n",
    "How many kilowatts will be demanded from my wind farm 30 minutes from now?\n",
    "How many new followers will I get next week?\n",
    "Out of a thousand units, how many of this model of bearings will survive 10,000 hours of use?\n",
    "\n",
    "Which shoppers have similar tastes in produce?\n",
    "Which viewers like the same kind of movies?\n",
    "Which printer models fail the same way?\n",
    "During which days of the week does this electrical substation have similar electrical power demands?\n",
    "What is a natural way to break these documents into five topic groups?\n",
    "\n",
    "Is this pressure reading unusual?\n",
    "Is this internet message typical?\n",
    "Is this combination of purchases very different from what this customer has made in the past?\n",
    "Are these voltages normal for this season and time of day?\n",
    "\n",
    "Where should I place this ad on the webpage so that the viewer is most likely to click it?\n",
    "Should I adjust the temperature higher, lower, or leave it where it is?\n",
    "Should I vacuum the living room again or stay plugged in to my charging station?\n",
    "How many shares of this stock should I buy right now?\n",
    "Should I continue driving at the same speed, brake, or accelerate in response to that yellow light?\n"
   ]
  },
  {
   "cell_type": "raw",
   "metadata": {},
   "source": [
    "The families of two-class classification, multi-class classification, and regression are all closely related. They all belong to the same extended family, supervised learning. They have a lot in common, and often questions can be modified and posed in more than one of them."
   ]
  },
  {
   "cell_type": "code",
   "execution_count": null,
   "metadata": {
    "collapsed": true
   },
   "outputs": [],
   "source": []
  }
 ],
 "metadata": {
  "kernelspec": {
   "display_name": "Python 3",
   "language": "python",
   "name": "python3"
  },
  "language_info": {
   "codemirror_mode": {
    "name": "ipython",
    "version": 3
   },
   "file_extension": ".py",
   "mimetype": "text/x-python",
   "name": "python",
   "nbconvert_exporter": "python",
   "pygments_lexer": "ipython3",
   "version": "3.5.2"
  }
 },
 "nbformat": 4,
 "nbformat_minor": 1
}

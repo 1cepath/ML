{
 "cells": [
  {
   "cell_type": "raw",
   "metadata": {},
   "source": [
    "2 types of Linear Regressiom\n",
    "-------------------------------\n",
    "1.Simple Linear Regression\n",
    "When there is a single input variable, the method is referred to as a simple linear regression.\n",
    "\n",
    "y=mx + c\n",
    "\n",
    "or\n",
    "\n",
    "h(x) = theta2 x + theta1\n",
    "\n",
    "m (theta2) is the line’s slope and b is the line’s y-intercept. \n",
    "c (theta1) tells you how high the line should be at the start\n",
    "\n",
    "2. Multiple Linear Regression\n",
    "Multiple Linear Regression: Having more than one independent variable to predict the dependent variable.\n",
    "\n",
    "f(x,y,z)=w1x+w2y+w3z"
   ]
  },
  {
   "cell_type": "markdown",
   "metadata": {},
   "source": [
    "Simple regression\n",
    "----------------\n",
    "y=mx+c\n",
    "\n",
    "m is the line’s slope \n",
    "c is the line’s y-intercept"
   ]
  },
  {
   "cell_type": "raw",
   "metadata": {
    "collapsed": true
   },
   "source": [
    "km{x}  miles{y}\n",
    "---------------\n",
    "100    62.137\n",
    "\n",
    "x       y        m      c     py = mx + c             cost = y - py\n",
    "--------------------------------------------------------------------------------\n",
    "100    62.137    0.5    0     (0.5*100+0) = 50        (62.137 - 50)=12.137\n",
    "100    62.137    0.6    0     (0.6*100+0) = 60        (62.137 - 60)=2.137\n",
    "100    62.137    0.7    0     (0.7*100+0) = 70        (62.137 - 70)=-7.863\n",
    "100    62.137    0.61   0     (0.61*100+0) = 61       (62.137 - 61)=-1.37\n"
   ]
  },
  {
   "cell_type": "markdown",
   "metadata": {},
   "source": [
    "cost function\n",
    "----------------\n",
    "We need a function that will minimize the parameters over our dataset. Mean Absolute Error (MAE) is the mean of the absolute value of the errors. \n",
    "It is calculated as:\n",
    "    sum(actual -predicted)\n",
    "Since we have single data point:\n",
    "    actual-prediction\n",
    "   \n",
    "   It gives an idea of how wrong the predictions were. The measure gives an idea of the magnitude of the error, but no idea of the direction (e.g. over or under predicting )."
   ]
  },
  {
   "cell_type": "markdown",
   "metadata": {},
   "source": [
    "Gradient Descentant\n",
    "-------------------\n",
    "Gradient descent enables a model to learn the gradient or direction that the model should take in order to reduce errors (differences between actual y and predicted y).\n"
   ]
  },
  {
   "cell_type": "code",
   "execution_count": null,
   "metadata": {},
   "outputs": [],
   "source": []
  }
 ],
 "metadata": {
  "kernelspec": {
   "display_name": "Python 3",
   "language": "python",
   "name": "python3"
  },
  "language_info": {
   "codemirror_mode": {
    "name": "ipython",
    "version": 3
   },
   "file_extension": ".py",
   "mimetype": "text/x-python",
   "name": "python",
   "nbconvert_exporter": "python",
   "pygments_lexer": "ipython3",
   "version": "3.5.2"
  }
 },
 "nbformat": 4,
 "nbformat_minor": 1
}

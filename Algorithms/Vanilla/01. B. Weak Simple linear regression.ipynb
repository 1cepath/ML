{
 "cells": [
  {
   "cell_type": "raw",
   "metadata": {
    "collapsed": true
   },
   "source": [
    "    ** *\n",
    "   * *\n",
    "* *\n",
    "\n",
    "size in feet     price\n",
    "900              30,00,000\n",
    "1200             33,00,000\n",
    "1500             40,00,000\n",
    "1700             60,00,000\n",
    "1250             63,00,000\n",
    "\n",
    "normalized data\n",
    "size             price\n",
    "------------------------\n",
    "0.9              0.3\n",
    "1.2              0.33\n",
    "1.5              0.4\n",
    "1.7              0.6\n",
    "1.25             0.63\n",
    "\n"
   ]
  },
  {
   "cell_type": "raw",
   "metadata": {},
   "source": [
    "\n",
    "x          y        py=mx+c {c=0, m=0.5}    error=(y-py)^2              py=mx+c {c=0, m=0.4}     error=(y-py)^2\n",
    "---------------------------------------------------------------------------------------------------------------------\n",
    "0.9       0.3       (0.9*0.5+0)=0.45        (0.3-0.45)^2=0.0225\n",
    "1.2       0.33      (1.2*0.5+0)=0.6         (0.33-0.6)^2=0.0729 \n",
    "1.5       0.4       (1.5*0.5+0)=0.75        (0.4-0.75)^2=0.1225\n",
    "1.7       0.6       (1.7*0.5+0)=0.875       (0.6-0.875)^2=0.075625 \n",
    "1.25      0.63      (1.25*0.6+0)=0.625      (0.63-0.625)^2=0.000025\n",
    "---------------------------------------------------------------------------------------------------------------------\n",
    "                                        cost1=(0.29355)/2*5=0.733875                       cost2 = \n",
    "\n",
    "\n"
   ]
  },
  {
   "cell_type": "raw",
   "metadata": {},
   "source": [
    "          \n",
    "c        m        cost\n",
    "-------------------------\n",
    "0       0.5      0.733875\n",
    "?       ?          ?\n",
    "?       ?          ?\n",
    "?       ?          ?\n",
    "?       ?          ?\n",
    "?       ?          ?"
   ]
  },
  {
   "cell_type": "markdown",
   "metadata": {},
   "source": [
    "\n",
    "cost function\n",
    "----------------\n",
    "We need a function that will minimize the parameters over our dataset. One common function that is often used is mean squared error, which measure the difference between the estimator (the dataset) and the estimated value (the prediction).\n",
    "\n",
    "cost = 1/2n * sum((predicted - actual)^2)\n",
    "\n",
    "* We also divide the expression by 2 to make derivative calculations simpler.\n",
    "* we calculate the square of this error which removes the sign, as this error could be both positive and negative\n",
    "* The 1/n is to \"average\" the squared error over the number of components so that the number of components doesn't affect the function\n",
    "* 1/2 is used only for simplification of the derivative, because when you will try to minimize it,  you will use the steepest descent method, which is based on the derivative of this function. Derivative of a^2 is 2a, and our function is a square of something, so this 2 will cancel out.\n",
    "\n",
    "The MSE cost function for Linear Regression model is a convex function. "
   ]
  },
  {
   "cell_type": "code",
   "execution_count": null,
   "metadata": {
    "collapsed": true
   },
   "outputs": [],
   "source": []
  }
 ],
 "metadata": {
  "kernelspec": {
   "display_name": "Python 3",
   "language": "python",
   "name": "python3"
  },
  "language_info": {
   "codemirror_mode": {
    "name": "ipython",
    "version": 3
   },
   "file_extension": ".py",
   "mimetype": "text/x-python",
   "name": "python",
   "nbconvert_exporter": "python",
   "pygments_lexer": "ipython3",
   "version": "3.5.2"
  }
 },
 "nbformat": 4,
 "nbformat_minor": 1
}

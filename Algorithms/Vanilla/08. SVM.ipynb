{
 "cells": [
  {
   "cell_type": "raw",
   "metadata": {},
   "source": [
    "The magnitude, or length, of a vector x  is written ||x||,  and is called its norm.\n",
    "In general, we compute the norm of a vector by using the Euclidean norm formula.\n",
    "\n",
    "||x|| = sqrt(x1^2 + x2^2 ...)"
   ]
  },
  {
   "cell_type": "code",
   "execution_count": 17,
   "metadata": {},
   "outputs": [
    {
     "name": "stdout",
     "output_type": "stream",
     "text": [
      "5.0\n"
     ]
    }
   ],
   "source": [
    "import numpy as np\n",
    "\n",
    "x = [3,4] \n",
    "norm = np.linalg.norm(x) # 5.0\n",
    "print(norm)\n"
   ]
  },
  {
   "cell_type": "code",
   "execution_count": 11,
   "metadata": {},
   "outputs": [],
   "source": [
    "# Compute the functional margin of an example (x,y)\n",
    "# with respect to a hyperplane defined by w and b.\n",
    "def example_functional_margin(w, b, x, y): \n",
    "    result = y * (np.dot(w, x) + b)\n",
    "    return result\n",
    "\n",
    "# Compute the functional margin of a hyperplane \n",
    "# for examples X with labels y.\n",
    "def functional_margin(w, b, X, y):\n",
    "    return np.min([example_functional_margin(w, b, x, y[i]) for i, x in enumerate(X)])\n"
   ]
  },
  {
   "cell_type": "code",
   "execution_count": 12,
   "metadata": {},
   "outputs": [
    {
     "name": "stdout",
     "output_type": "stream",
     "text": [
      "8\n",
      "80\n"
     ]
    }
   ],
   "source": [
    "x = np.array([1, 1])\n",
    "y=1 \n",
    "b_1 = 5\n",
    "w_1 = np.array([2, 1])\n",
    "w_2 = w_1 * 10\n",
    "b_2 = b_1 * 10\n",
    "print(example_functional_margin(w_1, b_1, x, y)) # 8 \n",
    "print(example_functional_margin(w_2, b_2, x, y)) # 80"
   ]
  },
  {
   "cell_type": "raw",
   "metadata": {},
   "source": [
    "when we compute the functional margin with w2, we get a number ten times bigger than with  w1 . This means that given any hyperplane, we can always find one that will have a larger functional margin, just by rescaling  w and b.\n",
    "\n",
    "To solve this problem,  Instead of using the vector w, we will use its unit vector. To do so, we will divide by its norm. In the same way, we will divide b by the norm of w to make it scale invariant as well.\n",
    "\n",
    "so instead of \n",
    "result = y * (np.dot(w, x) + b)\n",
    "\n",
    "we will do\n",
    "norm = np.linalg.norm(w)\n",
    "result = y * (np.dot(w/norm, x) + b/norm)\n"
   ]
  },
  {
   "cell_type": "code",
   "execution_count": 4,
   "metadata": {},
   "outputs": [],
   "source": [
    "# Compute the geometric margin of an example (x,y)\n",
    "# with respect to a hyperplane defined by w and b.\n",
    "def example_geometric_margin(w, b, x, y): \n",
    "    norm = np.linalg.norm(w)\n",
    "    result = y * (np.dot(w/norm, x) + b/norm) \n",
    "    return result\n",
    "\n",
    "\n",
    "# Compute the geometric margin of a hyperplane \n",
    "# for examples X with labels y.\n",
    "def geometric_margin(w, b, X, y):\n",
    "    return np.min([example_geometric_margin(w, b, x, y[i])\n",
    "    for i, x in enumerate(X)])"
   ]
  },
  {
   "cell_type": "raw",
   "metadata": {},
   "source": [
    "The geometric margin of a hyperplane w with respect to a dataset D is the shortest distance from a training point x_i to the hyperplane defined by w.\n",
    "\n",
    "The best hyperplane has the largest possible margin."
   ]
  },
  {
   "cell_type": "code",
   "execution_count": 5,
   "metadata": {},
   "outputs": [
    {
     "name": "stdout",
     "output_type": "stream",
     "text": [
      "0.18569533817705164\n",
      "0.6499336836196807\n"
     ]
    }
   ],
   "source": [
    "# Compare two hyperplanes using the geometrical margin.\n",
    "positive_x = [[2,7],[8,3],[7,5],[4,4],[4,6],[1,3],[2,5]] \n",
    "negative_x = [[8,7],[4,10],[9,7],[7,10],[9,6],[4,8],[10,10]]\n",
    "X = np.vstack((positive_x, negative_x))\n",
    "y = np.hstack((np.ones(len(positive_x)), -1*np.ones(len(negative_x))))\n",
    "w = np.array([-0.4, -1])\n",
    "b=8\n",
    "# change the value of b\n",
    "print(geometric_margin(w, b, X, y)) # 0.185695338177 \n",
    "print(geometric_margin(w, 8.5, X, y)) # 0.64993368362"
   ]
  },
  {
   "cell_type": "raw",
   "metadata": {},
   "source": [
    "result = y * ((wn * x )+ bn)    \n",
    "• Positive if the point is correctly classified\n",
    "• Negative if the point is incorrectly classified\n",
    "• when the point(x) is not on the hyperplane we get a number different from zero. If we use a point far away from the hyperplane, we will get a bigger number than if we use a point closer to the hyperplane.\n",
    "    "
   ]
  },
  {
   "cell_type": "code",
   "execution_count": null,
   "metadata": {},
   "outputs": [],
   "source": [
    "w=[-0.4, -1]\n",
    "b=8\n",
    "norm = math.sqrt((-0.4)**2 + (-1)**2) = 1.077032961426901\n",
    "wn = w/norm = [-0.37139068 -0.92847669]\n",
    "bn = b/norm = 7.4278135270820735\n",
    "\n",
    "x1   x2   y     y * ((wn * x )+ bn)                                        result\n",
    "2    7    +1    1* ((2*-0.37139068 + 7*-0.92847669) +7.4278135270820735) = 0.18569533708                \n",
    "8    7    -1    -1 * ((8*-0.37139068 + 7*-0.92847669)+7.4278135270820735) = 2.04264874292\n",
    "8    3    +1    1 * ((8*-0.37139068 + 3*-0.92847669)+7.4278135270820735) = 1.67125801708\n",
    "4    8    -1    -1 * ((4*-0.37139068 + 8*-0.92847669)+7.4278135270820735) =1.48556271292\n",
    "\n",
    "minresult = min(result) =   0.18569533708   "
   ]
  },
  {
   "cell_type": "raw",
   "metadata": {},
   "source": [
    "w=[-0.4, -1]\n",
    "b=8.5\n",
    "norm = math.sqrt((-0.4)**2 + (-1)**2) = 1.077032961426901\n",
    "wn = w/norm = [-0.37139068 -0.92847669]\n",
    "bn = b/norm = 7.89205187252\n",
    "\n",
    "x1   x2   y     y * ((wn * x )+ bn)                                        result\n",
    "2    7    +1    1* ((2*-0.37139068 + 7*-0.92847669) +7.89205187252) = 0.64993368252                \n",
    "8    7    -1    -1 * ((8*-0.37139068 + 7*-0.92847669)+7.89205187252) = 1.57841039748\n",
    "8    3    +1    1 * ((8*-0.37139068 + 3*-0.92847669)+7.89205187252) = 2.13549636252\n",
    "4    8    -1    -1 * ((4*-0.37139068 + 8*-0.92847669)+7.89205187252) =1.02132436748\n",
    "\n",
    "minresult = min(result) =  0.64993368252   \n",
    "\n",
    "The geometric margin of the second hyperplane is larger (0.64 > 0.18). Between the two, we would select this hyperplane.\n",
    " \n",
    "Finding the optimal hyperplane is just a matter of finding the values of w and b for which we get the largest geometric margin. Our objective is to find the optimal hyperplane for a dataset among all possible hyperplanes, and there is an infinity of hyperplanes."
   ]
  }
 ],
 "metadata": {
  "kernelspec": {
   "display_name": "Python 3",
   "language": "python",
   "name": "python3"
  },
  "language_info": {
   "codemirror_mode": {
    "name": "ipython",
    "version": 3
   },
   "file_extension": ".py",
   "mimetype": "text/x-python",
   "name": "python",
   "nbconvert_exporter": "python",
   "pygments_lexer": "ipython3",
   "version": "3.5.2"
  }
 },
 "nbformat": 4,
 "nbformat_minor": 2
}

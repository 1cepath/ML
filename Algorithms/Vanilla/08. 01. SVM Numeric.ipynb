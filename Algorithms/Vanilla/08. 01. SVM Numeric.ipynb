{
 "cells": [
  {
   "cell_type": "code",
   "execution_count": null,
   "metadata": {},
   "outputs": [],
   "source": [
    "\n",
    "n(a,b,c) -  normal vector of a plane\n",
    "P1(x,y,z) -  known point on the plane, \n",
    "P(x0,y0,z0) - any point on the plane\n",
    "\n",
    "1. Since the vector ( p - p1) and the normal vector n are perpendicular each other,\n",
    "the dot product of two vector should be 0.\n",
    "\n",
    "2. The equation of a plane in 3D space is defined with normal vector (perpendicular to the plane) \n",
    "and a known point on the plane.\n",
    "\n",
    "n.p  + d = 0\n",
    "\n",
    "m1x1 + m2x2 + c = 0    #General Form\n",
    "\n"
   ]
  },
  {
   "cell_type": "code",
   "execution_count": null,
   "metadata": {},
   "outputs": [],
   "source": [
    "Math\n",
    "-----------\n",
    "n . ( p - p1) = 0\n",
    "n.p - n. p1                  ie,    a(x−x0)+b(y−y0)+c(z−z0)=0\n",
    "                                    ax+by+cz−(ax0+by0+cz0)=0\n",
    "                             where  d=-(ax0+by0+cz0)            constant\n",
    "n.p  + d = 0"
   ]
  },
  {
   "cell_type": "code",
   "execution_count": null,
   "metadata": {},
   "outputs": [],
   "source": [
    "\n",
    "\n",
    "x1  x2  y\n",
    "-----------\n",
    "-2  4   -1\n",
    "4   1   -1\n",
    "1   6   +1\n",
    "2   4   +1\n",
    "6   2   +1\n",
    "\n",
    "\n",
    "The weight vector is (1.56,3.17) \n",
    "the bias term is  11.12\n"
   ]
  },
  {
   "cell_type": "code",
   "execution_count": null,
   "metadata": {},
   "outputs": [],
   "source": [
    "\n",
    "n.p  + d = 0\n",
    "\n",
    "If you take any vector p, then the dot product (p,n) is positive if  is on the same side of  as p, \n",
    "and negative otherwise. The dot product is zero if and only if  is exactly on the line , \n",
    "including when p  is the zero vector.\n"
   ]
  },
  {
   "cell_type": "code",
   "execution_count": null,
   "metadata": {},
   "outputs": [],
   "source": [
    "\n",
    "m1= 1.56  m2 =3.17  c = -11.12\n",
    "\n",
    "x1  x2   y      m1x1 + m2x2 + c = 0                  sign(py)\n",
    "-----------------------------------------------------------------\n",
    "-2  4   -1      −2∗1.56+4∗3.17−11.12 = - 1.56      sign(−1.56)=−1\n",
    "4   1   -1      4∗1.56+1∗3.17−11.12 = -1.71        sign(−1.71)=−1\n",
    "1   6   +1      1∗1.56+6∗3.17−11.12 = 9.46         sign(9.46)=+1\n",
    "2   4   +1      2∗1.56+4∗3.17−11.12 = 4.68         sign(4.68)=+1\n",
    "6   2   +1      6∗1.56+2∗3.17−11.12 = 4.58         sign(4.58)=+1"
   ]
  },
  {
   "cell_type": "raw",
   "metadata": {},
   "source": [
    "Lets define two test samples now, to check how well our perceptron generalizes to unseen data:\n",
    "\n",
    "First test sample (2,2), supposed to be negative:\n",
    "2∗1.56+2∗3,17−11.12=sign(−1,66)=−1\n",
    "\n",
    "Second test sample (4,3), supposed to be positive:\n",
    "4∗1.56+3∗3.17−11.12=sign(4,63)=+1"
   ]
  }
 ],
 "metadata": {
  "kernelspec": {
   "display_name": "Python 3",
   "language": "python",
   "name": "python3"
  },
  "language_info": {
   "codemirror_mode": {
    "name": "ipython",
    "version": 3
   },
   "file_extension": ".py",
   "mimetype": "text/x-python",
   "name": "python",
   "nbconvert_exporter": "python",
   "pygments_lexer": "ipython3",
   "version": "3.5.2"
  }
 },
 "nbformat": 4,
 "nbformat_minor": 2
}

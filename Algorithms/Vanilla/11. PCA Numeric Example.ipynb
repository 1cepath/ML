{
 "cells": [
  {
   "cell_type": "code",
   "execution_count": 1,
   "metadata": {},
   "outputs": [
    {
     "name": "stdout",
     "output_type": "stream",
     "text": [
      "[[1 2]\n",
      " [3 4]\n",
      " [5 6]\n",
      " [7 8]]\n"
     ]
    }
   ],
   "source": [
    "from numpy import array\n",
    "from numpy import mean\n",
    "from numpy import cov\n",
    "from numpy.linalg import eig\n",
    "# define a matrix\n",
    "A = array([[1, 2], [3, 4], [5, 6],[7,8]])\n",
    "print(A)\n"
   ]
  },
  {
   "cell_type": "code",
   "execution_count": null,
   "metadata": {},
   "outputs": [],
   "source": [
    "The first step is to calculate the mean values of each column.\n",
    "\n",
    "              (a11 + a21 + a31) / 3\n",
    "M(m11, m12) = (a12 + a22 + a32) / 3"
   ]
  },
  {
   "cell_type": "code",
   "execution_count": 2,
   "metadata": {},
   "outputs": [
    {
     "name": "stdout",
     "output_type": "stream",
     "text": [
      "[4. 5.]\n"
     ]
    }
   ],
   "source": [
    "# calculate the mean of each column\n",
    "M = mean(A.T, axis=1)\n",
    "print(M)\n"
   ]
  },
  {
   "cell_type": "code",
   "execution_count": null,
   "metadata": {},
   "outputs": [],
   "source": [
    "Next, we need to center the values in each column by subtracting the mean column value."
   ]
  },
  {
   "cell_type": "code",
   "execution_count": 3,
   "metadata": {},
   "outputs": [
    {
     "name": "stdout",
     "output_type": "stream",
     "text": [
      "[[-3. -3.]\n",
      " [-1. -1.]\n",
      " [ 1.  1.]\n",
      " [ 3.  3.]]\n"
     ]
    }
   ],
   "source": [
    "# center columns by subtracting column means\n",
    "C = A - M\n",
    "\n",
    "print(C)"
   ]
  },
  {
   "cell_type": "code",
   "execution_count": null,
   "metadata": {},
   "outputs": [],
   "source": [
    "The next step is to calculate the covariance matrix of the centered matrix C.\n",
    "\n",
    "Correlation is a normalized measure of the amount and direction (positive or negative) that two columns change\n",
    "together. Covariance is a generalized and unnormalized version of correlation across multiple columns. A covariance \n",
    "matrix is a calculation of covariance of a given matrix with covariance scores for every column with every other \n",
    "column, including itself."
   ]
  },
  {
   "cell_type": "code",
   "execution_count": null,
   "metadata": {},
   "outputs": [],
   "source": [
    "  x   y\n",
    " -2. -2.   \n",
    "  0.  0. \n",
    "  2.  2.             \n",
    "    \n",
    "xmean = -2 + 0 + 2 / 3 = 0\n",
    "ymean = -2 + 0 + 2 / 3 = 0\n",
    "\n",
    "X   y  x-xmean  y-ymean\n",
    "-2 -2   -2 - 0  -2 -0\n",
    "0   0    0 - 0   0 -0\n",
    "2   2    2 - 0   2 -0\n",
    "\n",
    "X   y  x-xmean  y-ymean   product    (xi−x¯)2\n",
    "-2 -2   -2       -2        4          4\n",
    "0   0   0         0        0          0\n",
    "2   2   -2       -2         4         4\n",
    "                     sum = 8        sum=8\n",
    "    \n",
    "\n",
    "var(x)=(1/n−1)  ∑(xi−x¯)2 \n",
    "8/2 = 4\n",
    "cov(x,y)=(1/n−1) ∑(xi−x¯)(yi−y¯)\n",
    "8/2 = 4\n",
    "\n",
    "                              var(x)    cov(x,y)\n",
    "covarinace matrix (x, y) =   cov(x,y)   var(y)\n",
    "= 4 4\n",
    "  4 4\n",
    "    \n",
    "                                var(x)    cov(x,y)    cov(x,z)\n",
    "covarinace matrix (x, y, z) =   cov(x,y)   var(y)     cov(y,z)\n",
    "                                cov(x,z)   cov(y,z)    var(z)"
   ]
  },
  {
   "cell_type": "code",
   "execution_count": 4,
   "metadata": {},
   "outputs": [
    {
     "name": "stdout",
     "output_type": "stream",
     "text": [
      "[[6.66666667 6.66666667]\n",
      " [6.66666667 6.66666667]]\n"
     ]
    }
   ],
   "source": [
    "# calculate covariance matrix of centered matrix\n",
    "V = cov(C.T)\n",
    "print(V)\n"
   ]
  },
  {
   "cell_type": "code",
   "execution_count": null,
   "metadata": {},
   "outputs": [],
   "source": [
    "Eigen vector of a matrix A is a vector represented by a matrix X such that when X is multiplied with matrix A, then \n",
    "the direction of the resultant matrix remains same as vector X.\n",
    "\n",
    "AX = λX\n",
    "\n",
    "where A is any arbitrary matrix, λ are eigen values and X is an eigen vector corresponding to each eigen value.\n",
    "\n",
    "3\t4\t-2     1           1\n",
    "1\t4\t-1  x  1   =  3 x  1\n",
    "2\t6\t-1     2           2\n",
    "\n",
    "3 is an eigenvalue\n",
    "\n",
    "3,4,2   \n",
    "1,4,-1  eigenvector \n",
    "2,6,-1\n"
   ]
  },
  {
   "cell_type": "code",
   "execution_count": 5,
   "metadata": {},
   "outputs": [
    {
     "name": "stdout",
     "output_type": "stream",
     "text": [
      "[[ 0.70710678 -0.70710678]\n",
      " [ 0.70710678  0.70710678]]\n",
      "[13.33333333  0.        ]\n"
     ]
    }
   ],
   "source": [
    "# eigendecomposition of covariance matrix\n",
    "values, vectors = eig(V)\n",
    "print(vectors)\n",
    "print(values)\n"
   ]
  },
  {
   "cell_type": "code",
   "execution_count": null,
   "metadata": {},
   "outputs": [],
   "source": [
    "An eigenvector is a direction of the line (vertical, horizontal, 45 degrees etc.) .\n",
    "An eigenvalue is a number, telling you how much variance there is in the data in that direction.\n",
    "If all eigenvalues have a similar value, then we know that the existing representation may already be reasonably \n",
    "compressed or dense and that the projection may offer little. If there are eigenvalues close to zero, they represent \n",
    "components or axes of B that may be discarded.\n"
   ]
  },
  {
   "cell_type": "code",
   "execution_count": null,
   "metadata": {},
   "outputs": [],
   "source": [
    "the amount of eigenvectors/values that exist equals the number of dimensions the data set has. Say i’m measuring age \n",
    "and hours on the internet. there are 2 variables, it’s a 2 dimensional data set, therefore there are 2 \n",
    "eigenvectors/values. If i’m measuring age, hours on internet and hours on mobile phone there’s 3 variables, 3-D data \n",
    "set, so 3 eigenvectors/values. The reason for this is that eigenvectors put the data into a new set of dimensions, and \n",
    "these new dimensions have to be equal to the original amount of dimensions. "
   ]
  },
  {
   "cell_type": "code",
   "execution_count": 6,
   "metadata": {},
   "outputs": [
    {
     "name": "stdout",
     "output_type": "stream",
     "text": [
      "[[-4.24264069  0.        ]\n",
      " [-1.41421356  0.        ]\n",
      " [ 1.41421356  0.        ]\n",
      " [ 4.24264069  0.        ]]\n"
     ]
    }
   ],
   "source": [
    "# project data\n",
    "P = vectors.T.dot(C.T)\n",
    "print(P.T)"
   ]
  },
  {
   "cell_type": "code",
   "execution_count": 7,
   "metadata": {},
   "outputs": [
    {
     "name": "stdout",
     "output_type": "stream",
     "text": [
      "[3.41421356 2.         0.58578644]\n"
     ]
    }
   ],
   "source": [
    "import numpy as np\n",
    "m = np.matrix([[2, -1, 0],\n",
    "               [-1, 2, -1],\n",
    "               [0, -1, 2]])\n",
    "\n",
    "eigenvalues = np.linalg.eigvals(m)\n",
    "print (eigenvalues)"
   ]
  },
  {
   "cell_type": "code",
   "execution_count": null,
   "metadata": {},
   "outputs": [],
   "source": [
    "If all eigenvalues have a similar value, then we know that the existing representation may already be reasonably \n",
    "compressed or dense and that the projection may offer little. If there are eigenvalues close to zero, they represent \n",
    "components or axes of B that may be discarded."
   ]
  },
  {
   "cell_type": "code",
   "execution_count": null,
   "metadata": {},
   "outputs": [],
   "source": []
  }
 ],
 "metadata": {
  "kernelspec": {
   "display_name": "Python 3",
   "language": "python",
   "name": "python3"
  },
  "language_info": {
   "codemirror_mode": {
    "name": "ipython",
    "version": 3
   },
   "file_extension": ".py",
   "mimetype": "text/x-python",
   "name": "python",
   "nbconvert_exporter": "python",
   "pygments_lexer": "ipython3",
   "version": "3.5.2"
  }
 },
 "nbformat": 4,
 "nbformat_minor": 2
}

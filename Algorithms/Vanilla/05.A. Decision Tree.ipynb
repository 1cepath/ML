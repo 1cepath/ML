{
 "cells": [
  {
   "cell_type": "raw",
   "metadata": {},
   "source": [
    "In general, Decision Tree algorithms are referred to as CART or Classification and Regression Trees.\n",
    "\n",
    "The primary challenge in the decision tree implementation is to identify which attributes do we need to consider as the root node and each level. Handling this is know the attributes selection. \n",
    "\n",
    "The popular attribute selection measures:\n",
    "\t•\tInformation gain\n",
    "\t•\tGini index\n"
   ]
  },
  {
   "cell_type": "raw",
   "metadata": {},
   "source": [
    "Gini Index\n",
    "-----------\n",
    " A Gini score gives an idea of how good a split is by how mixed the classes are in the two groups created by the split. A perfect separation results in a Gini score of 0, whereas the worst case split that results in 50/50 classes in each group result in a Gini score of 0.5 (for a 2 class problem).\n",
    "\n",
    "The Gini Index is calculated by subtracting the sum of the squared probabilities of each class from one. \n",
    "\n",
    "Gini Index = 1 - sum(p(A)^2 + p(B)^2 + p(..)^2)\n"
   ]
  },
  {
   "cell_type": "raw",
   "metadata": {},
   "source": [
    "         count   % \n",
    "yes      346     74\n",
    "no       124     26\n",
    "overall  470\n",
    "\n",
    "346/470 = 0.736\n",
    "124/470 = 0.263\n",
    "\n",
    "Gini Index = 1 - (0.736)2 - (0.263)2\n",
    "\n",
    "           = 1-0.5476 -0.0676\n",
    "\n",
    "           = 0.3848"
   ]
  },
  {
   "cell_type": "raw",
   "metadata": {},
   "source": [
    "# Now, we'll look at dataset with a 50:50 apples:oranges ratio\n",
    "some_mixing = [['Apple'],\n",
    "               ['Apple'],\n",
    "               ['Apple'],\n",
    "               ['Apple'],\n",
    "               ['Orange']]\n",
    "total = 5\n",
    "apple  = 4\n",
    "orange = 1\n",
    "probability of apple =  4/5 = 0.8\n",
    "probability of orange = 1/5 = 0.2\n",
    "\n",
    "=1 - (0.8) **2 - (0.2)**2\n",
    "=1 - 0.64 - 0.04\n",
    "=0.32"
   ]
  },
  {
   "cell_type": "raw",
   "metadata": {},
   "source": [
    "Student = 30\n",
    "Play Cricket = 15 (50%)\n",
    "----------------------------\n",
    "split on Gender:\n",
    "-->Male\n",
    "    Student = 10\n",
    "    Play Cricket = 2 (20%)\n",
    "-->Female\n",
    "    Student = 20\n",
    "    Play Cricket = 13 (65%)\n",
    "\n",
    "\t1.\tGini for Male = 1- (0.2)**2+(0.8)**2=1 - 0.68 = 0.32\n",
    "\t2.\tGini for Female = 1- (0.65)**2+(0.35)**2=1 - 0.55 = 0.45\n",
    "\t3.\tweighted Gini  = (10/30)*0.32+(20/30)*0.45 = 0.40\n",
    "\n",
    "-----------------------------   \n",
    "Similar for Split on Class:\n",
    "-->Class IX\n",
    "    Student = 14\n",
    "    Play Cricket = 6 (43%)\n",
    "-->Class X\n",
    "    Student = 16\n",
    "    Play Cricket = 9 (56%)\n",
    "\n",
    "\t1.\tGini for sub-node Class IX = 1- (0.43)*(0.43)+(0.57)*(0.57)= 1 - 0.51 = 0.49\n",
    "\t2.\tGini for sub-node Class X = 1- (0.56)*(0.56)+(0.44)*(0.44)=1 - 0.51 = 0.49\n",
    "\t3.\tweighted Gini = (14/30)*0.49+(16/30)*0.49 = 0.49\n",
    "\n",
    "Above, you can see that Gini weight score for Split on Gender is higher than Split on Class, hence, the node split will take place on Gender."
   ]
  },
  {
   "cell_type": "raw",
   "metadata": {},
   "source": [
    "Flow\n",
    "------\n",
    "1.Input data split based on lowest gini score of all possible split points on all features\n",
    "2.Two datasets are created based on the split above\n",
    "3.Again, each new dataset is split based on lowest gini score of all possible\n",
    "4.Split points on all features\n",
    "5.Again, two datasets from each node are created\n",
    "6.And so on, until leaf nodes are created by either max depth or min number of samples criteria\n"
   ]
  }
 ],
 "metadata": {
  "kernelspec": {
   "display_name": "Python 3",
   "language": "python",
   "name": "python3"
  },
  "language_info": {
   "codemirror_mode": {
    "name": "ipython",
    "version": 3
   },
   "file_extension": ".py",
   "mimetype": "text/x-python",
   "name": "python",
   "nbconvert_exporter": "python",
   "pygments_lexer": "ipython3",
   "version": "3.5.2"
  }
 },
 "nbformat": 4,
 "nbformat_minor": 2
}

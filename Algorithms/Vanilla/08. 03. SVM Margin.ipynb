{
 "cells": [
  {
   "cell_type": "code",
   "execution_count": null,
   "metadata": {},
   "outputs": [],
   "source": [
    "n(a,b,c) -  normal vector of a plane\n",
    "P1(x,y,z) -  known point on the plane, \n",
    "P(x0,y0,z0) - any point on the plane\n",
    "\n",
    "The shortest distance from an arbitrary point P to a plane can be calculated by the dot product of two vectors.\n",
    "(p-p1) and n. \n",
    "\n",
    "n . ( p - p1) = margin\n",
    "\n",
    "margin = 2 / ||W||\n",
    "\n",
    "the bigger the norm is, the smaller the margin become.\n",
    "\n",
    "‖w‖  = 1 , m = 2\n",
    "‖w‖  = 2 , m = 1\n",
    "‖w‖  = 4 , m = 1/2\n",
    "\n",
    "The smallest ‖w‖ (magnitude) is the one which will have the biggest margin."
   ]
  },
  {
   "cell_type": "code",
   "execution_count": 92,
   "metadata": {},
   "outputs": [],
   "source": [
    "import numpy as np"
   ]
  },
  {
   "cell_type": "code",
   "execution_count": 93,
   "metadata": {},
   "outputs": [],
   "source": [
    "def svm_sgd(X, Y):\n",
    "\n",
    "    w = np.zeros(len(X[0]))\n",
    "    eta = 1 #Our learning parameter eta is set to 1. As a regulizing parameter we choose 1/epoch, so this parameter will decrease, as the number of epochs increases.\n",
    "    epochs = 100000\n",
    "    length_Wvector = {}\n",
    "   \n",
    "    #Iterate n times over the whole data set. The Iterator is begins with 1 to avoid division by zero during regularization parameter calculation\n",
    "    for epoch in range(1,epochs): \n",
    "        correctly_classified = True\n",
    "        #Iterate over each sample in the data set\n",
    "        for i, x in enumerate(X):\n",
    "            #Misclassification condition\n",
    "            if (Y[i]*np.dot(X[i], w)) < 1: \n",
    "                #Update rule for the weights\n",
    "                #w=w+η(yixi−2λw)\n",
    "                w = w + eta * ( (X[i] * Y[i]) + (-2  *(1/epoch)* w) )\n",
    "                correctly_classified = False\n",
    "            else:\n",
    "                # If classified correctly just update the weight vector by the derived regularizer term \n",
    "                #w=w+η(−2λw)\n",
    "                w = w + eta * (-2  *(1/epoch)* w)\n",
    "                \n",
    "        if correctly_classified:\n",
    "            length_Wvector[np.linalg.norm(w)] = w\n",
    "    \n",
    "    #print(length_Wvector)\n",
    "    return length_Wvector\n"
   ]
  },
  {
   "cell_type": "code",
   "execution_count": 97,
   "metadata": {},
   "outputs": [],
   "source": [
    "X = np.array([\n",
    "    [3,1,-1],\n",
    "    [3,-1,-1],\n",
    "    [6,1,-1],\n",
    "    [6,-1,-1],\n",
    "    [1,0,-1],\n",
    "    [0,1,-1],\n",
    "    [0,-1,-1],\n",
    "    [-1,0,-1],\n",
    "])\n",
    "\n",
    "y = np.array([-1,-1,-1,-1,+1,+1,+1,+1])\n"
   ]
  },
  {
   "cell_type": "code",
   "execution_count": 98,
   "metadata": {},
   "outputs": [],
   "source": [
    "length_Wvector = svm_sgd(X,y)\n",
    "norms = sorted([n for n in length_Wvector])\n",
    "w = length_Wvector[norms[0]]"
   ]
  },
  {
   "cell_type": "code",
   "execution_count": 99,
   "metadata": {},
   "outputs": [
    {
     "data": {
      "text/plain": [
       "array([-0.85790981, -0.10204972, -1.69564233])"
      ]
     },
     "execution_count": 99,
     "metadata": {},
     "output_type": "execute_result"
    }
   ],
   "source": [
    "length_Wvector[norms[0]]"
   ]
  },
  {
   "cell_type": "code",
   "execution_count": 101,
   "metadata": {},
   "outputs": [
    {
     "data": {
      "text/plain": [
       "array([-0.99984846,  0.03359307, -2.05173244])"
      ]
     },
     "execution_count": 101,
     "metadata": {},
     "output_type": "execute_result"
    }
   ],
   "source": [
    "length_Wvector[norms[1]]"
   ]
  },
  {
   "cell_type": "code",
   "execution_count": null,
   "metadata": {},
   "outputs": [],
   "source": [
    "The weight vector of the SVM including the bias term after 100000 epochs \n",
    "\n",
    "The weight vector is ( -0.85790981, -0.10204972) and the bias term is the third entry -1.69564233.\n",
    "\n",
    "(3,1)=3 * -0.857 + 1 *-0.102 + 1.69 =  sign(-0.983) = -1\n",
    "(6,1)=6 * -0.857 + 1 *-0.102 + 1.69 =  sign(-3.554) = -1\n",
    "\n",
    "(0,-1)=0 * -0.857 + -1 *-0.102 + 1.69 =  sign(1.792) = +1\n",
    "(-1,0)=-1 * -0.857 + 0 *-0.102 + 1.69 =  sign(2.547) = +1"
   ]
  }
 ],
 "metadata": {
  "kernelspec": {
   "display_name": "Python 3",
   "language": "python",
   "name": "python3"
  },
  "language_info": {
   "codemirror_mode": {
    "name": "ipython",
    "version": 3
   },
   "file_extension": ".py",
   "mimetype": "text/x-python",
   "name": "python",
   "nbconvert_exporter": "python",
   "pygments_lexer": "ipython3",
   "version": "3.5.2"
  }
 },
 "nbformat": 4,
 "nbformat_minor": 1
}

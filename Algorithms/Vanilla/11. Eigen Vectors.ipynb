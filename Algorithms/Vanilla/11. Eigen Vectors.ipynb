{
 "cells": [
  {
   "cell_type": "raw",
   "metadata": {},
   "source": []
  },
  {
   "cell_type": "code",
   "execution_count": 26,
   "metadata": {},
   "outputs": [
    {
     "name": "stdout",
     "output_type": "stream",
     "text": [
      "[[1 2]\n",
      " [3 4]\n",
      " [5 6]\n",
      " [7 8]]\n"
     ]
    }
   ],
   "source": [
    "from numpy import array\n",
    "from numpy import mean\n",
    "from numpy import cov\n",
    "from numpy.linalg import eig\n",
    "# define a matrix\n",
    "A = array([[1, 2], [3, 4], [5, 6],[7,8]])\n",
    "print(A)\n"
   ]
  },
  {
   "cell_type": "raw",
   "metadata": {},
   "source": [
    "The first step is to calculate the mean values of each column.\n",
    "\n",
    "              (a11 + a21 + a31) / 3\n",
    "M(m11, m12) = (a12 + a22 + a32) / 3"
   ]
  },
  {
   "cell_type": "code",
   "execution_count": 27,
   "metadata": {},
   "outputs": [
    {
     "name": "stdout",
     "output_type": "stream",
     "text": [
      "[4. 5.]\n"
     ]
    }
   ],
   "source": [
    "# calculate the mean of each column\n",
    "M = mean(A.T, axis=1)\n",
    "print(M)\n"
   ]
  },
  {
   "cell_type": "raw",
   "metadata": {},
   "source": [
    "Next, we need to center the values in each column by subtracting the mean column value."
   ]
  },
  {
   "cell_type": "code",
   "execution_count": 28,
   "metadata": {},
   "outputs": [
    {
     "name": "stdout",
     "output_type": "stream",
     "text": [
      "[[-3. -3.]\n",
      " [-1. -1.]\n",
      " [ 1.  1.]\n",
      " [ 3.  3.]]\n"
     ]
    }
   ],
   "source": [
    "# center columns by subtracting column means\n",
    "C = A - M\n",
    "\n",
    "print(C)"
   ]
  },
  {
   "cell_type": "raw",
   "metadata": {},
   "source": [
    "The next step is to calculate the covariance matrix of the centered matrix C.\n",
    "\n",
    "Correlation is a normalized measure of the amount and direction (positive or negative) that two columns change together. Covariance is a generalized and unnormalized version of correlation across multiple columns. A covariance matrix is a calculation of covariance of a given matrix with covariance scores for every column with every other column, including itself."
   ]
  },
  {
   "cell_type": "raw",
   "metadata": {},
   "source": [
    "  x   y\n",
    " -2. -2.   \n",
    "  0.  0. \n",
    "  2.  2.             \n",
    "    \n",
    "xmean = -2 + 0 + 2 / 3 = 0\n",
    "ymean = -2 + 0 + 2 / 3 = 0\n",
    "\n",
    "X   y  x-xmean  y-ymean\n",
    "-2 -2   -2 - 0  -2 -0\n",
    "0   0    0 - 0   0 -0\n",
    "2   2    2 - 0   2 -0\n",
    "\n",
    "X   y  x-xmean  y-ymean   product    (xi−x¯)2\n",
    "-2 -2   -2       -2        4          4\n",
    "0   0   0         0        0          0\n",
    "2   2   -2       -2         4         4\n",
    "                     sum = 8        sum=8\n",
    "    \n",
    "\n",
    "var(x)=(1/n−1)  ∑(xi−x¯)2 \n",
    "8/2 = 4\n",
    "cov(x,y)=(1/n−1) ∑(xi−x¯)(yi−y¯)\n",
    "8/2 = 4\n",
    "\n",
    "                              var(x)    cov(x,y)\n",
    "covarinace matrix (x, y) =   cov(x,y)   var(y)\n",
    "\n",
    "= 4 4\n",
    "  4 4\n",
    "    \n",
    "    \n",
    "\n",
    "                                var(x)    cov(x,y)    cov(x,z)\n",
    "covarinace matrix (x, y, z) =   cov(x,y)   var(y)     cov(y,z)\n",
    "                                cov(x,z)   cov(y,z)    var(z)"
   ]
  },
  {
   "cell_type": "code",
   "execution_count": 29,
   "metadata": {},
   "outputs": [
    {
     "name": "stdout",
     "output_type": "stream",
     "text": [
      "[[6.66666667 6.66666667]\n",
      " [6.66666667 6.66666667]]\n"
     ]
    }
   ],
   "source": [
    "# calculate covariance matrix of centered matrix\n",
    "V = cov(C.T)\n",
    "print(V)\n"
   ]
  },
  {
   "cell_type": "raw",
   "metadata": {},
   "source": [
    "Eigen vector of a matrix A is a vector represented by a matrix X such that when X is multiplied with matrix A, then the direction of the resultant matrix remains same as vector X.\n",
    "\n",
    "AX = λX\n",
    "\n",
    "where A is any arbitrary matrix, λ are eigen values and X is an eigen vector corresponding to each eigen value.\n",
    "\n",
    "AX = λX\n",
    "\n",
    "=> AX – λX = 0\n",
    "\n",
    "=> (A – λI) X = 0 \n",
    "\n",
    "where I is the identity matrix of the same dimensions as A\n",
    "\n",
    "a quantity obtained by the addition of products of the elements of a square matrix according to a given rule.\n"
   ]
  },
  {
   "cell_type": "raw",
   "metadata": {},
   "source": [
    "For a square matrix, i.e., a matrix with the same number of rows and columns, one can capture important information about the matrix in a just single number, called the determinant. The determinant is useful for solving linear equations, capturing how linear transformation change area or volume, and changing variables in integrals.The determinant of a matrix is a special number that can be calculated from a square matrix.\n",
    "\n",
    "The symbol for determinant is two vertical lines either side.\n",
    "\n",
    "|A| means the determinant of the matrix A\n",
    "\n",
    "First of all the matrix must be square (i.e. have the same number of rows as columns). Then it is just basic arithmetic. Here is how:\n",
    "\n",
    "A = [a   b\n",
    "     c   d]\n",
    "     \n",
    "|A| = ad − bc\n",
    "\"The determinant of A equals a times d minus b times c\"\n",
    "\n",
    "B = [4   6\n",
    "     3   8]\n",
    "     \n",
    "|B|\t= 4×8 − 6×3\n",
    " \t= 32−18\n",
    " \t= 14\n",
    "    "
   ]
  },
  {
   "cell_type": "raw",
   "metadata": {},
   "source": [
    "=> Det(A – λI) =0\n",
    "\n",
    "A = [2  3\n",
    "     2  1]\n",
    "     \n",
    "=> Det( [2–λ 3\n",
    "          2  1–λ]) \n",
    "=> (2–λ)(1–λ)-6  = 0\n",
    "=> 2 -λ -2λ + λ^2 - 6 = 0 \n",
    "=> λ^2 -3λ - 4 = 0\n"
   ]
  },
  {
   "cell_type": "code",
   "execution_count": 30,
   "metadata": {},
   "outputs": [
    {
     "name": "stdout",
     "output_type": "stream",
     "text": [
      "[[ 0.70710678 -0.70710678]\n",
      " [ 0.70710678  0.70710678]]\n",
      "[13.33333333  0.        ]\n"
     ]
    }
   ],
   "source": [
    "# eigendecomposition of covariance matrix\n",
    "values, vectors = eig(V)\n",
    "print(vectors)\n",
    "print(values)\n"
   ]
  },
  {
   "cell_type": "raw",
   "metadata": {},
   "source": [
    "An eigenvector is a direction of the line (vertical, horizontal, 45 degrees etc.) .\n",
    "An eigenvalue is a number, telling you how much variance there is in the data in that direction.\n",
    "the amount of eigenvectors/values that exist equals the number of dimensions the data set has. Say i’m measuring age and hours on the internet. there are 2 variables, it’s a 2 dimensional data set, therefore there are 2 eigenvectors/values. If i’m measuring age, hours on internet and hours on mobile phone there’s 3 variables, 3-D data set, so 3 eigenvectors/values. The reason for this is that eigenvectors put the data into a new set of dimensions, and these new dimensions have to be equal to the original amount of dimensions. "
   ]
  },
  {
   "cell_type": "code",
   "execution_count": 31,
   "metadata": {},
   "outputs": [
    {
     "name": "stdout",
     "output_type": "stream",
     "text": [
      "[[-4.24264069  0.        ]\n",
      " [-1.41421356  0.        ]\n",
      " [ 1.41421356  0.        ]\n",
      " [ 4.24264069  0.        ]]\n"
     ]
    }
   ],
   "source": [
    "# project data\n",
    "P = vectors.T.dot(C.T)\n",
    "print(P.T)"
   ]
  },
  {
   "cell_type": "code",
   "execution_count": 1,
   "metadata": {},
   "outputs": [
    {
     "name": "stdout",
     "output_type": "stream",
     "text": [
      "[3.41421356 2.         0.58578644]\n"
     ]
    }
   ],
   "source": [
    "import numpy as np\n",
    "m = np.matrix([[2, -1, 0],\n",
    "               [-1, 2, -1],\n",
    "               [0, -1, 2]])\n",
    "\n",
    "eigenvalues = np.linalg.eigvals(m)\n",
    "print (eigenvalues)"
   ]
  },
  {
   "cell_type": "code",
   "execution_count": null,
   "metadata": {},
   "outputs": [],
   "source": []
  }
 ],
 "metadata": {
  "kernelspec": {
   "display_name": "Python 3",
   "language": "python",
   "name": "python3"
  },
  "language_info": {
   "codemirror_mode": {
    "name": "ipython",
    "version": 3
   },
   "file_extension": ".py",
   "mimetype": "text/x-python",
   "name": "python",
   "nbconvert_exporter": "python",
   "pygments_lexer": "ipython3",
   "version": "3.5.2"
  }
 },
 "nbformat": 4,
 "nbformat_minor": 2
}

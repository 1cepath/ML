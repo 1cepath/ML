{
 "cells": [
  {
   "cell_type": "code",
   "execution_count": null,
   "metadata": {},
   "outputs": [],
   "source": [
    "Naive Bayes is a collection of classification algorithms based on Bayes Theorem.\n",
    "It is not a single algorithm but a family of algorithms that all share a common principle\n",
    "\n",
    "three popular Naive Bayes algorithms:\n",
    "\t•\tGaussian Naive Bayes,\n",
    "\t•\tMultinomial Naive Bayes.\n",
    "\t•\tBernoulli Naive Bayes.\n",
    "\n",
    "Categorical Inputs: Naive Bayes assumes label attributes such as binary, categorical or nominal.\n",
    "Gaussian Inputs: If the input variables are real-valued, a Gaussian distribution is assumed. In which case the algorithm will perform better if the univariate distributions of your data are Gaussian or near-Gaussian. This may require removing outliers (e.g. values that are more than 3 or 4 standard deviations from the mean).\n"
   ]
  },
  {
   "cell_type": "code",
   "execution_count": null,
   "metadata": {},
   "outputs": [],
   "source": [
    "Bernoulli Naive Bayes : It assumes that all our features are binary such that they take only two values. \n",
    "    Means 0s can represent “word does not occur in the document” and 1s as \"word occurs in the document\" .\n",
    "\n",
    "Multinomial Naive Bayes : Its is used when we have discrete data (e.g. movie ratings ranging 1 and 5 as each \n",
    "                                                                  rating will have certain frequency to represent). \n",
    "In text learning we have the count of each word to predict the class or label.\n",
    "\n",
    "Gaussian Naive Bayes : Because of the assumption of the normal distribution, Gaussian Naive Bayes is used in cases when \n",
    "    all our features are continuous. For example in Iris dataset features are sepal width, petal width, sepal length, \n",
    "    petal length. So its features can have different values in data set as width and length can vary. We can’t represent \n",
    "    features in terms of their occurrences. This means data is continuous. Hence we use Gaussian Naive Bayes here.\n",
    "    \n",
    "    "
   ]
  }
 ],
 "metadata": {
  "kernelspec": {
   "display_name": "Python 3",
   "language": "python",
   "name": "python3"
  },
  "language_info": {
   "codemirror_mode": {
    "name": "ipython",
    "version": 3
   },
   "file_extension": ".py",
   "mimetype": "text/x-python",
   "name": "python",
   "nbconvert_exporter": "python",
   "pygments_lexer": "ipython3",
   "version": "3.5.2"
  }
 },
 "nbformat": 4,
 "nbformat_minor": 2
}

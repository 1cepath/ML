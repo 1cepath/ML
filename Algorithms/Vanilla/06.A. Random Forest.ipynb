{
 "cells": [
  {
   "cell_type": "raw",
   "metadata": {},
   "source": [
    "1. Choose 90% of the data randomly for training.\n",
    "2. Train those data, i.e. the process of building a tree shown above.\n",
    "3. Use this tree to predict, get the prediction x.\n",
    "4. Repeat the above three steps, build another tree, get another prediction y.\n",
    "5. Repeat the first three steps again, get another prediction z.\n",
    "6. Choose the one that appears the most in x, y, z, which should be our final prediction, return it.\n",
    "\n"
   ]
  },
  {
   "cell_type": "code",
   "execution_count": null,
   "metadata": {},
   "outputs": [],
   "source": [
    "\n",
    "http://searene.me/2017/12/23/Write-Machine-Learning-Algorithms-From-Scratch-Random-Forest/\n"
   ]
  }
 ],
 "metadata": {
  "kernelspec": {
   "display_name": "Python 3",
   "language": "python",
   "name": "python3"
  },
  "language_info": {
   "codemirror_mode": {
    "name": "ipython",
    "version": 3
   },
   "file_extension": ".py",
   "mimetype": "text/x-python",
   "name": "python",
   "nbconvert_exporter": "python",
   "pygments_lexer": "ipython3",
   "version": "3.5.2"
  }
 },
 "nbformat": 4,
 "nbformat_minor": 1
}

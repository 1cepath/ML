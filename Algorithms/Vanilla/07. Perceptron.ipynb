{
 "cells": [
  {
   "cell_type": "raw",
   "metadata": {},
   "source": [
    "Perceptron Learning Algorithm is one of the simplest learning algorithm in machine learning. Its a linear classifier which learns a linear function using some set of weights and the features. \n",
    "\n",
    "It is a type of linear classifier,used for two-class classification problems.\n",
    "\n",
    "good understanding of the Perceptron algorithm is essential to understanding Support Vector Machines and Neural Networks.\n"
   ]
  },
  {
   "cell_type": "raw",
   "metadata": {},
   "source": [
    "Equation of Line/Hyperplane\n",
    "-------------------------------------\n",
    "slope intercept form     y = mx+ c\n",
    "Point Slope Form         y - y1  = m(x - x1)  \n",
    "standard form            ax + by = c\n",
    "general form             ax + by + c = 0\n",
    "vector equation          w . x  + c =  0"
   ]
  },
  {
   "cell_type": "raw",
   "metadata": {},
   "source": [
    "n(a,b,c) -  normal vector of a plane\n",
    "P1(x,y,z) -  known point on the plane, \n",
    "P(x0,y0,z0) - any point on the plane\n",
    "\n",
    "1. Since the vector ( p - p1) and the normal vector n are perpendicular each other, the dot product of two vector should be 0.\n",
    "\n",
    "2. The equation of a plane in 3D space is defined with normal vector (perpendicular to the plane) and a known point on the plane.\n",
    "\n",
    "n . ( p - p1) = 0\n",
    "n.p - n. p1                  ie,    a(x−x0)+b(y−y0)+c(z−z0)=0\n",
    "                                    ax+by+cz−(ax0+by0+cz0)=0\n",
    "                             where  d=-(ax0+by0+cz0)            constant\n",
    "n.p  + d = 0\n"
   ]
  },
  {
   "cell_type": "raw",
   "metadata": {},
   "source": [
    "If you take any vector p, then the dot product (p,n) is positive if  is on the same side of  as p, and negative otherwise. The dot product is zero if and only if  is exactly on the line , including when p  is the zero vector.\n",
    "\n",
    "n=(-0.4,-1)\n",
    "d = 9\n",
    "\n",
    "x1     x2        n.p + d\n",
    "--------------------------\n",
    "1      3         (-0.4 * 1) + (-1 * 3) + 9 = 5.6\n",
    "3      5         2.8\n",
    "5      7         0\n",
    "7      9         -2.8\n",
    "\n",
    "If the equation returns a positive number, the point is below the line, while if it is a negative number, it is above."
   ]
  },
  {
   "cell_type": "code",
   "execution_count": null,
   "metadata": {},
   "outputs": [],
   "source": [
    "n=(-0.5,1)\n",
    "d = 0\n",
    "\n",
    "x1    x2    y    py = n.a + d\n",
    "----------------------------\n",
    "2     1     0    -0.5*2 + 1 * 1 - 0 = 0 \n",
    "4     2     0    -0.5*4 + 1 * 2 - 0 = 0\n",
    "6     3     0    -0.5*6 + 1 * 3 - 0 = 0\n",
    "10    4    -1    -0.5*10 + 1 * 4 - 0 =  -1 <— this point is not on the straight line\n",
    "3     5    +1    -0.5*3 + 1 * 5 - 0 =  +3.5 <— this point is not on the straight line"
   ]
  },
  {
   "cell_type": "raw",
   "metadata": {},
   "source": [
    "If we multiply (w.x +b) by value of y\n",
    "\n",
    "F = y * (n.a + d)\n",
    "The sign of f will always be:\n",
    "1. Positive if the point is correctly classified \n",
    "2. Negative if the point is incorrectly classified "
   ]
  },
  {
   "cell_type": "raw",
   "metadata": {},
   "source": [
    "x1    x2    y                  py= n.a + d     y . py\n",
    "---------------------------------------------------\n",
    "2     1     0                  0                0\n",
    "4     2     0                  0                0\n",
    "6     3     0                  0                0\n",
    "10    4     -1                 -1               +1\n",
    "3     5     +1                +3.5             +2.5\n",
    "\n"
   ]
  },
  {
   "cell_type": "raw",
   "metadata": {},
   "source": [
    "x1  x2  y\n",
    "-----------\n",
    "-2  4   -1\n",
    "4   1   -1\n",
    "1   6   +1\n",
    "2   4   +1\n",
    "6   2   +1\n",
    "\n",
    "\n",
    "n= (1.56,3.17) \n",
    "d= -11.12.\n",
    "\n",
    "\n",
    "test sample (2,2), supposed to be negative\n",
    "test sample (4,3), supposed to be positive\n"
   ]
  },
  {
   "cell_type": "raw",
   "metadata": {},
   "source": [
    "the angle between w and x should be less than 90 when x belongs to P class and the angle between them should be more than 90 when x belongs to N class. \n",
    "\n",
    "So when we are adding x to w, which we do when x belongs to P and w.x < 0 (Case 1), we are essentially increasing the cos(alpha) value, which means, we are decreasing the alpha value, the angle between w and x, which is what we desire. And the similar intuition works for the case when x belongs to N and w.x ≥ 0 (Case 2)\n",
    "\n",
    "         x          w + x\n",
    "    | --------   =    /\n",
    "    |                /\n",
    " w  |               /\n",
    "    |              /\n",
    "\n",
    "Perceptron (wrongly) thinks wTold xn + bold < 0\n",
    "wnew = wold + ynxn = wold + xn (since yn = +1)\n",
    "bnew = bold + yn = bold + 1\n",
    "\n",
    "Thus wTnew xn + bnew is less negative than wTold xn + bold\n",
    "\n",
    "Perceptron (wrongly) thinks wTold xn + bold > 0\n",
    "wnew = wold + ynxn = wold − xn (since yn = −1)\n",
    "bnew = bold + yn = bold − 1\n",
    "\n",
    "Thus wTnew xn + bnew is less positive than wT\n",
    "old xn + bold"
   ]
  },
  {
   "cell_type": "code",
   "execution_count": 30,
   "metadata": {},
   "outputs": [
    {
     "name": "stdout",
     "output_type": "stream",
     "text": [
      "[ 2.  3. 13.]\n"
     ]
    },
    {
     "data": {
      "image/png": "[encoded data removed]",
      "text/plain": [
       "<Figure size 432x288 with 1 Axes>"
      ]
     },
     "metadata": {},
     "output_type": "display_data"
    }
   ],
   "source": [
    "import numpy as np\n",
    "\n",
    "\n",
    "# bias term -1 \n",
    "# x1,x2,bias\n",
    "\n",
    "X = np.array([\n",
    "    [-2,4,-1],\n",
    "    [4,1,-1],\n",
    "    [1, 6, -1],\n",
    "    [2, 4, -1],\n",
    "    [6, 2, -1],\n",
    "\n",
    "])\n",
    "\n",
    "y = np.array([-1,-1,1,1,1])\n",
    "\n",
    "def perceptron_sgd(X, Y):\n",
    "    w = np.zeros(len(X[0]))\n",
    "    eta = 1  # learning rate\n",
    "    epochs = 20\n",
    "    errors = []\n",
    "\n",
    "    for t in range(epochs):\n",
    "        total_error = 0\n",
    "        for i, x in enumerate(X):\n",
    "            if (np.dot(X[i], w)*Y[i]) <= 0:\n",
    "                total_error += (np.dot(X[i], w)*Y[i])\n",
    "                w = w + eta*X[i]*Y[i]\n",
    "        \n",
    "        errors.append(total_error*-1)\n",
    "    \n",
    "    plt.plot(errors)\n",
    "    plt.xlabel('Epoch')\n",
    "    plt.ylabel('Total Loss')\n",
    "    return w\n",
    "\n",
    "w1,w2,b = perceptron_sgd(X,y)\n",
    "print(w1,w2,b)\n",
    "# the perceptron needed 14 epochs to classify all samples right (total error is zero). \n",
    "#The weight vector is (2,3) and the bias term is the third entry -13."
   ]
  },
  {
   "cell_type": "code",
   "execution_count": 26,
   "metadata": {},
   "outputs": [
    {
     "data": {
      "text/plain": [
       "<matplotlib.quiver.Quiver at 0x7f43d25dc438>"
      ]
     },
     "execution_count": 26,
     "metadata": {},
     "output_type": "execute_result"
    },
    {
     "data": {
      "image/png": "[encoded data removed]",
      "text/plain": [
       "<Figure size 432x288 with 1 Axes>"
      ]
     },
     "metadata": {},
     "output_type": "display_data"
    }
   ],
   "source": [
    "import matplotlib.pyplot as plt\n",
    "%matplotlib inline \n",
    "\n",
    "for index, sample in enumerate(X):\n",
    "    # Plot the negative samples\n",
    "    if index < 2:\n",
    "        plt.scatter(sample[0], sample[1], s=120, marker='_', linewidths=2)\n",
    "    # Plot the positive samples\n",
    "    else:\n",
    "        plt.scatter(sample[0], sample[1], s=120, marker='+', linewidths=2)\n",
    "\n",
    "# Add our test samples\n",
    "#plt.scatter(2,2, s=120, marker='_', linewidths=2, color='yellow')\n",
    "#plt.scatter(4,3, s=120, marker='+', linewidths=2, color='blue')\n",
    "\n",
    "# Print the hyperplane calculated by perceptron_sgd()\n",
    "x2=[w[0],w[1],-w[1],w[0]]\n",
    "x3=[w[0],w[1],w[1],-w[0]]\n",
    "\n",
    "x2x3 =np.array([x2,x3])\n",
    "P,Q,R,S = zip(*x2x3)\n",
    "ax = plt.gca()\n",
    "ax.quiver(P,Q,R,S,scale=1, color='blue')"
   ]
  },
  {
   "cell_type": "code",
   "execution_count": null,
   "metadata": {},
   "outputs": [],
   "source": []
  },
  {
   "cell_type": "code",
   "execution_count": null,
   "metadata": {},
   "outputs": [],
   "source": []
  }
 ],
 "metadata": {
  "kernelspec": {
   "display_name": "Python 3",
   "language": "python",
   "name": "python3"
  },
  "language_info": {
   "codemirror_mode": {
    "name": "ipython",
    "version": 3
   },
   "file_extension": ".py",
   "mimetype": "text/x-python",
   "name": "python",
   "nbconvert_exporter": "python",
   "pygments_lexer": "ipython3",
   "version": "3.5.2"
  }
 },
 "nbformat": 4,
 "nbformat_minor": 2
}

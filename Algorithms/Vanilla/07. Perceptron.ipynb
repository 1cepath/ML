{
 "cells": [
  {
   "cell_type": "raw",
   "metadata": {},
   "source": [
    "Perceptron Learning Algorithm is one of the simplest learning algorithm in machine learning. Its a linear classifier which learns a linear function using some set of weights and the features. \n",
    "\n",
    "It is a type of linear classifier,used for two-class classification problems.\n",
    "\n",
    "good understanding of the Perceptron algorithm is essential to understanding Support Vector Machines and Neural Networks.\n"
   ]
  },
  {
   "cell_type": "raw",
   "metadata": {},
   "source": [
    "Equation of Line/Hyperplane\n",
    "-------------------------------------\n",
    "slope intercept form     y = mx+ c\n",
    "Point Slope Form         y - y1  = m(x - x1)  \n",
    "standard form            ax + by = c\n",
    "general form             ax + by + c = 0\n",
    "vector equation          w . x =  0"
   ]
  },
  {
   "cell_type": "raw",
   "metadata": {},
   "source": [
    "If you take any vector  X, then the dot product (X,W) is positive if  is on the same side of  as X, and negative otherwise. The dot product is zero if and only if  is exactly on the line , including when X  is the zero vector.\n",
    "\n",
    "w=(-0.4,-1)\n",
    "c = 9\n",
    "\n",
    "a=(1,3)      w.a + c = 5.6     (-0.4 * 1) + (-1 * 3) + 9\n",
    "b=(3,5)      w.b + c = 2.8\n",
    "c=(5,7)      w.c + c = 0\n",
    "e=(7,9)      w.d + c = -2.8\n",
    "\n",
    "If the equation returns a positive number, the point is below the line, while if it is a negative number, it is above."
   ]
  },
  {
   "cell_type": "code",
   "execution_count": null,
   "metadata": {},
   "outputs": [],
   "source": [
    "slope intercept form vs Vector Equation\n",
    "------------------------------------------\n",
    "\n",
    "The two equations are just different ways of expressing the same thing\n",
    "\n",
    "y = ax + b\n",
    "Y - ax -b = 0\n",
    "\n",
    "Given two vectors\n",
    "w= <-b , -a.  1>    w is line direction unit vector\n",
    "x =<1, x, y>\n",
    "w . x = -b * (1) + (-a) * x + 1 * y \n",
    "w . x = - b - ax + y \n",
    "w . x = y - ax - b\n",
    "w . x =  0"
   ]
  },
  {
   "cell_type": "code",
   "execution_count": null,
   "metadata": {},
   "outputs": [],
   "source": [
    "\n",
    "m = 3\n",
    "b = -5\n",
    "\n",
    "Slope intercept form\n",
    "--------------------\n",
    "y = 3x - 5\n",
    "\n",
    "\n",
    "vector form\n",
    "---------------------\n",
    "w = < -b, -a, 1>\n",
    "w = < 5, -3, 1>\n",
    "x = < 1, x, y>\n",
    "\n",
    "w.x = y - ax - b\n",
    "w.x = 5 * 1 + (-3) * x + 1 * y = 0\n",
    "w.x = 5 - 3x + y = 0"
   ]
  },
  {
   "cell_type": "raw",
   "metadata": {},
   "source": [
    "x1    x2    y\n",
    "-------------\n",
    "2     1     0\n",
    "4     2     0\n",
    "6     3     0\n",
    "10    4    -1\n",
    "3     5    +1\n"
   ]
  },
  {
   "cell_type": "raw",
   "metadata": {},
   "source": [
    "Given two vectors\n",
    "w= <-b , -a.  1>    w is line direction unit vector\n",
    "x =<1, x1, x2>\n",
    "\n",
    "\n",
    "w . x = 0\n",
    "<-b , -a.  1> . <1, x1, x2> = 0\n",
    "-b * (1) + (-a) * x1 + 1 * x2 = 0\n",
    "- b - ax1 + x2 = 0\n",
    "x2 - ax1 - b =0\n"
   ]
  },
  {
   "cell_type": "raw",
   "metadata": {},
   "source": [
    "Vector form\n",
    "--------------\n",
    "w.x = x2 - ax1 - b = 0\n",
    "\n",
    "b = 0\n",
    "a = 0.5\n",
    "\n",
    "x1    x2    x2 - ax1 - b =0\n",
    "---------------------------------\n",
    "2     1     1−0.5∗2 −0=0\n",
    "4     2     2 - 0.5∗4 -0 = 0\n",
    "6     3     3 - 0.5 * 6 - 0 = 0\n",
    "10    4     4 - 0.5∗10 - 0= -1   <— this point is not on the straight line\n",
    "3     5     5 - 0.5 * 3 -0 = +2.5 <— this point is not on the straight line"
   ]
  },
  {
   "cell_type": "raw",
   "metadata": {},
   "source": [
    "If we multiply (w.x +b) by value of y\n",
    "\n",
    "F = y * (w.x +b)\n",
    "The sign of f will always be:\n",
    "1. Positive if the point is correctly classified \n",
    "2. Negative if the point is incorrectly classified "
   ]
  },
  {
   "cell_type": "code",
   "execution_count": null,
   "metadata": {},
   "outputs": [],
   "source": [
    "x1    x2    x2 - ax1 - b =0    y        y . (w.x)\n",
    "---------------------------------------------------\n",
    "2     1     0                  0          0\n",
    "4     2     0                  0          0\n",
    "6     3     0                  0          0\n",
    "10    4     -1                 -1         +1\n",
    "3     5    +2.5                +1         +2.5\n"
   ]
  }
 ],
 "metadata": {
  "kernelspec": {
   "display_name": "Python 3",
   "language": "python",
   "name": "python3"
  },
  "language_info": {
   "codemirror_mode": {
    "name": "ipython",
    "version": 3
   },
   "file_extension": ".py",
   "mimetype": "text/x-python",
   "name": "python",
   "nbconvert_exporter": "python",
   "pygments_lexer": "ipython3",
   "version": "3.5.2"
  }
 },
 "nbformat": 4,
 "nbformat_minor": 2
}

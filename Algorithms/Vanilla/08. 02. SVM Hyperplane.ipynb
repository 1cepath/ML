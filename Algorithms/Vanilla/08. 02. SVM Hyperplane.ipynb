{
 "cells": [
  {
   "cell_type": "raw",
   "metadata": {},
   "source": [
    "[3,1]  -1\n",
    "[3,-1] -1\n",
    "[6,1]  -1\n",
    "[6,-1] -1\n",
    "[1,0]   +1\n",
    "[0,1]   +1\n",
    "[0,-1]  +1\n",
    "[-1,0]  +1\n",
    "\n",
    "         \n",
    "1         (+1)            (-1)            (-1)\n",
    "                (+1)\n",
    "-2,0   -1   0    1     2    3    4    5    6\n",
    "       (+1)  \n",
    "-1         (+1)           (-1)            (-1)\n",
    "\n",
    "-2"
   ]
  },
  {
   "cell_type": "code",
   "execution_count": 19,
   "metadata": {},
   "outputs": [],
   "source": [
    "\n",
    "def svm_sgd(X, Y):\n",
    "\n",
    "    w = np.zeros(len(X[0]))\n",
    "    eta = 1 #Our learning parameter eta is set to 1. As a regulizing parameter we choose 1/epoch, so this parameter will decrease, as the number of epochs increases.\n",
    "    epochs = 100000\n",
    "   \n",
    "    #Iterate n times over the whole data set. The Iterator is begins with 1 to avoid division by zero during regularization parameter calculation\n",
    "    for epoch in range(1,epochs): \n",
    "        #Iterate over each sample in the data set\n",
    "        for i, x in enumerate(X):\n",
    "            #Misclassification condition\n",
    "            if (Y[i]*np.dot(X[i], w)) < 1: \n",
    "                #Update rule for the weights\n",
    "                #w=w+η(yixi−2λw)\n",
    "                w = w + eta * ( (X[i] * Y[i]) + (-2  *(1/epoch)* w) )\n",
    "            else:\n",
    "                # If classified correctly just update the weight vector by the derived regularizer term \n",
    "                #w=w+η(−2λw)\n",
    "                w = w + eta * (-2  *(1/epoch)* w)\n",
    "    return w\n"
   ]
  },
  {
   "cell_type": "code",
   "execution_count": 20,
   "metadata": {},
   "outputs": [],
   "source": [
    "import numpy as np\n",
    "\n",
    "X = np.array([\n",
    "    [3,1,-1],\n",
    "    [3,-1,-1],\n",
    "    [6,1,-1],\n",
    "    [6,-1,-1],\n",
    "    [1,0,-1],\n",
    "    [0,1,-1],\n",
    "    [0,-1,-1],\n",
    "    [-1,0,-1],\n",
    "])\n",
    "\n",
    "y = np.array([-1,-1,-1,-1,+1,+1,+1,+1])"
   ]
  },
  {
   "cell_type": "code",
   "execution_count": 21,
   "metadata": {},
   "outputs": [
    {
     "name": "stdout",
     "output_type": "stream",
     "text": [
      "[-2.46183374 -0.59148133 -5.26680359]\n"
     ]
    }
   ],
   "source": [
    "w = svm_sgd(X,y)\n",
    "print(w)"
   ]
  },
  {
   "cell_type": "code",
   "execution_count": null,
   "metadata": {},
   "outputs": [],
   "source": [
    "The weight vector of the SVM including the bias term after 100000 epochs is ( -2.46, -0.59, -5.26)\n",
    "\n",
    "The weight vector is ( -2.46, -0.59) and the bias term is the third entry -5.26.\n",
    "\n",
    "3,1 = 3 * -2.46 + 1 * -0.59 + 5.26 = sign(-2.71) = -1\n",
    "3,-1 = 3 * -2.46 + -1 * -0.59 + 5.26 = sign(-1.53) = -1\n",
    "6,1 = 6 * -2.46 + 1 * -0.59 + 5.26 = sign(-10.09) = -1\n",
    "6,-1 = 6 * -2.46 + -1 * -0.59 + 5.26 = sign(-8.91) = -1\n",
    "1,0 = 1 * -2.46 + 0 * -0.59 + 5.26 = sign(2.8) = +1\n",
    "0,1= 0 * -2.46 + 1 * -0.59 + 5.26 = sign(4.67) = +1\n",
    "0,-1= 0 * -2.46 + -1 * -0.59 + 5.26 = sign(5.85) = +1\n",
    "-1,0 = -1 * -2.46 + 0 * -0.59 + 5.26 = sign(7.72) = +1"
   ]
  }
 ],
 "metadata": {
  "kernelspec": {
   "display_name": "Python 3",
   "language": "python",
   "name": "python3"
  },
  "language_info": {
   "codemirror_mode": {
    "name": "ipython",
    "version": 3
   },
   "file_extension": ".py",
   "mimetype": "text/x-python",
   "name": "python",
   "nbconvert_exporter": "python",
   "pygments_lexer": "ipython3",
   "version": "3.5.2"
  }
 },
 "nbformat": 4,
 "nbformat_minor": 1
}

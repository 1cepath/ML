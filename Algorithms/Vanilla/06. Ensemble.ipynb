{
 "cells": [
  {
   "cell_type": "raw",
   "metadata": {},
   "source": [
    "An ensemble method is a technique that combines the predictions from multiple machine learning algorithms together to make more accurate predictions than any individual model. \n"
   ]
  },
  {
   "cell_type": "raw",
   "metadata": {},
   "source": [
    "Bagging is a simple ensembling technique in which we build many independent predictors/models/learners and combine them using some model averaging techniques. (e.g. weighted average, majority vote or normal average). We typically take random sub-sample/bootstrap of data for each model, so that all the models are little different from each other.\n",
    "\n",
    "Boosting Algorithms\n",
    "1. Random Forest\n"
   ]
  },
  {
   "cell_type": "raw",
   "metadata": {},
   "source": [
    "Boosting is an ensemble technique in which the predictors are not made independently, but sequentially. Building a model from the training data, then creating a second model that attempts to correct the errors from the first model. Models are added until the training set is predicted perfectly or a maximum number of models are added.  This technique employs the logic in which the subsequent predictors learn from the mistakes of the previous predictors.\n",
    "\n",
    "Boosting Algorithms\n",
    "1. AdaBoost (Adaptive Boosting)\n",
    "2. Gradient Tree Boosting\n",
    "3. XGBoost"
   ]
  },
  {
   "cell_type": "raw",
   "metadata": {},
   "source": [
    "\n",
    "Stacking is known to be an ensemble learning technique this helps combine the multiple classifications or regression models via a meta-classifier or it could be a meta-regresser. Well, these base level models are well trained. And this completely depends on a training set and after that, the meta-model is trained in a way which is based on the outputs that are received by the base level model as features."
   ]
  }
 ],
 "metadata": {
  "kernelspec": {
   "display_name": "Python 3",
   "language": "python",
   "name": "python3"
  },
  "language_info": {
   "codemirror_mode": {
    "name": "ipython",
    "version": 3
   },
   "file_extension": ".py",
   "mimetype": "text/x-python",
   "name": "python",
   "nbconvert_exporter": "python",
   "pygments_lexer": "ipython3",
   "version": "3.5.2"
  }
 },
 "nbformat": 4,
 "nbformat_minor": 2
}

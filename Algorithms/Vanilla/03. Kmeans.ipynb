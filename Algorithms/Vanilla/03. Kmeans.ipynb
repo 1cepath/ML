{
 "cells": [
  {
   "cell_type": "code",
   "execution_count": null,
   "metadata": {},
   "outputs": [],
   "source": [
    "Height\tWeight\n",
    "---------------\n",
    "185\t     72\n",
    "170\t     56\n",
    "168\t     60\n",
    "179\t     68\n",
    "182\t     72\n",
    "  \n",
    "Initial seed values\n",
    "c1x1\tc1x2\tc2x1\tc2x2\n",
    "185\t     72\t     170\t56\n",
    "\n",
    "dc1 = sqrt(sqr(c1x1-x1) + sqr(c2x2 - x2))\n",
    "dc2 = sqrt(sqr(c2x1-x1) + sqr(c2x2 - x2))\n",
    "\n",
    "Index\tx1\tx2\tc1x1\tc1x2\tc2x1\tc2x2\tdc1\t    dc2\t    y\t\"newc1x1\"\t\"newc1x2\"\t\"newc2x1\"\t\"newc2x2\"\n",
    "------------------------------------------------------------------------------------------------------------------\n",
    "0\t    185\t72\t185\t    72\t    170\t    56\t    0\t   21.93\tc1\t  185\t     72\t         170\t     56\n",
    "1\t    170\t56\t185\t    72\t    170\t    56\t   21.93\t0\t    c2\t  185\t     72\t         170\t     56\n",
    "2\t    168\t60\t185\t    72\t    170\t    56\t   20.808\t4.472\tc2\t  185\t     72\t         169\t     58\n",
    "3\t    179\t68\t185\t    72\t    169\t    58\t   7.211\t14.142\tc1\t\t\t\t\n",
    "\n",
    "for data row index = 2\n",
    "-----------------------\n",
    " Now revise Cluster Centroid – mean value Height and Weight as Custer Centroids. Addition is only to cluster 2, because it was assigned to cluster 2\n",
    " \n",
    "Cluster\t  Updated          Centroid\t\n",
    "\t      Height\t       Weight\n",
    "K=1\t      185\t              72\n",
    "K=2\t     (170+168)/2 = 169\t(56+60)/2 = 58\n",
    "\n",
    "for data row index = 3\n",
    "-------------\n",
    "Cluster\tUpdated Centroid\t\n",
    "\tHeight\tWeight\n",
    "K=1\t182\t70.6667\n",
    "K=2\t169\t58\n"
   ]
  },
  {
   "cell_type": "code",
   "execution_count": null,
   "metadata": {},
   "outputs": [],
   "source": [
    "\n",
    "Cluster\tInitial Centroid\t\n",
    "K =2   \tHeight\tWeight\n",
    "--------------------------\n",
    "K1  \t185\t     72\n",
    "K2\t    170\t     56\n",
    "\n",
    "Euclidian Distance from Cluster 1\tEuclidian Distance from Cluster 2\tAssignment\n",
    "(185-185)2+(72-72)2=0                (185-170)2+(72-56)2= 21.93      \t1\n",
    "(170-185)2+(56-72)2= 21.93           (170-170)2+(56-56)2=0           \t2\n",
    "(168-185)2+(60-72)2=20.808           (168-185)2+(60-72)2= 4.472      \t2  (Since distance is minimum from cluster 2)        "
   ]
  },
  {
   "cell_type": "raw",
   "metadata": {},
   "source": []
  }
 ],
 "metadata": {
  "kernelspec": {
   "display_name": "Python 3",
   "language": "python",
   "name": "python3"
  },
  "language_info": {
   "codemirror_mode": {
    "name": "ipython",
    "version": 3
   },
   "file_extension": ".py",
   "mimetype": "text/x-python",
   "name": "python",
   "nbconvert_exporter": "python",
   "pygments_lexer": "ipython3",
   "version": "3.5.2"
  }
 },
 "nbformat": 4,
 "nbformat_minor": 1
}

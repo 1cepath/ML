{
 "cells": [
  {
   "cell_type": "raw",
   "metadata": {},
   "source": [
    "You can rotate the X, Y, Z axes along with all the data points in 3D such that the X-axis aligns with the first principal component, the Y-axis aligns with the second principal component and the Z-axis aligns with the third principal components. By applying this rotation we can transform any point (x, y, z) in the XYZ coordinate system to a point (x’, y’, z’) in the new X’Y’Z’ coordinate system. It is the same information presented in a different coordinate system, but the beauty of this new coordinate system X’Y’Z’ is that the information contained in X’ is maximum, followed by Y’ and then Z’. If you drop the coordinate z’ for every point (x’, y’, z’) we still retain most of the information, but now we need only two dimensions to represent this data."
   ]
  },
  {
   "cell_type": "raw",
   "metadata": {},
   "source": [
    "Eigen vector of a matrix A is a vector represented by a matrix X such that when X is multiplied with matrix A, then the direction of the resultant matrix remains same as vector X.\n",
    "\n",
    "AX = λX\n",
    "\n",
    "A is any arbitrary matrix, \n",
    "λ are eigen values\n",
    "X is an eigen vector corresponding to each eigen value.\n",
    "\n",
    "The eigenvectors and eigenvalues of a covariance (or correlation) matrix represent the \"core\" of a PCA: The eigenvectors (principal components) determine the directions of the new feature space, and the eigenvalues determine their magnitude. In other words, the eigenvalues explain the variance of the data along the new feature axes.\n",
    "\n",
    "The eigenvectors with the lowest eigenvalues bear the least information about the distribution of the data; those are the ones can be dropped."
   ]
  },
  {
   "cell_type": "code",
   "execution_count": null,
   "metadata": {},
   "outputs": [],
   "source": [
    "3\t4\t-2     1           1\n",
    "1\t4\t-1  x  1   =  3 x  1\n",
    "2\t6\t-1     2           2\n",
    "\n",
    "3 is an eigenvalue\n",
    "3,4,2   \n",
    "1,4,-1  eigenvector \n",
    "2,6,-1"
   ]
  },
  {
   "cell_type": "code",
   "execution_count": 119,
   "metadata": {},
   "outputs": [
    {
     "name": "stdout",
     "output_type": "stream",
     "text": [
      "[[ 1  2  3]\n",
      " [ 4  5  6]\n",
      " [ 3  8  9]\n",
      " [10 11 12]]\n"
     ]
    }
   ],
   "source": [
    "from numpy import array\n",
    "from numpy import mean\n",
    "from numpy import cov\n",
    "from numpy.linalg import eig\n",
    "\n",
    "# define a matrix\n",
    "A = array([[1, 2,3], \n",
    "           [4,5,6], \n",
    "           [3,8,9],\n",
    "          [10,11,12]])\n",
    "print(A)"
   ]
  },
  {
   "cell_type": "code",
   "execution_count": 120,
   "metadata": {},
   "outputs": [
    {
     "name": "stdout",
     "output_type": "stream",
     "text": [
      "[4.5 6.5 7.5]\n"
     ]
    }
   ],
   "source": [
    "# calculate the mean of each column\n",
    "M = mean(A.T, axis=1)\n",
    "print(M)"
   ]
  },
  {
   "cell_type": "code",
   "execution_count": 121,
   "metadata": {},
   "outputs": [
    {
     "name": "stdout",
     "output_type": "stream",
     "text": [
      "[[-3.5 -4.5 -4.5]\n",
      " [-0.5 -1.5 -1.5]\n",
      " [-1.5  1.5  1.5]\n",
      " [ 5.5  4.5  4.5]]\n"
     ]
    }
   ],
   "source": [
    "# center columns by subtracting column means\n",
    "C = A - M\n",
    "\n",
    "print(C)"
   ]
  },
  {
   "cell_type": "code",
   "execution_count": 122,
   "metadata": {},
   "outputs": [
    {
     "name": "stdout",
     "output_type": "stream",
     "text": [
      "[[15. 13. 13.]\n",
      " [13. 15. 15.]\n",
      " [13. 15. 15.]]\n"
     ]
    }
   ],
   "source": [
    "# calculate covariance matrix of centered matrix\n",
    "V = cov(C.T)\n",
    "print(V)"
   ]
  },
  {
   "cell_type": "code",
   "execution_count": 123,
   "metadata": {},
   "outputs": [
    {
     "name": "stdout",
     "output_type": "stream",
     "text": [
      "[[-8.29977326e-01  5.57797130e-01 -4.75809868e-16]\n",
      " [ 3.94422133e-01  5.86882596e-01 -7.07106781e-01]\n",
      " [ 3.94422133e-01  5.86882596e-01  7.07106781e-01]]\n",
      "[ 2.64427035 42.35572965  0.        ]\n"
     ]
    }
   ],
   "source": [
    "# eigendecomposition of covariance matrix\n",
    "eig_vals, eig_vecs  =  eig(V)\n",
    "print(eig_vecs)\n",
    "print(eig_vals)\n"
   ]
  },
  {
   "cell_type": "raw",
   "metadata": {},
   "source": [
    "If all eigenvalues have a similar value, then we know that the existing representation may already be reasonably compressed or dense and that the projection may offer little. If there are eigenvalues close to zero, they represent components or axes of B that may be discarded."
   ]
  },
  {
   "cell_type": "code",
   "execution_count": 124,
   "metadata": {},
   "outputs": [
    {
     "name": "stdout",
     "output_type": "stream",
     "text": [
      "[[-6.44878556e-01 -7.23423331e+00 -8.32667268e-16]\n",
      " [-7.68277736e-01 -2.03954635e+00 -4.99600361e-16]\n",
      " [ 2.42823239e+00  9.23952092e-01  1.60982339e-15]\n",
      " [-1.01507610e+00  8.34982757e+00 -5.55111512e-17]]\n"
     ]
    }
   ],
   "source": [
    "# project data\n",
    "P = eig_vecs.T.dot(C.T)\n",
    "print(P.T)"
   ]
  },
  {
   "cell_type": "code",
   "execution_count": null,
   "metadata": {},
   "outputs": [],
   "source": []
  }
 ],
 "metadata": {
  "kernelspec": {
   "display_name": "Python 3",
   "language": "python",
   "name": "python3"
  },
  "language_info": {
   "codemirror_mode": {
    "name": "ipython",
    "version": 3
   },
   "file_extension": ".py",
   "mimetype": "text/x-python",
   "name": "python",
   "nbconvert_exporter": "python",
   "pygments_lexer": "ipython3",
   "version": "3.5.2"
  }
 },
 "nbformat": 4,
 "nbformat_minor": 2
}

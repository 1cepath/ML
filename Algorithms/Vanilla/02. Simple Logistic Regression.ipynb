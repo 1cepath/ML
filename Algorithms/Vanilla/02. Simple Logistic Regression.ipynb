{
 "cells": [
  {
   "cell_type": "markdown",
   "metadata": {},
   "source": [
    "Sigmoid() Function\n",
    "--------------------------------------------------------\n",
    "a mathematical function known for its typical \"S\" shape.\n",
    "a special case of the logistic function \n",
    "\n",
    "s(y) = 1 / (1 + e^-y)\n",
    "     = 1 / (1 + 2.71828^(-y))\n",
    "\n",
    "This function ensures that our output values will fall between 0 and 1, for any value of x. "
   ]
  },
  {
   "cell_type": "raw",
   "metadata": {},
   "source": [
    "X\tSig(x)\n",
    "------------------\n",
    "-5\t0.006692850924\n",
    "-4\t0.01798620996\n",
    "-3\t0.04742587318\n",
    "-2\t0.119202922\n",
    "-1\t0.2689414214\n",
    "0\t0.5\n",
    "1\t0.7310585786\n",
    "2\t0.880797078\n",
    "3\t0.9525741268\n",
    "4\t0.98201379\n",
    "5\t0.9933071491\n"
   ]
  },
  {
   "cell_type": "raw",
   "metadata": {},
   "source": [
    "diameter  fruit\n",
    "-------------------------\n",
    "8.0       melon\n",
    "5.0       melon\n",
    "3.0       orange\n",
    "2.0       orange\n",
    "1.0       orange\n",
    "\n",
    "Convert Categoral data to numeric data\n",
    "x         y\n",
    "-------------------------\n",
    "8.0       1\n",
    "5.0       1\n",
    "3.0       0\n",
    "2.0       0\n",
    "1.0       0\n",
    "\n",
    "c    m   x    y     py= 1 / (1  + e^-(mx+c))                                 e=(y-py)^2\n",
    "-----------------------------------------------------------------------------------------------\n",
    "-7   2   8    1     1 / (1 + 2.71828^(-(-7 + 2 x 8))) = 0.99987660467        1.52264075e-8\n",
    "-7   2   5    1     1 / (1 + 2.71828^(-(-7 + 2 x 5))) = 0.95257403565        0.00224922209\n",
    "-7   2   3    0     1 / (1 + 2.71828^(-(-7 + 2 x 3))) = 0.26894155362        0.07232955926\n",
    "-7   2   2    0     1 / (1 + 2.71828^(-(-7 + 2 x 2))) = 0.04742596434        0.00224922209\n",
    "-7   2   1    0     1 / (1 + 2.71828^(-(-7 + 2 x 1))) = 0.00669287328        0.00004479455\n",
    "-------------------------------------------------------------------------------------------------\n",
    "                                                                   cost=(0.07687281321)/2 * 5=0.00768728132\n"
   ]
  },
  {
   "cell_type": "raw",
   "metadata": {},
   "source": [
    "Class imbalance significantly impacts logistic regression’s class predictions if you don’t account for the imbalance in the decision function."
   ]
  }
 ],
 "metadata": {
  "kernelspec": {
   "display_name": "Python 3",
   "language": "python",
   "name": "python3"
  },
  "language_info": {
   "codemirror_mode": {
    "name": "ipython",
    "version": 3
   },
   "file_extension": ".py",
   "mimetype": "text/x-python",
   "name": "python",
   "nbconvert_exporter": "python",
   "pygments_lexer": "ipython3",
   "version": "3.5.2"
  }
 },
 "nbformat": 4,
 "nbformat_minor": 1
}

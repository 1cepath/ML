{
  "nbformat": 4,
  "nbformat_minor": 0,
  "metadata": {
    "colab": {
      "name": "LSTM Sequence to One.ipynb",
      "version": "0.3.2",
      "provenance": [],
      "include_colab_link": true
    },
    "kernelspec": {
      "name": "python3",
      "display_name": "Python 3"
    }
  },
  "cells": [
    {
      "cell_type": "markdown",
      "metadata": {
        "id": "view-in-github",
        "colab_type": "text"
      },
      "source": [
        "<a href=\"https://colab.research.google.com/github/getmubarak/ML/blob/master/Algorithms/Keras/LSTM/Sequence_to_One.ipynb\" target=\"_parent\"><img src=\"https://colab.research.google.com/assets/colab-badge.svg\" alt=\"Open In Colab\"/></a>"
      ]
    },
    {
      "cell_type": "code",
      "metadata": {
        "id": "UljuNqV5ydDe",
        "colab_type": "code",
        "colab": {}
      },
      "source": [
        "x=[[[[1],[2],[3]],[[2],[3],[4]],[[3],[4],[5]],[[4],[5],[6]],[[6],[7],[8]],[[7],[8],[9]],[[8],[9],[10]],[[9],[10],[11]]]]\n",
        "y=[100,200,300,400,600,700,800,900]"
      ],
      "execution_count": 0,
      "outputs": []
    },
    {
      "cell_type": "code",
      "metadata": {
        "id": "wE-i98Hiy7T6",
        "colab_type": "code",
        "colab": {
          "base_uri": "https://localhost:8080/",
          "height": 235
        },
        "outputId": "29278ec2-1e74-48b8-a751-61ac191ca098"
      },
      "source": [
        "#Load Packages\n",
        "import numpy as np\n",
        "from keras.models import Sequential\n",
        "from keras.layers import Dense\n",
        "from keras.layers import LSTM\n",
        "from keras.layers import Activation\n",
        "\n",
        "model = Sequential()\n",
        "model.add(LSTM(8,input_shape=(3,1),return_sequences=False))#True = many to many\n",
        "model.add(Dense(2,kernel_initializer='normal',activation='linear'))\n",
        "model.add(Dense(1,kernel_initializer='normal',activation='linear'))\n",
        "model.compile(loss='mse',optimizer ='adam',metrics=['accuracy'])\n",
        "\n",
        "model.summary()"
      ],
      "execution_count": 95,
      "outputs": [
        {
          "output_type": "stream",
          "text": [
            "_________________________________________________________________\n",
            "Layer (type)                 Output Shape              Param #   \n",
            "=================================================================\n",
            "lstm_24 (LSTM)               (None, 8)                 320       \n",
            "_________________________________________________________________\n",
            "dense_32 (Dense)             (None, 2)                 18        \n",
            "_________________________________________________________________\n",
            "dense_33 (Dense)             (None, 1)                 3         \n",
            "=================================================================\n",
            "Total params: 341\n",
            "Trainable params: 341\n",
            "Non-trainable params: 0\n",
            "_________________________________________________________________\n"
          ],
          "name": "stdout"
        }
      ]
    },
    {
      "cell_type": "code",
      "metadata": {
        "id": "mEMoSrq0zts9",
        "colab_type": "code",
        "colab": {}
      },
      "source": [
        "model.fit(x,y,epochs=2000,batch_size=2,validation_split=0.05,verbose=0);"
      ],
      "execution_count": 0,
      "outputs": []
    },
    {
      "cell_type": "code",
      "metadata": {
        "id": "PdOSx7iT1ZH5",
        "colab_type": "code",
        "colab": {
          "base_uri": "https://localhost:8080/",
          "height": 34
        },
        "outputId": "731a5376-ac90-499c-df49-292cbc32dba6"
      },
      "source": [
        "input=[[[[5],[6],[7]]]]\n",
        "result = model.predict(input)\n",
        "print(input, \" \", result)\n"
      ],
      "execution_count": 99,
      "outputs": [
        {
          "output_type": "stream",
          "text": [
            "[[[[5], [6], [7]]]]   [[496.69302]]\n"
          ],
          "name": "stdout"
        }
      ]
    }
  ]
}
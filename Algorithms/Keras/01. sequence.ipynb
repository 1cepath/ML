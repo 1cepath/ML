{
 "cells": [
  {
   "cell_type": "code",
   "execution_count": null,
   "metadata": {},
   "outputs": [],
   "source": [
    "import numpy as np\n",
    "from keras.models import Sequential\n",
    "from keras.layers import Dense\n",
    "from keras.layers import LSTM\n",
    "from keras.layers import Activation"
   ]
  },
  {
   "cell_type": "raw",
   "metadata": {},
   "source": [
    "1. Sequnce to one"
   ]
  },
  {
   "cell_type": "code",
   "execution_count": null,
   "metadata": {},
   "outputs": [],
   "source": [
    "x=[[[[1],[2],[3]],[[2],[3],[4]],[[3],[4],[5]],[[4],[5],[6]],[[6],[7],[8]],[[7],[8],[9]],[[8],[9],[10]],[[9],[10],[11]]]]\n",
    "y=[100,200,300,400,600,700,800,900]"
   ]
  },
  {
   "cell_type": "code",
   "execution_count": null,
   "metadata": {},
   "outputs": [],
   "source": [
    "model = Sequential()\n",
    "model.add(LSTM(8,input_shape=(3,1),return_sequences=False))#True = many to many\n",
    "model.add(Dense(2,kernel_initializer='normal',activation='linear'))\n",
    "model.add(Dense(1,kernel_initializer='normal',activation='linear'))\n",
    "model.compile(loss='mse',optimizer ='adam',metrics=['accuracy'])\n",
    "\n",
    "model.summary()"
   ]
  },
  {
   "cell_type": "code",
   "execution_count": null,
   "metadata": {},
   "outputs": [],
   "source": [
    "model.fit(x,y,epochs=2000,batch_size=2,validation_split=0.05,verbose=0)"
   ]
  },
  {
   "cell_type": "code",
   "execution_count": null,
   "metadata": {},
   "outputs": [],
   "source": [
    "input=[[[[5],[6],[7]]]]\n",
    "result = model.predict(input)\n",
    "print(input, \" \", result)"
   ]
  },
  {
   "cell_type": "raw",
   "metadata": {},
   "source": [
    "2. sequence to sequence"
   ]
  },
  {
   "cell_type": "code",
   "execution_count": null,
   "metadata": {},
   "outputs": [],
   "source": [
    "x2=[[[[1],[2],[3]],[[2],[3],[4]],[[3],[4],[5]],[[4],[5],[6]],[[6],[7],[8]],[[7],[8],[9]],[[8],[9],[10]],[[9],[10],[11]]]]\n",
    "y2=[[[[100],[200],[300]],[[200],[300],[400]],[[300],[400],[500]],[[400],[500],[600]],[[600],[700],[800]],[[700],[800],[900]],[[800],[900],[1000]],[[900],[1000],[1100]]]]"
   ]
  },
  {
   "cell_type": "code",
   "execution_count": null,
   "metadata": {},
   "outputs": [],
   "source": [
    "model2 = Sequential()\n",
    "model2.add(LSTM(8,input_shape=(3,1),return_sequences=True))#True = many to many\n",
    "model2.add(Dense(2,kernel_initializer='normal',activation='linear'))\n",
    "model2.add(Dense(1,kernel_initializer='normal',activation='linear'))\n",
    "model2.compile(loss='mse',optimizer ='adam',metrics=['accuracy'])\n",
    "\n",
    "model2.summary()"
   ]
  },
  {
   "cell_type": "code",
   "execution_count": null,
   "metadata": {},
   "outputs": [],
   "source": [
    "model2.fit(x2,y2,epochs=2000,batch_size=2,validation_split=0.05,verbose=0);"
   ]
  },
  {
   "cell_type": "code",
   "execution_count": null,
   "metadata": {},
   "outputs": [],
   "source": [
    "input=[[[[5],[6],[7]]]]\n",
    "result = model.predict(input)\n",
    "print(input, \" \", result)"
   ]
  }
 ],
 "metadata": {
  "kernelspec": {
   "display_name": "Python 3",
   "language": "python",
   "name": "python3"
  },
  "language_info": {
   "codemirror_mode": {
    "name": "ipython",
    "version": 3
   },
   "file_extension": ".py",
   "mimetype": "text/x-python",
   "name": "python",
   "nbconvert_exporter": "python",
   "pygments_lexer": "ipython3",
   "version": "3.5.2"
  }
 },
 "nbformat": 4,
 "nbformat_minor": 2
}

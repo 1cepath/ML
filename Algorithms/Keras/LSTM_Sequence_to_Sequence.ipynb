{
  "nbformat": 4,
  "nbformat_minor": 0,
  "metadata": {
    "colab": {
      "name": "LSTM Sequence to Sequence.ipynb",
      "version": "0.3.2",
      "provenance": [],
      "include_colab_link": true
    },
    "kernelspec": {
      "name": "python3",
      "display_name": "Python 3"
    }
  },
  "cells": [
    {
      "cell_type": "markdown",
      "metadata": {
        "id": "view-in-github",
        "colab_type": "text"
      },
      "source": [
        "<a href=\"https://colab.research.google.com/github/getmubarak/ML/blob/master/Algorithms/Keras/LSTM_Sequence_to_Sequence.ipynb\" target=\"_parent\"><img src=\"https://colab.research.google.com/assets/colab-badge.svg\" alt=\"Open In Colab\"/></a>"
      ]
    },
    {
      "cell_type": "code",
      "metadata": {
        "id": "UljuNqV5ydDe",
        "colab_type": "code",
        "colab": {}
      },
      "source": [
        "x=[[[[1],[2],[3]],[[2],[3],[4]],[[3],[4],[5]],[[4],[5],[6]],[[6],[7],[8]],[[7],[8],[9]],[[8],[9],[10]],[[9],[10],[11]]]]\n",
        "y=[[[[100],[200],[300]],[[200],[300],[400]],[[300],[400],[500]],[[400],[500],[600]],[[600],[700],[800]],[[700],[800],[900]],[[800],[900],[1000]],[[900],[1000],[1100]]]]\n",
        "    "
      ],
      "execution_count": 0,
      "outputs": []
    },
    {
      "cell_type": "code",
      "metadata": {
        "id": "wE-i98Hiy7T6",
        "colab_type": "code",
        "outputId": "f194d4bd-d628-467d-f261-5826c835572c",
        "colab": {
          "base_uri": "https://localhost:8080/",
          "height": 238
        }
      },
      "source": [
        "#Load Packages\n",
        "import numpy as np\n",
        "from keras.models import Sequential\n",
        "from keras.layers import Dense\n",
        "from keras.layers import LSTM\n",
        "from keras.layers import Activation\n",
        "\n",
        "model = Sequential()\n",
        "model.add(LSTM(8,input_shape=(3,1),return_sequences=True))#True = many to many\n",
        "model.add(Dense(2,kernel_initializer='normal',activation='linear'))\n",
        "model.add(Dense(1,kernel_initializer='normal',activation='linear'))\n",
        "model.compile(loss='mse',optimizer ='adam',metrics=['accuracy'])\n",
        "\n",
        "model.summary()"
      ],
      "execution_count": 117,
      "outputs": [
        {
          "output_type": "stream",
          "text": [
            "_________________________________________________________________\n",
            "Layer (type)                 Output Shape              Param #   \n",
            "=================================================================\n",
            "lstm_28 (LSTM)               (None, 3, 8)              320       \n",
            "_________________________________________________________________\n",
            "dense_39 (Dense)             (None, 3, 2)              18        \n",
            "_________________________________________________________________\n",
            "dense_40 (Dense)             (None, 3, 1)              3         \n",
            "=================================================================\n",
            "Total params: 341\n",
            "Trainable params: 341\n",
            "Non-trainable params: 0\n",
            "_________________________________________________________________\n"
          ],
          "name": "stdout"
        }
      ]
    },
    {
      "cell_type": "code",
      "metadata": {
        "id": "mEMoSrq0zts9",
        "colab_type": "code",
        "colab": {}
      },
      "source": [
        "input=[[[[5],[6],[7]]]]\n",
        "output=[[[[50],[60],[70]]]]\n",
        "\n",
        "model.fit(x,y,epochs=2000,batch_size=2,validation_split=0.05,verbose=0);"
      ],
      "execution_count": 0,
      "outputs": []
    },
    {
      "cell_type": "code",
      "metadata": {
        "id": "PdOSx7iT1ZH5",
        "colab_type": "code",
        "outputId": "c7c4bc2f-e3be-4393-f471-8e877c216193",
        "colab": {
          "base_uri": "https://localhost:8080/",
          "height": 68
        }
      },
      "source": [
        "\n",
        "result = model.predict(input)\n",
        "print(input, \" \", result)\n"
      ],
      "execution_count": 119,
      "outputs": [
        {
          "output_type": "stream",
          "text": [
            "[[[[5], [6], [7]]]]   [[[524.81647]\n",
            "  [633.6726 ]\n",
            "  [709.8464 ]]]\n"
          ],
          "name": "stdout"
        }
      ]
    },
    {
      "cell_type": "code",
      "metadata": {
        "id": "nVyU08ziSsb3",
        "colab_type": "code",
        "colab": {}
      },
      "source": [
        ""
      ],
      "execution_count": 0,
      "outputs": []
    }
  ]
}